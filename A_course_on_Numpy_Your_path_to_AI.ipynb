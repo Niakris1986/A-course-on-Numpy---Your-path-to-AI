{
  "nbformat": 4,
  "nbformat_minor": 0,
  "metadata": {
    "colab": {
      "provenance": []
    },
    "kernelspec": {
      "name": "python3",
      "display_name": "Python 3"
    },
    "language_info": {
      "name": "python"
    }
  },
  "cells": [
    {
      "cell_type": "markdown",
      "source": [
        "знакомство с numpy"
      ],
      "metadata": {
        "id": "M6tBz1v7RAJW"
      }
    },
    {
      "cell_type": "code",
      "execution_count": null,
      "metadata": {
        "id": "-2yj_iuoQnAu"
      },
      "outputs": [],
      "source": [
        "import numpy as np"
      ]
    },
    {
      "cell_type": "code",
      "source": [
        "# @title Одномерный массив\n",
        "np.arange(10)"
      ],
      "metadata": {
        "colab": {
          "base_uri": "https://localhost:8080/"
        },
        "id": "8XkfaqQJTsHy",
        "outputId": "0ed4e487-f3f0-49e0-f73e-ae6920723de9"
      },
      "execution_count": null,
      "outputs": [
        {
          "output_type": "execute_result",
          "data": {
            "text/plain": [
              "array([0, 1, 2, 3, 4, 5, 6, 7, 8, 9])"
            ]
          },
          "metadata": {},
          "execution_count": 2
        }
      ]
    },
    {
      "cell_type": "markdown",
      "source": [
        "двумерный массив"
      ],
      "metadata": {
        "id": "mHYHb3v6UYHk"
      }
    },
    {
      "cell_type": "code",
      "source": [
        "np.arange(20).reshape(4, 5)\n",
        "# 5 - columns"
      ],
      "metadata": {
        "colab": {
          "base_uri": "https://localhost:8080/"
        },
        "id": "qOuPoUHfTzKU",
        "outputId": "ceefd7cf-dd99-482e-c6b2-732e77c0a316"
      },
      "execution_count": null,
      "outputs": [
        {
          "output_type": "execute_result",
          "data": {
            "text/plain": [
              "array([[ 0,  1,  2,  3,  4],\n",
              "       [ 5,  6,  7,  8,  9],\n",
              "       [10, 11, 12, 13, 14],\n",
              "       [15, 16, 17, 18, 19]])"
            ]
          },
          "metadata": {},
          "execution_count": 3
        }
      ]
    },
    {
      "cell_type": "markdown",
      "source": [
        "трехмерный массив"
      ],
      "metadata": {
        "id": "NCCKclzbUrLZ"
      }
    },
    {
      "cell_type": "code",
      "source": [
        "np.arange(12).reshape(3, 2, 2)"
      ],
      "metadata": {
        "colab": {
          "base_uri": "https://localhost:8080/"
        },
        "id": "UUR8Yc_gUWck",
        "outputId": "9f0cdc74-5ae5-42df-cd74-05d5d7c3b80a"
      },
      "execution_count": null,
      "outputs": [
        {
          "output_type": "execute_result",
          "data": {
            "text/plain": [
              "array([[[ 0,  1],\n",
              "        [ 2,  3]],\n",
              "\n",
              "       [[ 4,  5],\n",
              "        [ 6,  7]],\n",
              "\n",
              "       [[ 8,  9],\n",
              "        [10, 11]]])"
            ]
          },
          "metadata": {},
          "execution_count": 4
        }
      ]
    },
    {
      "cell_type": "markdown",
      "source": [
        "превращение обычного списка в одномерный array массив"
      ],
      "metadata": {
        "id": "EXLs1gWgU5LO"
      }
    },
    {
      "cell_type": "code",
      "source": [
        "np.array([1, 2, 3, 4, 5])"
      ],
      "metadata": {
        "colab": {
          "base_uri": "https://localhost:8080/"
        },
        "id": "ZH64ZvfcU4cj",
        "outputId": "fb0f891b-d609-4ca5-bd10-a8bc9c1f2a24"
      },
      "execution_count": null,
      "outputs": [
        {
          "output_type": "execute_result",
          "data": {
            "text/plain": [
              "array([1, 2, 3, 4, 5])"
            ]
          },
          "metadata": {},
          "execution_count": 5
        }
      ]
    },
    {
      "cell_type": "markdown",
      "source": [
        "типы данных в массиве"
      ],
      "metadata": {
        "id": "4xOcqm2iVKdM"
      }
    },
    {
      "cell_type": "markdown",
      "source": [
        "тип int"
      ],
      "metadata": {
        "id": "qduHa7eHVTrd"
      }
    },
    {
      "cell_type": "code",
      "source": [
        "arr = np.array([1, 2, 3, 4, 5], dtype=np.int64)"
      ],
      "metadata": {
        "id": "G5qi6fRJXK_j"
      },
      "execution_count": null,
      "outputs": []
    },
    {
      "cell_type": "markdown",
      "source": [
        "тип float"
      ],
      "metadata": {
        "id": "FnUnaeH1VkCR"
      }
    },
    {
      "cell_type": "code",
      "source": [
        "np.array([1, 2, 3, 4, 5], dtype=np.float64)"
      ],
      "metadata": {
        "colab": {
          "base_uri": "https://localhost:8080/"
        },
        "id": "DsylbpJbVnJL",
        "outputId": "c4c8d01f-2b81-48ab-9d8b-eca4b4dc5e0e"
      },
      "execution_count": null,
      "outputs": [
        {
          "output_type": "execute_result",
          "data": {
            "text/plain": [
              "array([1., 2., 3., 4., 5.])"
            ]
          },
          "metadata": {},
          "execution_count": 7
        }
      ]
    },
    {
      "cell_type": "markdown",
      "source": [
        "**Свойство массивов. Функции автозаполнения.**\n",
        "\n",
        "---\n",
        "\n"
      ],
      "metadata": {
        "id": "cUuLsU94XNjT"
      }
    },
    {
      "cell_type": "markdown",
      "source": [],
      "metadata": {
        "id": "syNbCG8qXVam"
      }
    },
    {
      "cell_type": "code",
      "source": [
        "import numpy as np"
      ],
      "metadata": {
        "id": "ooAEjrGokgks"
      },
      "execution_count": null,
      "outputs": []
    },
    {
      "cell_type": "code",
      "source": [
        "np_array = np.array([[1, 2, 3], [2, 3, 4], [3, 4, 5]])"
      ],
      "metadata": {
        "id": "iTEHpg5jkkLe"
      },
      "execution_count": null,
      "outputs": []
    },
    {
      "cell_type": "markdown",
      "source": [
        "количество осей"
      ],
      "metadata": {
        "id": "gQrBK79yk4g5"
      }
    },
    {
      "cell_type": "code",
      "source": [
        "np_array.ndim"
      ],
      "metadata": {
        "colab": {
          "base_uri": "https://localhost:8080/"
        },
        "id": "EnzFsJhlk1Zg",
        "outputId": "49ed60f3-33e5-43d6-c41d-4841f9e79f89"
      },
      "execution_count": null,
      "outputs": [
        {
          "output_type": "execute_result",
          "data": {
            "text/plain": [
              "2"
            ]
          },
          "metadata": {},
          "execution_count": 11
        }
      ]
    },
    {
      "cell_type": "markdown",
      "source": [
        "число элементов"
      ],
      "metadata": {
        "id": "uZdA2O8glAdC"
      }
    },
    {
      "cell_type": "code",
      "source": [
        "np_array.size"
      ],
      "metadata": {
        "colab": {
          "base_uri": "https://localhost:8080/"
        },
        "id": "UdN8L8ePlD36",
        "outputId": "bd2ddef4-4fcf-442e-b32b-55f8bebfdfb7"
      },
      "execution_count": null,
      "outputs": [
        {
          "output_type": "execute_result",
          "data": {
            "text/plain": [
              "9"
            ]
          },
          "metadata": {},
          "execution_count": 12
        }
      ]
    },
    {
      "cell_type": "markdown",
      "source": [
        "число элементов по осям"
      ],
      "metadata": {
        "id": "UQumIV0alJ62"
      }
    },
    {
      "cell_type": "code",
      "source": [
        "np_array.shape"
      ],
      "metadata": {
        "colab": {
          "base_uri": "https://localhost:8080/"
        },
        "id": "CANgGV-2lNAq",
        "outputId": "cd060b76-affd-4e0f-a2d6-f836708dc6ab"
      },
      "execution_count": null,
      "outputs": [
        {
          "output_type": "execute_result",
          "data": {
            "text/plain": [
              "(3, 3)"
            ]
          },
          "metadata": {},
          "execution_count": 13
        }
      ]
    },
    {
      "cell_type": "markdown",
      "source": [
        "изменить форму по осям"
      ],
      "metadata": {
        "id": "DKRb34x8lTmt"
      }
    },
    {
      "cell_type": "code",
      "source": [
        "np_array.shape = 9, 1\n",
        "np_array"
      ],
      "metadata": {
        "colab": {
          "base_uri": "https://localhost:8080/"
        },
        "id": "DWvkbzgllW2u",
        "outputId": "92862a79-1622-4344-f9db-769e0987725b"
      },
      "execution_count": null,
      "outputs": [
        {
          "output_type": "execute_result",
          "data": {
            "text/plain": [
              "array([[1],\n",
              "       [2],\n",
              "       [3],\n",
              "       [2],\n",
              "       [3],\n",
              "       [4],\n",
              "       [3],\n",
              "       [4],\n",
              "       [5]])"
            ]
          },
          "metadata": {},
          "execution_count": 15
        }
      ]
    },
    {
      "cell_type": "markdown",
      "source": [
        "получить тип данных"
      ],
      "metadata": {
        "id": "9X7SQYODlhlP"
      }
    },
    {
      "cell_type": "code",
      "source": [
        "np_array.dtype"
      ],
      "metadata": {
        "colab": {
          "base_uri": "https://localhost:8080/"
        },
        "id": "dDKsy_CVlktr",
        "outputId": "e955b331-7f94-46f3-c82d-c50cb87f194c"
      },
      "execution_count": null,
      "outputs": [
        {
          "output_type": "execute_result",
          "data": {
            "text/plain": [
              "dtype('int64')"
            ]
          },
          "metadata": {},
          "execution_count": 16
        }
      ]
    },
    {
      "cell_type": "markdown",
      "source": [
        "изменить тип данных на новый"
      ],
      "metadata": {
        "id": "YZUttvzTlpg-"
      }
    },
    {
      "cell_type": "code",
      "source": [
        "np_array.dtype = np.int8\n",
        "np_array"
      ],
      "metadata": {
        "colab": {
          "base_uri": "https://localhost:8080/"
        },
        "id": "B808b6XHltAJ",
        "outputId": "ccdfa44b-ef50-4516-aede-0ada3e29a5a5"
      },
      "execution_count": null,
      "outputs": [
        {
          "output_type": "execute_result",
          "data": {
            "text/plain": [
              "array([[1, 0, 0, 0, 0, 0, 0, 0],\n",
              "       [2, 0, 0, 0, 0, 0, 0, 0],\n",
              "       [3, 0, 0, 0, 0, 0, 0, 0],\n",
              "       [2, 0, 0, 0, 0, 0, 0, 0],\n",
              "       [3, 0, 0, 0, 0, 0, 0, 0],\n",
              "       [4, 0, 0, 0, 0, 0, 0, 0],\n",
              "       [3, 0, 0, 0, 0, 0, 0, 0],\n",
              "       [4, 0, 0, 0, 0, 0, 0, 0],\n",
              "       [5, 0, 0, 0, 0, 0, 0, 0]], dtype=int8)"
            ]
          },
          "metadata": {},
          "execution_count": 18
        }
      ]
    },
    {
      "cell_type": "markdown",
      "source": [
        "одномерный массив с 7ю элементами с неопределенными значениями"
      ],
      "metadata": {
        "id": "pSB_7UBRl5kd"
      }
    },
    {
      "cell_type": "code",
      "source": [
        "np.empty(7)"
      ],
      "metadata": {
        "colab": {
          "base_uri": "https://localhost:8080/"
        },
        "id": "KD2Vj680mBkb",
        "outputId": "46890179-b3a8-4351-9f2c-87048e99ba47"
      },
      "execution_count": null,
      "outputs": [
        {
          "output_type": "execute_result",
          "data": {
            "text/plain": [
              "array([4.91256128e-310, 0.00000000e+000, 6.93745773e-310, 6.93745773e-310,\n",
              "       2.37636758e-038, 1.00975163e-028, 7.11454530e-322])"
            ]
          },
          "metadata": {},
          "execution_count": 19
        }
      ]
    },
    {
      "cell_type": "code",
      "source": [
        "np.empty([3, 2, 1], dtype=np.int8)"
      ],
      "metadata": {
        "colab": {
          "base_uri": "https://localhost:8080/"
        },
        "id": "3z1fP5TemHG0",
        "outputId": "e4777c53-0637-4d09-d78b-230522ed0a1a"
      },
      "execution_count": null,
      "outputs": [
        {
          "output_type": "execute_result",
          "data": {
            "text/plain": [
              "array([[[  26],\n",
              "        [-110]],\n",
              "\n",
              "       [[  45],\n",
              "        [ -86]],\n",
              "\n",
              "       [[ 110],\n",
              "        [  90]]], dtype=int8)"
            ]
          },
          "metadata": {},
          "execution_count": 21
        }
      ]
    },
    {
      "cell_type": "code",
      "source": [
        "np.ones([3, 3, 2])"
      ],
      "metadata": {
        "colab": {
          "base_uri": "https://localhost:8080/"
        },
        "id": "a_h1XFBpmWNA",
        "outputId": "6710ffbd-da4c-4a80-a4a5-fb7deb01a56b"
      },
      "execution_count": null,
      "outputs": [
        {
          "output_type": "execute_result",
          "data": {
            "text/plain": [
              "array([[[1., 1.],\n",
              "        [1., 1.],\n",
              "        [1., 1.]],\n",
              "\n",
              "       [[1., 1.],\n",
              "        [1., 1.],\n",
              "        [1., 1.]],\n",
              "\n",
              "       [[1., 1.],\n",
              "        [1., 1.],\n",
              "        [1., 1.]]])"
            ]
          },
          "metadata": {},
          "execution_count": 23
        }
      ]
    },
    {
      "cell_type": "code",
      "source": [
        "np_array = np.empty([3, 2, 2])\n",
        "np_array"
      ],
      "metadata": {
        "colab": {
          "base_uri": "https://localhost:8080/"
        },
        "id": "C9miGjF2mgA-",
        "outputId": "d5c2a06e-1d06-485e-9254-d6fe40646a26"
      },
      "execution_count": null,
      "outputs": [
        {
          "output_type": "execute_result",
          "data": {
            "text/plain": [
              "array([[[6.93666722e-310, 0.00000000e+000],\n",
              "        [0.00000000e+000, 0.00000000e+000]],\n",
              "\n",
              "       [[0.00000000e+000, 0.00000000e+000],\n",
              "        [0.00000000e+000, 0.00000000e+000]],\n",
              "\n",
              "       [[0.00000000e+000, 0.00000000e+000],\n",
              "        [0.00000000e+000, 0.00000000e+000]]])"
            ]
          },
          "metadata": {},
          "execution_count": 26
        }
      ]
    },
    {
      "cell_type": "markdown",
      "source": [
        "Массив со всеми нулями и такого же размера как и массив который в эту функцию передан.\n",
        "\n",
        "\n"
      ],
      "metadata": {
        "id": "TE3SZHXyq5Yj"
      }
    },
    {
      "cell_type": "code",
      "source": [
        "np.zeros_like(np_array)"
      ],
      "metadata": {
        "colab": {
          "base_uri": "https://localhost:8080/"
        },
        "id": "qCCtxmC7mvos",
        "outputId": "5c552acc-1fe7-47b2-b1d6-4c88506f787f"
      },
      "execution_count": null,
      "outputs": [
        {
          "output_type": "execute_result",
          "data": {
            "text/plain": [
              "array([[[0., 0.],\n",
              "        [0., 0.]],\n",
              "\n",
              "       [[0., 0.],\n",
              "        [0., 0.]],\n",
              "\n",
              "       [[0., 0.],\n",
              "        [0., 0.]]])"
            ]
          },
          "metadata": {},
          "execution_count": 27
        }
      ]
    },
    {
      "cell_type": "markdown",
      "source": [
        "наполнение массива 7ками Массив заданного размера и типа данных заполненный переданным в функцию числом."
      ],
      "metadata": {
        "id": "54Vl4HRlm6EL"
      }
    },
    {
      "cell_type": "code",
      "source": [
        "np.full([3, 2, 3],7)"
      ],
      "metadata": {
        "colab": {
          "base_uri": "https://localhost:8080/"
        },
        "id": "JYtOMjTNn_WZ",
        "outputId": "0a8f234f-ce67-4374-e906-7042395977fa"
      },
      "execution_count": null,
      "outputs": [
        {
          "output_type": "execute_result",
          "data": {
            "text/plain": [
              "array([[[7, 7, 7],\n",
              "        [7, 7, 7]],\n",
              "\n",
              "       [[7, 7, 7],\n",
              "        [7, 7, 7]],\n",
              "\n",
              "       [[7, 7, 7],\n",
              "        [7, 7, 7]]])"
            ]
          },
          "metadata": {},
          "execution_count": 28
        }
      ]
    },
    {
      "cell_type": "code",
      "source": [
        "np_array = np.empty([3, 2, 2])\n",
        "np_array"
      ],
      "metadata": {
        "colab": {
          "base_uri": "https://localhost:8080/"
        },
        "id": "5R9ZYHZOoF9r",
        "outputId": "64e89a2f-9b17-41ef-abfc-fe2d0b03d32d"
      },
      "execution_count": null,
      "outputs": [
        {
          "output_type": "execute_result",
          "data": {
            "text/plain": [
              "array([[[4.91256258e-310, 0.00000000e+000],\n",
              "        [0.00000000e+000, 0.00000000e+000]],\n",
              "\n",
              "       [[0.00000000e+000, 0.00000000e+000],\n",
              "        [0.00000000e+000, 0.00000000e+000]],\n",
              "\n",
              "       [[0.00000000e+000, 0.00000000e+000],\n",
              "        [0.00000000e+000, 0.00000000e+000]]])"
            ]
          },
          "metadata": {},
          "execution_count": 30
        }
      ]
    },
    {
      "cell_type": "code",
      "source": [
        "np.full_like(np_array, 7, dtype = np.int32)"
      ],
      "metadata": {
        "colab": {
          "base_uri": "https://localhost:8080/"
        },
        "id": "PC4i1nxhopyZ",
        "outputId": "a7f5dee0-f61a-44ce-c4d0-86ffe750a621"
      },
      "execution_count": null,
      "outputs": [
        {
          "output_type": "execute_result",
          "data": {
            "text/plain": [
              "array([[[7, 7],\n",
              "        [7, 7]],\n",
              "\n",
              "       [[7, 7],\n",
              "        [7, 7]],\n",
              "\n",
              "       [[7, 7],\n",
              "        [7, 7]]], dtype=int32)"
            ]
          },
          "metadata": {},
          "execution_count": 31
        }
      ]
    },
    {
      "cell_type": "markdown",
      "source": [
        "массивы из числовых диапазонов"
      ],
      "metadata": {
        "id": "rjOFf7yHo2S9"
      }
    },
    {
      "cell_type": "code",
      "source": [
        "np.arange(7)"
      ],
      "metadata": {
        "colab": {
          "base_uri": "https://localhost:8080/"
        },
        "id": "304Dpmjpo80a",
        "outputId": "5e25b2f8-ab99-4ba8-ca08-15a1a9b345bf"
      },
      "execution_count": null,
      "outputs": [
        {
          "output_type": "execute_result",
          "data": {
            "text/plain": [
              "array([0, 1, 2, 3, 4, 5, 6])"
            ]
          },
          "metadata": {},
          "execution_count": 32
        }
      ]
    },
    {
      "cell_type": "code",
      "source": [
        "np.arange(7, 17)"
      ],
      "metadata": {
        "colab": {
          "base_uri": "https://localhost:8080/"
        },
        "id": "6lbboivVpBsj",
        "outputId": "3611e52f-11a7-4315-8316-4ba6c290ba8e"
      },
      "execution_count": null,
      "outputs": [
        {
          "output_type": "execute_result",
          "data": {
            "text/plain": [
              "array([ 7,  8,  9, 10, 11, 12, 13, 14, 15, 16])"
            ]
          },
          "metadata": {},
          "execution_count": 33
        }
      ]
    },
    {
      "cell_type": "code",
      "source": [
        "np.arange(7, 17, 3)"
      ],
      "metadata": {
        "colab": {
          "base_uri": "https://localhost:8080/"
        },
        "id": "H-7objc_pGs5",
        "outputId": "098d5f0c-a3f6-499c-ea44-ef8c43125291"
      },
      "execution_count": null,
      "outputs": [
        {
          "output_type": "execute_result",
          "data": {
            "text/plain": [
              "array([ 7, 10, 13, 16])"
            ]
          },
          "metadata": {},
          "execution_count": 34
        }
      ]
    },
    {
      "cell_type": "code",
      "source": [
        "np.arange(7, 10, 0.5)"
      ],
      "metadata": {
        "colab": {
          "base_uri": "https://localhost:8080/"
        },
        "id": "csMm8uRxpMbs",
        "outputId": "8311dee8-a3cd-467f-9c4c-2a1be80cfb9e"
      },
      "execution_count": null,
      "outputs": [
        {
          "output_type": "execute_result",
          "data": {
            "text/plain": [
              "array([7. , 7.5, 8. , 8.5, 9. , 9.5])"
            ]
          },
          "metadata": {},
          "execution_count": 35
        }
      ]
    },
    {
      "cell_type": "markdown",
      "source": [
        "матрицы"
      ],
      "metadata": {
        "id": "WsS7EtJvpRjF"
      }
    },
    {
      "cell_type": "markdown",
      "source": [
        "Переданный список преобразует в матрицу."
      ],
      "metadata": {
        "id": "Syt4XVCxr8tO"
      }
    },
    {
      "cell_type": "code",
      "source": [
        "np.mat([1, 2, 3, 4, 5])"
      ],
      "metadata": {
        "colab": {
          "base_uri": "https://localhost:8080/"
        },
        "id": "VXugMQFhpTIi",
        "outputId": "a4cd0440-2a0e-4db2-e5c4-769acab66f6f"
      },
      "execution_count": null,
      "outputs": [
        {
          "output_type": "execute_result",
          "data": {
            "text/plain": [
              "matrix([[1, 2, 3, 4, 5]])"
            ]
          },
          "metadata": {},
          "execution_count": 36
        }
      ]
    },
    {
      "cell_type": "code",
      "source": [
        "np.diag([1, 2, 3, 4, 5])"
      ],
      "metadata": {
        "colab": {
          "base_uri": "https://localhost:8080/"
        },
        "id": "i5SwHIHhpZc8",
        "outputId": "719e27ec-b00d-49b7-8947-7a467f9286d5"
      },
      "execution_count": null,
      "outputs": [
        {
          "output_type": "execute_result",
          "data": {
            "text/plain": [
              "array([[1, 0, 0, 0, 0],\n",
              "       [0, 2, 0, 0, 0],\n",
              "       [0, 0, 3, 0, 0],\n",
              "       [0, 0, 0, 4, 0],\n",
              "       [0, 0, 0, 0, 5]])"
            ]
          },
          "metadata": {},
          "execution_count": 37
        }
      ]
    },
    {
      "cell_type": "code",
      "source": [
        "np_array = np.array([[1, 2, 3], [4, 5, 6], [7, 8, 9]])\n",
        "np_array"
      ],
      "metadata": {
        "colab": {
          "base_uri": "https://localhost:8080/"
        },
        "id": "5p8uFeLapf7y",
        "outputId": "76fade6a-110e-4c59-b18c-9613b9d8e670"
      },
      "execution_count": null,
      "outputs": [
        {
          "output_type": "execute_result",
          "data": {
            "text/plain": [
              "array([[1, 2, 3],\n",
              "       [4, 5, 6],\n",
              "       [7, 8, 9]])"
            ]
          },
          "metadata": {},
          "execution_count": 39
        }
      ]
    },
    {
      "cell_type": "markdown",
      "source": [
        "Список преобразует в диагональную матрицу."
      ],
      "metadata": {
        "id": "pbgUwcSWr37s"
      }
    },
    {
      "cell_type": "code",
      "source": [
        "np.diag(np_array)"
      ],
      "metadata": {
        "colab": {
          "base_uri": "https://localhost:8080/"
        },
        "id": "hAs3RCAfpubM",
        "outputId": "d40529a2-d308-41d9-9065-095ba963d227"
      },
      "execution_count": null,
      "outputs": [
        {
          "output_type": "execute_result",
          "data": {
            "text/plain": [
              "array([1, 5, 9])"
            ]
          },
          "metadata": {},
          "execution_count": 40
        }
      ]
    },
    {
      "cell_type": "code",
      "source": [
        "np_array = np.array([[1, 2, 3], [4, 5, 6], [7, 8, 9]])\n",
        "np.diagflat(np_array)"
      ],
      "metadata": {
        "colab": {
          "base_uri": "https://localhost:8080/"
        },
        "id": "or7f_cRXp0M-",
        "outputId": "2c9d211c-d5ee-4734-d606-90d971dfad22"
      },
      "execution_count": null,
      "outputs": [
        {
          "output_type": "execute_result",
          "data": {
            "text/plain": [
              "array([[1, 0, 0, 0, 0, 0, 0, 0, 0],\n",
              "       [0, 2, 0, 0, 0, 0, 0, 0, 0],\n",
              "       [0, 0, 3, 0, 0, 0, 0, 0, 0],\n",
              "       [0, 0, 0, 4, 0, 0, 0, 0, 0],\n",
              "       [0, 0, 0, 0, 5, 0, 0, 0, 0],\n",
              "       [0, 0, 0, 0, 0, 6, 0, 0, 0],\n",
              "       [0, 0, 0, 0, 0, 0, 7, 0, 0],\n",
              "       [0, 0, 0, 0, 0, 0, 0, 8, 0],\n",
              "       [0, 0, 0, 0, 0, 0, 0, 0, 9]])"
            ]
          },
          "metadata": {},
          "execution_count": 41
        }
      ]
    },
    {
      "cell_type": "markdown",
      "source": [
        "Вернет матрицу указанного размера с единицами на главной диагонали."
      ],
      "metadata": {
        "id": "DAgTOuvXr0Aw"
      }
    },
    {
      "cell_type": "code",
      "source": [
        "np.eye(4)"
      ],
      "metadata": {
        "colab": {
          "base_uri": "https://localhost:8080/"
        },
        "id": "rDO-enjXqCFS",
        "outputId": "deb50843-6a92-424e-9f88-aaacf0e61a27"
      },
      "execution_count": null,
      "outputs": [
        {
          "output_type": "execute_result",
          "data": {
            "text/plain": [
              "array([[1., 0., 0., 0.],\n",
              "       [0., 1., 0., 0.],\n",
              "       [0., 0., 1., 0.],\n",
              "       [0., 0., 0., 1.]])"
            ]
          },
          "metadata": {},
          "execution_count": 42
        }
      ]
    },
    {
      "cell_type": "code",
      "source": [
        "np.identity(5)"
      ],
      "metadata": {
        "colab": {
          "base_uri": "https://localhost:8080/"
        },
        "id": "-0VjYgkdqEye",
        "outputId": "fa6b2d70-75d1-4e1d-e5cc-f7c1a4f87603"
      },
      "execution_count": null,
      "outputs": [
        {
          "output_type": "execute_result",
          "data": {
            "text/plain": [
              "array([[1., 0., 0., 0., 0.],\n",
              "       [0., 1., 0., 0., 0.],\n",
              "       [0., 0., 1., 0., 0.],\n",
              "       [0., 0., 0., 1., 0.],\n",
              "       [0., 0., 0., 0., 1.]])"
            ]
          },
          "metadata": {},
          "execution_count": 43
        }
      ]
    },
    {
      "cell_type": "markdown",
      "source": [
        "Вернет нижнюю треугольную матрицу состоящую из единиц."
      ],
      "metadata": {
        "id": "Tl-CxbzXrwdl"
      }
    },
    {
      "cell_type": "code",
      "source": [
        "np.tri(7)"
      ],
      "metadata": {
        "colab": {
          "base_uri": "https://localhost:8080/"
        },
        "id": "1d2pDmafqJVQ",
        "outputId": "2f7e09df-2661-4f87-d078-dc24712ab949"
      },
      "execution_count": null,
      "outputs": [
        {
          "output_type": "execute_result",
          "data": {
            "text/plain": [
              "array([[1., 0., 0., 0., 0., 0., 0.],\n",
              "       [1., 1., 0., 0., 0., 0., 0.],\n",
              "       [1., 1., 1., 0., 0., 0., 0.],\n",
              "       [1., 1., 1., 1., 0., 0., 0.],\n",
              "       [1., 1., 1., 1., 1., 0., 0.],\n",
              "       [1., 1., 1., 1., 1., 1., 0.],\n",
              "       [1., 1., 1., 1., 1., 1., 1.]])"
            ]
          },
          "metadata": {},
          "execution_count": 44
        }
      ]
    },
    {
      "cell_type": "code",
      "source": [
        "np_array = np.array([[1, 2, 3], [4, 5, 6], [7, 8, 9]])\n",
        "np.tril(np_array)"
      ],
      "metadata": {
        "colab": {
          "base_uri": "https://localhost:8080/"
        },
        "id": "-evcRLupqPH_",
        "outputId": "5f166b5f-ab00-4ab0-d840-4355c52a5f5b"
      },
      "execution_count": null,
      "outputs": [
        {
          "output_type": "execute_result",
          "data": {
            "text/plain": [
              "array([[1, 0, 0],\n",
              "       [4, 5, 0],\n",
              "       [7, 8, 9]])"
            ]
          },
          "metadata": {},
          "execution_count": 45
        }
      ]
    },
    {
      "cell_type": "code",
      "source": [
        "np.tril([7, 8, 9])"
      ],
      "metadata": {
        "colab": {
          "base_uri": "https://localhost:8080/"
        },
        "id": "VOTKErTeqVv-",
        "outputId": "e6643a16-17ae-4b06-8260-4d0a919ce206"
      },
      "execution_count": null,
      "outputs": [
        {
          "output_type": "execute_result",
          "data": {
            "text/plain": [
              "array([[7, 0, 0],\n",
              "       [7, 8, 0],\n",
              "       [7, 8, 9]])"
            ]
          },
          "metadata": {},
          "execution_count": 48
        }
      ]
    },
    {
      "cell_type": "markdown",
      "source": [
        "Вернет верхнюю треугольную матрицу состоящую из элементов переданного в функцию массива."
      ],
      "metadata": {
        "id": "aW8flpL0rpys"
      }
    },
    {
      "cell_type": "code",
      "source": [
        "np_array = np.array([[1, 2, 3], [4, 5, 6], [7, 8, 9]])\n",
        "np.triu(np_array)"
      ],
      "metadata": {
        "colab": {
          "base_uri": "https://localhost:8080/"
        },
        "id": "_aXK7bC1qcCJ",
        "outputId": "6ba7c3a2-300f-4181-dcea-b82db2625fee"
      },
      "execution_count": null,
      "outputs": [
        {
          "output_type": "execute_result",
          "data": {
            "text/plain": [
              "array([[1, 2, 3],\n",
              "       [0, 5, 6],\n",
              "       [0, 0, 9]])"
            ]
          },
          "metadata": {},
          "execution_count": 47
        }
      ]
    },
    {
      "cell_type": "markdown",
      "source": [
        "**Представления массивов, изменение формы и создание копий.**\n",
        "\n",
        "---\n",
        "\n"
      ],
      "metadata": {
        "id": "3dJbx2DRHzyv"
      }
    },
    {
      "cell_type": "code",
      "source": [
        "import numpy as np"
      ],
      "metadata": {
        "id": "amSWbdQVH-rO"
      },
      "execution_count": null,
      "outputs": []
    },
    {
      "cell_type": "code",
      "source": [
        "np_array = np.array([[1, 2, 3, 3], [2, 3, 4, 5], [3, 4, 5, 6]])"
      ],
      "metadata": {
        "id": "UWH71U3OIL1R"
      },
      "execution_count": null,
      "outputs": []
    },
    {
      "cell_type": "code",
      "source": [
        "np_array.shape = 12\n",
        "np_array"
      ],
      "metadata": {
        "colab": {
          "base_uri": "https://localhost:8080/"
        },
        "id": "BZpIu2tYIYYF",
        "outputId": "021884a6-c40c-49ec-a3d7-30d527390494"
      },
      "execution_count": null,
      "outputs": [
        {
          "output_type": "execute_result",
          "data": {
            "text/plain": [
              "array([1, 2, 3, 3, 2, 3, 4, 5, 3, 4, 5, 6])"
            ]
          },
          "metadata": {},
          "execution_count": 4
        }
      ]
    },
    {
      "cell_type": "code",
      "source": [
        "np_array.shape = (2, 6)\n",
        "np_array"
      ],
      "metadata": {
        "colab": {
          "base_uri": "https://localhost:8080/"
        },
        "id": "BDQoqe65IcRw",
        "outputId": "1556a87a-1199-4d4a-81a1-48b48afc035f"
      },
      "execution_count": null,
      "outputs": [
        {
          "output_type": "execute_result",
          "data": {
            "text/plain": [
              "array([[1, 2, 3, 3, 2, 3],\n",
              "       [4, 5, 3, 4, 5, 6]])"
            ]
          },
          "metadata": {},
          "execution_count": 5
        }
      ]
    },
    {
      "cell_type": "code",
      "source": [
        "np_array.shape = (4, 3)\n",
        "np_array"
      ],
      "metadata": {
        "colab": {
          "base_uri": "https://localhost:8080/"
        },
        "id": "9aO1fVu9Imah",
        "outputId": "6de812fc-4bbc-4cae-bf9e-327a93fdcf18"
      },
      "execution_count": null,
      "outputs": [
        {
          "output_type": "execute_result",
          "data": {
            "text/plain": [
              "array([[1, 2, 3],\n",
              "       [3, 2, 3],\n",
              "       [4, 5, 3],\n",
              "       [4, 5, 6]])"
            ]
          },
          "metadata": {},
          "execution_count": 6
        }
      ]
    },
    {
      "cell_type": "markdown",
      "source": [
        "из 2х мерного в 3х мерный массив"
      ],
      "metadata": {
        "id": "oP5ZfUVhIqZv"
      }
    },
    {
      "cell_type": "code",
      "source": [
        "np_array.shape = (2, 2, 3)\n",
        "np_array"
      ],
      "metadata": {
        "colab": {
          "base_uri": "https://localhost:8080/"
        },
        "id": "XQfOJtm2IyAh",
        "outputId": "958ce57c-a4f5-4165-f440-a44b2cd4f164"
      },
      "execution_count": null,
      "outputs": [
        {
          "output_type": "execute_result",
          "data": {
            "text/plain": [
              "array([[[1, 2, 3],\n",
              "        [3, 2, 3]],\n",
              "\n",
              "       [[4, 5, 3],\n",
              "        [4, 5, 6]]])"
            ]
          },
          "metadata": {},
          "execution_count": 7
        }
      ]
    },
    {
      "cell_type": "code",
      "source": [
        "np_array.shape = (-1, 12)\n",
        "np_array"
      ],
      "metadata": {
        "colab": {
          "base_uri": "https://localhost:8080/"
        },
        "id": "Kv7_w8NqI-Bf",
        "outputId": "925447c3-913d-4153-a059-b80210e634b2"
      },
      "execution_count": null,
      "outputs": [
        {
          "output_type": "execute_result",
          "data": {
            "text/plain": [
              "array([[1, 2, 3, 3, 2, 3, 4, 5, 3, 4, 5, 6]])"
            ]
          },
          "metadata": {},
          "execution_count": 8
        }
      ]
    },
    {
      "cell_type": "code",
      "source": [
        "np_array.shape = (4, -1)\n",
        "np_array"
      ],
      "metadata": {
        "colab": {
          "base_uri": "https://localhost:8080/"
        },
        "id": "0YwRiFZXJDa_",
        "outputId": "00089394-4a1c-4743-9c46-f50a1fc47e33"
      },
      "execution_count": null,
      "outputs": [
        {
          "output_type": "execute_result",
          "data": {
            "text/plain": [
              "array([[1, 2, 3],\n",
              "       [3, 2, 3],\n",
              "       [4, 5, 3],\n",
              "       [4, 5, 6]])"
            ]
          },
          "metadata": {},
          "execution_count": 9
        }
      ]
    },
    {
      "cell_type": "markdown",
      "source": [
        "заполнение элементов в новом представлении"
      ],
      "metadata": {
        "id": "f-6VCda3JKMX"
      }
    },
    {
      "cell_type": "code",
      "source": [
        "np_array.shape = 4, 3\n",
        "np_array"
      ],
      "metadata": {
        "colab": {
          "base_uri": "https://localhost:8080/"
        },
        "id": "V8uWKh_CJPsp",
        "outputId": "9c85dcc0-2917-4e0b-d4d5-7afe34416c91"
      },
      "execution_count": null,
      "outputs": [
        {
          "output_type": "execute_result",
          "data": {
            "text/plain": [
              "array([[1, 2, 3],\n",
              "       [3, 2, 3],\n",
              "       [4, 5, 3],\n",
              "       [4, 5, 6]])"
            ]
          },
          "metadata": {},
          "execution_count": 10
        }
      ]
    },
    {
      "cell_type": "code",
      "source": [
        "np_array.shape = 3, 4\n",
        "np_array"
      ],
      "metadata": {
        "colab": {
          "base_uri": "https://localhost:8080/"
        },
        "id": "TymgIrQdJZja",
        "outputId": "412d2e5d-9bc8-4fd6-aff7-9be98cd09c35"
      },
      "execution_count": null,
      "outputs": [
        {
          "output_type": "execute_result",
          "data": {
            "text/plain": [
              "array([[1, 2, 3, 3],\n",
              "       [2, 3, 4, 5],\n",
              "       [3, 4, 5, 6]])"
            ]
          },
          "metadata": {},
          "execution_count": 11
        }
      ]
    },
    {
      "cell_type": "markdown",
      "source": [
        ".reshape() создает новое представление того же массива"
      ],
      "metadata": {
        "id": "WC43Z8KXJdgI"
      }
    },
    {
      "cell_type": "code",
      "source": [
        "np_array.reshape([2, 2, 3])\n",
        "np_array"
      ],
      "metadata": {
        "colab": {
          "base_uri": "https://localhost:8080/"
        },
        "id": "ZpUTnx9lJkll",
        "outputId": "f60e7335-67bf-4b60-eb3f-1560aaee9761"
      },
      "execution_count": null,
      "outputs": [
        {
          "output_type": "execute_result",
          "data": {
            "text/plain": [
              "array([[1, 2, 3, 3],\n",
              "       [2, 3, 4, 5],\n",
              "       [3, 4, 5, 6]])"
            ]
          },
          "metadata": {},
          "execution_count": 14
        }
      ]
    },
    {
      "cell_type": "code",
      "source": [
        "new_array = np_array.reshape([2, 2, 3])\n",
        "new_array"
      ],
      "metadata": {
        "colab": {
          "base_uri": "https://localhost:8080/"
        },
        "id": "nli6VI9BKGgb",
        "outputId": "4b2d3a27-4d20-48db-bc33-3a87bce9f562"
      },
      "execution_count": null,
      "outputs": [
        {
          "output_type": "execute_result",
          "data": {
            "text/plain": [
              "array([[[1, 2, 3],\n",
              "        [3, 2, 3]],\n",
              "\n",
              "       [[4, 5, 3],\n",
              "        [4, 5, 6]]])"
            ]
          },
          "metadata": {},
          "execution_count": 15
        }
      ]
    },
    {
      "cell_type": "code",
      "source": [
        "new_array[0] = 100\n",
        "new_array"
      ],
      "metadata": {
        "colab": {
          "base_uri": "https://localhost:8080/"
        },
        "id": "T_hnyiFIKU5b",
        "outputId": "e65bf12c-6534-4c3f-c962-a3de3c7a11dd"
      },
      "execution_count": null,
      "outputs": [
        {
          "output_type": "execute_result",
          "data": {
            "text/plain": [
              "array([[[100, 100, 100],\n",
              "        [100, 100, 100]],\n",
              "\n",
              "       [[  4,   5,   3],\n",
              "        [  4,   5,   6]]])"
            ]
          },
          "metadata": {},
          "execution_count": 17
        }
      ]
    },
    {
      "cell_type": "code",
      "source": [
        "np_array"
      ],
      "metadata": {
        "colab": {
          "base_uri": "https://localhost:8080/"
        },
        "id": "6tqmSMcKKf5u",
        "outputId": "0927ccab-a8cc-498f-b19e-95ec8ad9e274"
      },
      "execution_count": null,
      "outputs": [
        {
          "output_type": "execute_result",
          "data": {
            "text/plain": [
              "array([[100, 100, 100, 100],\n",
              "       [100, 100,   4,   5],\n",
              "       [  3,   4,   5,   6]])"
            ]
          },
          "metadata": {},
          "execution_count": 18
        }
      ]
    },
    {
      "cell_type": "markdown",
      "source": [
        "resize() - меняет представление массива, но не сохраняет при этом изначальный размер"
      ],
      "metadata": {
        "id": "QGvIeN5qKi3Y"
      }
    },
    {
      "cell_type": "code",
      "source": [
        "np_array.resize((2, 6))\n",
        "np_array"
      ],
      "metadata": {
        "colab": {
          "base_uri": "https://localhost:8080/"
        },
        "id": "fzNLiQfLK2G7",
        "outputId": "052148b7-a504-4d88-f8ca-174a99000bdb"
      },
      "execution_count": null,
      "outputs": [
        {
          "output_type": "execute_result",
          "data": {
            "text/plain": [
              "array([[100, 100, 100, 100, 100, 100],\n",
              "       [  4,   5,   3,   4,   5,   6]])"
            ]
          },
          "metadata": {},
          "execution_count": 20
        }
      ]
    },
    {
      "cell_type": "code",
      "source": [
        "np_array.resize((4, 2), refcheck=False)\n",
        "np_array"
      ],
      "metadata": {
        "colab": {
          "base_uri": "https://localhost:8080/"
        },
        "id": "PtAPzEezLF1P",
        "outputId": "d3fb3953-5285-49aa-eef7-b812efd3329c"
      },
      "execution_count": null,
      "outputs": [
        {
          "output_type": "execute_result",
          "data": {
            "text/plain": [
              "array([[100, 100],\n",
              "       [100, 100],\n",
              "       [100, 100],\n",
              "       [  4,   5]])"
            ]
          },
          "metadata": {},
          "execution_count": 21
        }
      ]
    },
    {
      "cell_type": "markdown",
      "source": [
        "представление любого массива в виде одномерного"
      ],
      "metadata": {
        "id": "cnzGFcptLP5x"
      }
    },
    {
      "cell_type": "code",
      "source": [
        "np_array.ravel()"
      ],
      "metadata": {
        "colab": {
          "base_uri": "https://localhost:8080/"
        },
        "id": "0KhmnGDMLZGR",
        "outputId": "6765c5c6-adb6-4689-c978-17fee0ee04b9"
      },
      "execution_count": null,
      "outputs": [
        {
          "output_type": "execute_result",
          "data": {
            "text/plain": [
              "array([100, 100, 100, 100, 100, 100,   4,   5])"
            ]
          },
          "metadata": {},
          "execution_count": 22
        }
      ]
    },
    {
      "cell_type": "markdown",
      "source": [
        "копия представления массива"
      ],
      "metadata": {
        "id": "fx_zyWY0LeiL"
      }
    },
    {
      "cell_type": "code",
      "source": [
        "np_array = np.array([[1, 2, 3, 3], [2, 3, 4, 5], [3, 4, 5, 6]])"
      ],
      "metadata": {
        "id": "9jVKirKiLjWL"
      },
      "execution_count": null,
      "outputs": []
    },
    {
      "cell_type": "code",
      "source": [
        "new_array = np_array.view()\n",
        "np_array"
      ],
      "metadata": {
        "colab": {
          "base_uri": "https://localhost:8080/"
        },
        "id": "y0oKxKFGLrS6",
        "outputId": "abd77417-a21b-4633-b991-0640a747144a"
      },
      "execution_count": null,
      "outputs": [
        {
          "output_type": "execute_result",
          "data": {
            "text/plain": [
              "array([[100, 100],\n",
              "       [100, 100],\n",
              "       [100, 100],\n",
              "       [  4,   5]])"
            ]
          },
          "metadata": {},
          "execution_count": 23
        }
      ]
    },
    {
      "cell_type": "code",
      "source": [
        "new_array"
      ],
      "metadata": {
        "colab": {
          "base_uri": "https://localhost:8080/"
        },
        "id": "laob2ZutL0c-",
        "outputId": "73678349-7bd5-4610-86f6-6d8b1a48368e"
      },
      "execution_count": null,
      "outputs": [
        {
          "output_type": "execute_result",
          "data": {
            "text/plain": [
              "array([[100, 100],\n",
              "       [100, 100],\n",
              "       [100, 100],\n",
              "       [  4,   5]])"
            ]
          },
          "metadata": {},
          "execution_count": 24
        }
      ]
    },
    {
      "cell_type": "code",
      "source": [
        "np_array[0] = 7\n",
        "np_array"
      ],
      "metadata": {
        "colab": {
          "base_uri": "https://localhost:8080/"
        },
        "id": "_20keyZlL4Op",
        "outputId": "7e54117b-dde4-4aac-ca84-267cc520a6b7"
      },
      "execution_count": null,
      "outputs": [
        {
          "output_type": "execute_result",
          "data": {
            "text/plain": [
              "array([[  7,   7],\n",
              "       [100, 100],\n",
              "       [100, 100],\n",
              "       [  4,   5]])"
            ]
          },
          "metadata": {},
          "execution_count": 25
        }
      ]
    },
    {
      "cell_type": "code",
      "source": [
        "new_array"
      ],
      "metadata": {
        "colab": {
          "base_uri": "https://localhost:8080/"
        },
        "id": "JoG0cJCML-HM",
        "outputId": "2b27c2b6-d1c4-4717-84f6-c8dae16fc97a"
      },
      "execution_count": null,
      "outputs": [
        {
          "output_type": "execute_result",
          "data": {
            "text/plain": [
              "array([[  7,   7],\n",
              "       [100, 100],\n",
              "       [100, 100],\n",
              "       [  4,   5]])"
            ]
          },
          "metadata": {},
          "execution_count": 26
        }
      ]
    },
    {
      "cell_type": "code",
      "source": [
        "np_array = np.array([[1, 2, 3, 3], [2, 3, 4, 5], [3, 4, 5, 6]])\n",
        "np_array.shape = (2, 6)\n",
        "np_array"
      ],
      "metadata": {
        "colab": {
          "base_uri": "https://localhost:8080/"
        },
        "id": "DIBtPQHQMBu0",
        "outputId": "d5db4d44-26e9-4be0-cacc-0f1f5be41b39"
      },
      "execution_count": null,
      "outputs": [
        {
          "output_type": "execute_result",
          "data": {
            "text/plain": [
              "array([[1, 2, 3, 3, 2, 3],\n",
              "       [4, 5, 3, 4, 5, 6]])"
            ]
          },
          "metadata": {},
          "execution_count": 28
        }
      ]
    },
    {
      "cell_type": "code",
      "source": [
        "new_array"
      ],
      "metadata": {
        "colab": {
          "base_uri": "https://localhost:8080/"
        },
        "id": "EBxT1FTlMS9Z",
        "outputId": "75f04488-4127-4e4e-b8b8-02374c692e86"
      },
      "execution_count": null,
      "outputs": [
        {
          "output_type": "execute_result",
          "data": {
            "text/plain": [
              "array([[  7,   7],\n",
              "       [100, 100],\n",
              "       [100, 100],\n",
              "       [  4,   5]])"
            ]
          },
          "metadata": {},
          "execution_count": 29
        }
      ]
    },
    {
      "cell_type": "markdown",
      "source": [
        "полная копия массива"
      ],
      "metadata": {
        "id": "UNjPgE88MW8S"
      }
    },
    {
      "cell_type": "code",
      "source": [
        "np_array = np.array([[1, 2, 3, 3], [2, 3, 4, 5], [3, 4, 5, 6]])\n",
        "new_array = np_array.copy()\n",
        "new_array"
      ],
      "metadata": {
        "colab": {
          "base_uri": "https://localhost:8080/"
        },
        "id": "qpkHseuaMahA",
        "outputId": "d90e7c7d-15d2-4300-a0e1-a002d6243ed3"
      },
      "execution_count": null,
      "outputs": [
        {
          "output_type": "execute_result",
          "data": {
            "text/plain": [
              "array([[1, 2, 3, 3, 2, 3],\n",
              "       [4, 5, 3, 4, 5, 6]])"
            ]
          },
          "metadata": {},
          "execution_count": 30
        }
      ]
    },
    {
      "cell_type": "code",
      "source": [
        "np_array[0] = 3\n",
        "np_array"
      ],
      "metadata": {
        "colab": {
          "base_uri": "https://localhost:8080/"
        },
        "id": "5JOqtFGpMrUG",
        "outputId": "002a7f01-2309-40a7-c26a-bfef576421f7"
      },
      "execution_count": null,
      "outputs": [
        {
          "output_type": "execute_result",
          "data": {
            "text/plain": [
              "array([[3, 3, 3, 3, 3, 3],\n",
              "       [4, 5, 3, 4, 5, 6]])"
            ]
          },
          "metadata": {},
          "execution_count": 31
        }
      ]
    },
    {
      "cell_type": "code",
      "source": [
        "new_array"
      ],
      "metadata": {
        "colab": {
          "base_uri": "https://localhost:8080/"
        },
        "id": "4AlPpkV0Mymq",
        "outputId": "95179c50-3518-4d0c-b99c-eeb0075a24b7"
      },
      "execution_count": null,
      "outputs": [
        {
          "output_type": "execute_result",
          "data": {
            "text/plain": [
              "array([[1, 2, 3, 3, 2, 3],\n",
              "       [4, 5, 3, 4, 5, 6]])"
            ]
          },
          "metadata": {},
          "execution_count": 32
        }
      ]
    },
    {
      "cell_type": "code",
      "source": [
        "np_array = np.array([[1, 2, 3, 3], [2, 3, 4, 5], [3, 4, 5, 6]])\n",
        "np_array.shape = (2, 2, 3)\n",
        "np_array"
      ],
      "metadata": {
        "colab": {
          "base_uri": "https://localhost:8080/"
        },
        "id": "n2mTaZIVM6xD",
        "outputId": "37878e68-59ca-49fa-eb47-fc833dfff355"
      },
      "execution_count": null,
      "outputs": [
        {
          "output_type": "execute_result",
          "data": {
            "text/plain": [
              "array([[[1, 2, 3],\n",
              "        [3, 2, 3]],\n",
              "\n",
              "       [[4, 5, 3],\n",
              "        [4, 5, 6]]])"
            ]
          },
          "metadata": {},
          "execution_count": 33
        }
      ]
    },
    {
      "cell_type": "code",
      "source": [
        "new_array"
      ],
      "metadata": {
        "colab": {
          "base_uri": "https://localhost:8080/"
        },
        "id": "CXHTLiDGNGgS",
        "outputId": "f253ae10-f2d4-48b1-f54e-9230f6e7dccb"
      },
      "execution_count": null,
      "outputs": [
        {
          "output_type": "execute_result",
          "data": {
            "text/plain": [
              "array([[1, 2, 3, 3, 2, 3],\n",
              "       [4, 5, 3, 4, 5, 6]])"
            ]
          },
          "metadata": {},
          "execution_count": 34
        }
      ]
    },
    {
      "cell_type": "markdown",
      "source": [
        "**добавление осей. Объединение и разделение массивов.**\n",
        "\n",
        "---\n",
        "\n"
      ],
      "metadata": {
        "id": "lvw4I6viquPs"
      }
    },
    {
      "cell_type": "code",
      "source": [
        "import numpy as np"
      ],
      "metadata": {
        "id": "MyshYAJRrAuu"
      },
      "execution_count": null,
      "outputs": []
    },
    {
      "cell_type": "code",
      "source": [
        "np_array = np.array([[1, 2, 3, 4], [2, 3, 4, 5], [3, 4, 5, 6]])\n",
        "np_array.shape"
      ],
      "metadata": {
        "colab": {
          "base_uri": "https://localhost:8080/"
        },
        "id": "FiFyFGxqrFmJ",
        "outputId": "48b9b7f9-adbb-4985-e256-a41553670af8"
      },
      "execution_count": null,
      "outputs": [
        {
          "output_type": "execute_result",
          "data": {
            "text/plain": [
              "(3, 4)"
            ]
          },
          "metadata": {},
          "execution_count": 2
        }
      ]
    },
    {
      "cell_type": "code",
      "source": [
        "np_array"
      ],
      "metadata": {
        "colab": {
          "base_uri": "https://localhost:8080/"
        },
        "id": "cAv5uu7ErYBI",
        "outputId": "3b2fccaa-0969-445f-ca68-7825d015e54d"
      },
      "execution_count": null,
      "outputs": [
        {
          "output_type": "execute_result",
          "data": {
            "text/plain": [
              "array([[1, 2, 3, 4],\n",
              "       [2, 3, 4, 5],\n",
              "       [3, 4, 5, 6]])"
            ]
          },
          "metadata": {},
          "execution_count": 3
        }
      ]
    },
    {
      "cell_type": "markdown",
      "source": [
        "добавление осей."
      ],
      "metadata": {
        "id": "wL8Ct58QraaD"
      }
    },
    {
      "cell_type": "code",
      "source": [
        "new_array = np.expand_dims(np_array, axis=0)\n",
        "np_array.shape"
      ],
      "metadata": {
        "colab": {
          "base_uri": "https://localhost:8080/"
        },
        "id": "DSh1XzoZreD8",
        "outputId": "a8e1dc39-e1bd-4597-c1f9-99f5e027bb38"
      },
      "execution_count": null,
      "outputs": [
        {
          "output_type": "execute_result",
          "data": {
            "text/plain": [
              "(3, 4)"
            ]
          },
          "metadata": {},
          "execution_count": 4
        }
      ]
    },
    {
      "cell_type": "code",
      "source": [
        "new_array.shape"
      ],
      "metadata": {
        "colab": {
          "base_uri": "https://localhost:8080/"
        },
        "id": "PFjVV6sCrqyg",
        "outputId": "ac4d9597-d3a6-4f6f-a8bf-93a493870936"
      },
      "execution_count": null,
      "outputs": [
        {
          "output_type": "execute_result",
          "data": {
            "text/plain": [
              "(1, 3, 4)"
            ]
          },
          "metadata": {},
          "execution_count": 5
        }
      ]
    },
    {
      "cell_type": "code",
      "source": [
        "new_array[0,0] = 100\n",
        "np_array"
      ],
      "metadata": {
        "colab": {
          "base_uri": "https://localhost:8080/"
        },
        "id": "HAfihgpjrvcn",
        "outputId": "0d451744-55b0-43e1-e5e8-5770198dc9d3"
      },
      "execution_count": null,
      "outputs": [
        {
          "output_type": "execute_result",
          "data": {
            "text/plain": [
              "array([[100, 100, 100, 100],\n",
              "       [  2,   3,   4,   5],\n",
              "       [  3,   4,   5,   6]])"
            ]
          },
          "metadata": {},
          "execution_count": 6
        }
      ]
    },
    {
      "cell_type": "code",
      "source": [
        "new_array"
      ],
      "metadata": {
        "colab": {
          "base_uri": "https://localhost:8080/"
        },
        "id": "r7Cp5bdVr2du",
        "outputId": "5ca16fb0-ec23-4dea-e69b-dfc1cf3ef570"
      },
      "execution_count": null,
      "outputs": [
        {
          "output_type": "execute_result",
          "data": {
            "text/plain": [
              "array([[[100, 100, 100, 100],\n",
              "        [  2,   3,   4,   5],\n",
              "        [  3,   4,   5,   6]]])"
            ]
          },
          "metadata": {},
          "execution_count": 7
        }
      ]
    },
    {
      "cell_type": "markdown",
      "source": [
        "другой способ добавления осей. Добавление 0й оси."
      ],
      "metadata": {
        "id": "FGihvKl6r8Tp"
      }
    },
    {
      "cell_type": "code",
      "source": [
        "new_array = np_array[np.newaxis]\n",
        "np_array.shape"
      ],
      "metadata": {
        "colab": {
          "base_uri": "https://localhost:8080/"
        },
        "id": "uatJWd12sDfV",
        "outputId": "3ced430d-75bc-4922-b84e-47af3bac4402"
      },
      "execution_count": null,
      "outputs": [
        {
          "output_type": "execute_result",
          "data": {
            "text/plain": [
              "(3, 4)"
            ]
          },
          "metadata": {},
          "execution_count": 8
        }
      ]
    },
    {
      "cell_type": "code",
      "source": [
        "new_array.shape"
      ],
      "metadata": {
        "colab": {
          "base_uri": "https://localhost:8080/"
        },
        "id": "IbcPj6nKsYbj",
        "outputId": "0ac09bcd-02fb-4538-8443-283b2ab1b559"
      },
      "execution_count": null,
      "outputs": [
        {
          "output_type": "execute_result",
          "data": {
            "text/plain": [
              "(1, 3, 4)"
            ]
          },
          "metadata": {},
          "execution_count": 9
        }
      ]
    },
    {
      "cell_type": "markdown",
      "source": [
        "добавление 1й оси."
      ],
      "metadata": {
        "id": "dFP52dOpscGf"
      }
    },
    {
      "cell_type": "code",
      "source": [
        "new_array = np_array[:, np.newaxis]\n",
        "np_array.shape"
      ],
      "metadata": {
        "colab": {
          "base_uri": "https://localhost:8080/"
        },
        "id": "fER1wNMZsgKo",
        "outputId": "a77128e0-b4db-4e71-bf9b-b1bffe8281cd"
      },
      "execution_count": null,
      "outputs": [
        {
          "output_type": "execute_result",
          "data": {
            "text/plain": [
              "(3, 4)"
            ]
          },
          "metadata": {},
          "execution_count": 10
        }
      ]
    },
    {
      "cell_type": "code",
      "source": [
        "new_array.shape"
      ],
      "metadata": {
        "colab": {
          "base_uri": "https://localhost:8080/"
        },
        "id": "-mHOZDOusr8Q",
        "outputId": "8257b018-d8c8-4f7c-f49f-c5ecfaeb8a9a"
      },
      "execution_count": null,
      "outputs": [
        {
          "output_type": "execute_result",
          "data": {
            "text/plain": [
              "(3, 1, 4)"
            ]
          },
          "metadata": {},
          "execution_count": 11
        }
      ]
    },
    {
      "cell_type": "markdown",
      "source": [
        "добавление 0й и 2й осей."
      ],
      "metadata": {
        "id": "bybUNkhksv26"
      }
    },
    {
      "cell_type": "code",
      "source": [
        "new_array = np_array[np.newaxis, : , np.newaxis]\n",
        "np_array.shape"
      ],
      "metadata": {
        "colab": {
          "base_uri": "https://localhost:8080/"
        },
        "id": "-wr-kFwis0pA",
        "outputId": "005748e3-9cab-4ad1-cd3d-629ee943fa28"
      },
      "execution_count": null,
      "outputs": [
        {
          "output_type": "execute_result",
          "data": {
            "text/plain": [
              "(3, 4)"
            ]
          },
          "metadata": {},
          "execution_count": 12
        }
      ]
    },
    {
      "cell_type": "code",
      "source": [
        "new_array.shape"
      ],
      "metadata": {
        "colab": {
          "base_uri": "https://localhost:8080/"
        },
        "id": "drnDtmuHtEIA",
        "outputId": "6830bb57-dce9-453b-e616-7da431a603ac"
      },
      "execution_count": null,
      "outputs": [
        {
          "output_type": "execute_result",
          "data": {
            "text/plain": [
              "(1, 3, 1, 4)"
            ]
          },
          "metadata": {},
          "execution_count": 13
        }
      ]
    },
    {
      "cell_type": "markdown",
      "source": [
        "добавление последней оси."
      ],
      "metadata": {
        "id": "qh7387qrtHgB"
      }
    },
    {
      "cell_type": "code",
      "source": [
        "new_array = np_array[:, :, np.newaxis]\n",
        "np_array.shape"
      ],
      "metadata": {
        "colab": {
          "base_uri": "https://localhost:8080/"
        },
        "id": "ancf7ktdtMeO",
        "outputId": "59a5c07d-62ec-4f54-e9cf-7cf68561cb11"
      },
      "execution_count": null,
      "outputs": [
        {
          "output_type": "execute_result",
          "data": {
            "text/plain": [
              "(3, 4)"
            ]
          },
          "metadata": {},
          "execution_count": 14
        }
      ]
    },
    {
      "cell_type": "code",
      "source": [
        "new_array.shape"
      ],
      "metadata": {
        "colab": {
          "base_uri": "https://localhost:8080/"
        },
        "id": "mTh9Vk3DtY4Z",
        "outputId": "441f99ad-aa5e-4785-cd1a-3aa4cc2ab598"
      },
      "execution_count": null,
      "outputs": [
        {
          "output_type": "execute_result",
          "data": {
            "text/plain": [
              "(3, 4, 1)"
            ]
          },
          "metadata": {},
          "execution_count": 15
        }
      ]
    },
    {
      "cell_type": "markdown",
      "source": [
        "Другой вариант добавления последней оси."
      ],
      "metadata": {
        "id": "XcrcLJQ_tj9L"
      }
    },
    {
      "cell_type": "code",
      "source": [
        "new_array = np_array[..., np.newaxis]\n",
        "np_array"
      ],
      "metadata": {
        "colab": {
          "base_uri": "https://localhost:8080/"
        },
        "id": "4bAUA8u2tqsq",
        "outputId": "dba8ba5a-898e-4cff-dc6c-33f18bd06d06"
      },
      "execution_count": null,
      "outputs": [
        {
          "output_type": "execute_result",
          "data": {
            "text/plain": [
              "array([[100, 100, 100, 100],\n",
              "       [  2,   3,   4,   5],\n",
              "       [  3,   4,   5,   6]])"
            ]
          },
          "metadata": {},
          "execution_count": 16
        }
      ]
    },
    {
      "cell_type": "code",
      "source": [
        "new_array"
      ],
      "metadata": {
        "colab": {
          "base_uri": "https://localhost:8080/"
        },
        "id": "LaiTjpaZt0DM",
        "outputId": "ab648878-14b1-47a7-aa50-065dd14a04f3"
      },
      "execution_count": null,
      "outputs": [
        {
          "output_type": "execute_result",
          "data": {
            "text/plain": [
              "array([[[100],\n",
              "        [100],\n",
              "        [100],\n",
              "        [100]],\n",
              "\n",
              "       [[  2],\n",
              "        [  3],\n",
              "        [  4],\n",
              "        [  5]],\n",
              "\n",
              "       [[  3],\n",
              "        [  4],\n",
              "        [  5],\n",
              "        [  6]]])"
            ]
          },
          "metadata": {},
          "execution_count": 17
        }
      ]
    },
    {
      "cell_type": "markdown",
      "source": [
        "добавление осей дает новое представление массива, если меняем значения в одном из массивов, оно также меняется и в другом:"
      ],
      "metadata": {
        "id": "OmpoCK6pt6mp"
      }
    },
    {
      "cell_type": "code",
      "source": [
        "new_array[0, 0] = 77\n",
        "np_array"
      ],
      "metadata": {
        "colab": {
          "base_uri": "https://localhost:8080/"
        },
        "id": "oOdY8AjJuPUU",
        "outputId": "0bbf2044-3a53-4269-9300-2cfbaccabce1"
      },
      "execution_count": null,
      "outputs": [
        {
          "output_type": "execute_result",
          "data": {
            "text/plain": [
              "array([[ 77, 100, 100, 100],\n",
              "       [  2,   3,   4,   5],\n",
              "       [  3,   4,   5,   6]])"
            ]
          },
          "metadata": {},
          "execution_count": 18
        }
      ]
    },
    {
      "cell_type": "code",
      "source": [
        "new_array"
      ],
      "metadata": {
        "colab": {
          "base_uri": "https://localhost:8080/"
        },
        "id": "OyR5IAdJuWor",
        "outputId": "60d5a846-4d10-4a1c-be20-bdf2b46b5e32"
      },
      "execution_count": null,
      "outputs": [
        {
          "output_type": "execute_result",
          "data": {
            "text/plain": [
              "array([[[ 77],\n",
              "        [100],\n",
              "        [100],\n",
              "        [100]],\n",
              "\n",
              "       [[  2],\n",
              "        [  3],\n",
              "        [  4],\n",
              "        [  5]],\n",
              "\n",
              "       [[  3],\n",
              "        [  4],\n",
              "        [  5],\n",
              "        [  6]]])"
            ]
          },
          "metadata": {},
          "execution_count": 19
        }
      ]
    },
    {
      "cell_type": "markdown",
      "source": [
        "удаление осей. можно удалить только ось с одним элементом."
      ],
      "metadata": {
        "id": "4MFmcrd2uaJJ"
      }
    },
    {
      "cell_type": "code",
      "source": [
        "new_array.shape"
      ],
      "metadata": {
        "colab": {
          "base_uri": "https://localhost:8080/"
        },
        "id": "-5AqgsN6uirx",
        "outputId": "7ec76932-895c-49a7-d471-4adf3a178a63"
      },
      "execution_count": null,
      "outputs": [
        {
          "output_type": "execute_result",
          "data": {
            "text/plain": [
              "(3, 4, 1)"
            ]
          },
          "metadata": {},
          "execution_count": 20
        }
      ]
    },
    {
      "cell_type": "code",
      "source": [
        "new_array = np.squeeze(new_array)\n",
        "new_array.shape"
      ],
      "metadata": {
        "colab": {
          "base_uri": "https://localhost:8080/"
        },
        "id": "m4hgIecWunRz",
        "outputId": "52d20611-dedf-4e01-a30b-b00f33a44e3c"
      },
      "execution_count": null,
      "outputs": [
        {
          "output_type": "execute_result",
          "data": {
            "text/plain": [
              "(3, 4)"
            ]
          },
          "metadata": {},
          "execution_count": 22
        }
      ]
    },
    {
      "cell_type": "markdown",
      "source": [
        "объединение по 1й оси."
      ],
      "metadata": {
        "id": "QHkMSfwGu1_m"
      }
    },
    {
      "cell_type": "code",
      "source": [
        "arr_1 = np.array([[1, 2, 3], [2, 3, 4], [3, 4, 5]])\n",
        "arr_2 = np.array([[4, 5, 6], [5, 6, 7], [6, 7, 8]])\n",
        "arr_3 = np.array([[7, 8, 9, 10], [8, 9, 10, 11], [9, 10, 11, 12]])\n",
        "arr_1.shape"
      ],
      "metadata": {
        "colab": {
          "base_uri": "https://localhost:8080/"
        },
        "id": "BEVdfjydu7V_",
        "outputId": "c837776e-ec6e-4e6e-dc72-aba09a6449f7"
      },
      "execution_count": null,
      "outputs": [
        {
          "output_type": "execute_result",
          "data": {
            "text/plain": [
              "(3, 3)"
            ]
          },
          "metadata": {},
          "execution_count": 23
        }
      ]
    },
    {
      "cell_type": "code",
      "source": [
        "arr_1"
      ],
      "metadata": {
        "colab": {
          "base_uri": "https://localhost:8080/"
        },
        "id": "lPeMp2givktx",
        "outputId": "c1de9f25-8432-4da6-ee4e-1c0df7fd3575"
      },
      "execution_count": null,
      "outputs": [
        {
          "output_type": "execute_result",
          "data": {
            "text/plain": [
              "array([[1, 2, 3],\n",
              "       [2, 3, 4],\n",
              "       [3, 4, 5]])"
            ]
          },
          "metadata": {},
          "execution_count": 24
        }
      ]
    },
    {
      "cell_type": "code",
      "source": [
        "arr_2.shape"
      ],
      "metadata": {
        "colab": {
          "base_uri": "https://localhost:8080/"
        },
        "id": "ZUfZxxR-vngJ",
        "outputId": "a2badca5-d81e-428d-e6fe-9ad1257b2936"
      },
      "execution_count": null,
      "outputs": [
        {
          "output_type": "execute_result",
          "data": {
            "text/plain": [
              "(3, 3)"
            ]
          },
          "metadata": {},
          "execution_count": 25
        }
      ]
    },
    {
      "cell_type": "code",
      "source": [
        "arr_2"
      ],
      "metadata": {
        "colab": {
          "base_uri": "https://localhost:8080/"
        },
        "id": "hxHtbMibvqP7",
        "outputId": "531a9544-2799-4d79-de48-95f9956591b3"
      },
      "execution_count": null,
      "outputs": [
        {
          "output_type": "execute_result",
          "data": {
            "text/plain": [
              "array([[4, 5, 6],\n",
              "       [5, 6, 7],\n",
              "       [6, 7, 8]])"
            ]
          },
          "metadata": {},
          "execution_count": 26
        }
      ]
    },
    {
      "cell_type": "code",
      "source": [
        "arr_3.shape"
      ],
      "metadata": {
        "colab": {
          "base_uri": "https://localhost:8080/"
        },
        "id": "776P28wivsdD",
        "outputId": "1ac962eb-27cc-4b39-e744-766ab20054f7"
      },
      "execution_count": null,
      "outputs": [
        {
          "output_type": "execute_result",
          "data": {
            "text/plain": [
              "(3, 4)"
            ]
          },
          "metadata": {},
          "execution_count": 27
        }
      ]
    },
    {
      "cell_type": "code",
      "source": [
        "arr_3"
      ],
      "metadata": {
        "colab": {
          "base_uri": "https://localhost:8080/"
        },
        "id": "iizhgv1pvzm7",
        "outputId": "e524b6b0-96eb-445a-cb93-ae69852fe635"
      },
      "execution_count": null,
      "outputs": [
        {
          "output_type": "execute_result",
          "data": {
            "text/plain": [
              "array([[ 7,  8,  9, 10],\n",
              "       [ 8,  9, 10, 11],\n",
              "       [ 9, 10, 11, 12]])"
            ]
          },
          "metadata": {},
          "execution_count": 28
        }
      ]
    },
    {
      "cell_type": "markdown",
      "source": [
        "массивы должны иметь одинаковый размер вдоль всех осей, кроме 1й оси."
      ],
      "metadata": {
        "id": "jtUb5IUwv9zP"
      }
    },
    {
      "cell_type": "code",
      "source": [
        "new_arr = np.hstack([arr_1, arr_2, arr_3])\n",
        "new_arr.shape"
      ],
      "metadata": {
        "colab": {
          "base_uri": "https://localhost:8080/"
        },
        "id": "PNlRyAt8wH4n",
        "outputId": "e384d33b-f403-44a4-885c-b9a8794ca2ad"
      },
      "execution_count": null,
      "outputs": [
        {
          "output_type": "execute_result",
          "data": {
            "text/plain": [
              "(3, 10)"
            ]
          },
          "metadata": {},
          "execution_count": 29
        }
      ]
    },
    {
      "cell_type": "code",
      "source": [
        "new_arr"
      ],
      "metadata": {
        "colab": {
          "base_uri": "https://localhost:8080/"
        },
        "id": "98UcnMnFwYC4",
        "outputId": "3bcc6c37-758b-419e-f03b-3001fcad9570"
      },
      "execution_count": null,
      "outputs": [
        {
          "output_type": "execute_result",
          "data": {
            "text/plain": [
              "array([[ 1,  2,  3,  4,  5,  6,  7,  8,  9, 10],\n",
              "       [ 2,  3,  4,  5,  6,  7,  8,  9, 10, 11],\n",
              "       [ 3,  4,  5,  6,  7,  8,  9, 10, 11, 12]])"
            ]
          },
          "metadata": {},
          "execution_count": 30
        }
      ]
    },
    {
      "cell_type": "markdown",
      "source": [
        "пример использования с объединением осей:"
      ],
      "metadata": {
        "id": "En5_LBUmwcDA"
      }
    },
    {
      "cell_type": "code",
      "source": [
        "arr_1 = np.empty([27, 8, 3])\n",
        "arr_2 = np.empty([27, 10, 3])\n",
        "arr_3 = np.empty([27, 9, 3])\n",
        "arr_1.shape"
      ],
      "metadata": {
        "colab": {
          "base_uri": "https://localhost:8080/"
        },
        "id": "eo5JeM4owjAg",
        "outputId": "d29bc188-39b7-4cfe-ec74-90232bd9e4f7"
      },
      "execution_count": null,
      "outputs": [
        {
          "output_type": "execute_result",
          "data": {
            "text/plain": [
              "(27, 8, 3)"
            ]
          },
          "metadata": {},
          "execution_count": 31
        }
      ]
    },
    {
      "cell_type": "code",
      "source": [
        "arr_2.shape"
      ],
      "metadata": {
        "colab": {
          "base_uri": "https://localhost:8080/"
        },
        "id": "ZUM3sKC4w6ls",
        "outputId": "6a27d781-02d9-4e26-e8f1-75e1f47cb385"
      },
      "execution_count": null,
      "outputs": [
        {
          "output_type": "execute_result",
          "data": {
            "text/plain": [
              "(27, 10, 3)"
            ]
          },
          "metadata": {},
          "execution_count": 32
        }
      ]
    },
    {
      "cell_type": "code",
      "source": [
        "arr_3.shape"
      ],
      "metadata": {
        "colab": {
          "base_uri": "https://localhost:8080/"
        },
        "id": "PP3gJ9NBw8-i",
        "outputId": "b683012a-f7d8-48fb-b02f-2f40c59e5fa7"
      },
      "execution_count": null,
      "outputs": [
        {
          "output_type": "execute_result",
          "data": {
            "text/plain": [
              "(27, 9, 3)"
            ]
          },
          "metadata": {},
          "execution_count": 33
        }
      ]
    },
    {
      "cell_type": "markdown",
      "source": [
        ".hstack() - объединение массивов по отличающейся оси:"
      ],
      "metadata": {
        "id": "KOOUWPyGxD29"
      }
    },
    {
      "cell_type": "code",
      "source": [
        "new_arr = np.hstack([arr_1, arr_2, arr_3])\n",
        "new_arr.shape"
      ],
      "metadata": {
        "colab": {
          "base_uri": "https://localhost:8080/"
        },
        "id": "EtVGW_JVxOZ1",
        "outputId": "f038ec52-af8c-4f16-c327-f304255254bc"
      },
      "execution_count": null,
      "outputs": [
        {
          "output_type": "execute_result",
          "data": {
            "text/plain": [
              "(27, 27, 3)"
            ]
          },
          "metadata": {},
          "execution_count": 34
        }
      ]
    },
    {
      "cell_type": "markdown",
      "source": [
        "объединение по нулевой оси."
      ],
      "metadata": {
        "id": "H1d9gyYlxXvZ"
      }
    },
    {
      "cell_type": "code",
      "source": [
        "arr_1 = np.array([[1, 2, 3], [2, 3, 4], [3, 4, 5]])\n",
        "arr_2 = np.array([[4, 5, 6], [5, 6, 7], [6, 7, 8]])\n",
        "arr_3 = np.array([[7, 8, 9], [8, 9, 10], [9, 10, 11], [10, 11, 12]])\n",
        "arr_1.shape"
      ],
      "metadata": {
        "colab": {
          "base_uri": "https://localhost:8080/"
        },
        "id": "DcvFalBZxbwd",
        "outputId": "455fcd9d-65fb-479c-8a39-4adcfbbf68c3"
      },
      "execution_count": null,
      "outputs": [
        {
          "output_type": "execute_result",
          "data": {
            "text/plain": [
              "(3, 3)"
            ]
          },
          "metadata": {},
          "execution_count": 35
        }
      ]
    },
    {
      "cell_type": "code",
      "source": [
        "arr_1"
      ],
      "metadata": {
        "colab": {
          "base_uri": "https://localhost:8080/"
        },
        "id": "d5nN4qsAyMBs",
        "outputId": "c55df870-52b0-4e41-cf02-a4df3efe29ae"
      },
      "execution_count": null,
      "outputs": [
        {
          "output_type": "execute_result",
          "data": {
            "text/plain": [
              "array([[1, 2, 3],\n",
              "       [2, 3, 4],\n",
              "       [3, 4, 5]])"
            ]
          },
          "metadata": {},
          "execution_count": 36
        }
      ]
    },
    {
      "cell_type": "code",
      "source": [
        "arr_2.shape"
      ],
      "metadata": {
        "colab": {
          "base_uri": "https://localhost:8080/"
        },
        "id": "UPICwCxryOcj",
        "outputId": "daf0db7a-b013-4c7f-934c-90ab46468b41"
      },
      "execution_count": null,
      "outputs": [
        {
          "output_type": "execute_result",
          "data": {
            "text/plain": [
              "(3, 3)"
            ]
          },
          "metadata": {},
          "execution_count": 37
        }
      ]
    },
    {
      "cell_type": "code",
      "source": [
        "arr_2"
      ],
      "metadata": {
        "colab": {
          "base_uri": "https://localhost:8080/"
        },
        "id": "EQpdpJ8tyRT_",
        "outputId": "6cfb945e-bb15-42f1-dc64-3d5d3bb36901"
      },
      "execution_count": null,
      "outputs": [
        {
          "output_type": "execute_result",
          "data": {
            "text/plain": [
              "array([[4, 5, 6],\n",
              "       [5, 6, 7],\n",
              "       [6, 7, 8]])"
            ]
          },
          "metadata": {},
          "execution_count": 38
        }
      ]
    },
    {
      "cell_type": "code",
      "source": [
        "arr_3.shape"
      ],
      "metadata": {
        "colab": {
          "base_uri": "https://localhost:8080/"
        },
        "id": "NLtVuG7KyTXL",
        "outputId": "89f3a6f0-d49e-4845-90a9-67fbd070f6b4"
      },
      "execution_count": null,
      "outputs": [
        {
          "output_type": "execute_result",
          "data": {
            "text/plain": [
              "(4, 3)"
            ]
          },
          "metadata": {},
          "execution_count": 39
        }
      ]
    },
    {
      "cell_type": "code",
      "source": [
        "arr_3"
      ],
      "metadata": {
        "colab": {
          "base_uri": "https://localhost:8080/"
        },
        "id": "mW4xR9p2yVmt",
        "outputId": "f95d4fd3-50cd-4e6d-bbd6-b930156f7cf6"
      },
      "execution_count": null,
      "outputs": [
        {
          "output_type": "execute_result",
          "data": {
            "text/plain": [
              "array([[ 7,  8,  9],\n",
              "       [ 8,  9, 10],\n",
              "       [ 9, 10, 11],\n",
              "       [10, 11, 12]])"
            ]
          },
          "metadata": {},
          "execution_count": 40
        }
      ]
    },
    {
      "cell_type": "markdown",
      "source": [
        "количество элементов во всех массивах кроме 0й оси по всем осям должно быть одинаковым."
      ],
      "metadata": {
        "id": "LW2dN02_yn47"
      }
    },
    {
      "cell_type": "code",
      "source": [
        "new_arr = np.vstack([arr_1, arr_2, arr_3])\n",
        "new_arr.shape"
      ],
      "metadata": {
        "colab": {
          "base_uri": "https://localhost:8080/"
        },
        "id": "hCIAnWK4yYBC",
        "outputId": "85bac886-ca61-4906-aab7-1ca541768e68"
      },
      "execution_count": null,
      "outputs": [
        {
          "output_type": "execute_result",
          "data": {
            "text/plain": [
              "(10, 3)"
            ]
          },
          "metadata": {},
          "execution_count": 41
        }
      ]
    },
    {
      "cell_type": "code",
      "source": [
        "new_arr"
      ],
      "metadata": {
        "id": "eVSxSj6Uyl5v"
      },
      "execution_count": null,
      "outputs": []
    },
    {
      "cell_type": "markdown",
      "source": [
        "пример применения:"
      ],
      "metadata": {
        "id": "HxxP_VVny00R"
      }
    },
    {
      "cell_type": "code",
      "source": [
        "arr_1 = np.empty([9, 27, 3])\n",
        "arr_2 = np.empty([10, 27, 3])\n",
        "arr_3 = np.empty([8, 27, 3])\n",
        "arr_1.shape"
      ],
      "metadata": {
        "colab": {
          "base_uri": "https://localhost:8080/"
        },
        "id": "fgq-SOZly71P",
        "outputId": "0468fce5-298e-4edc-ee08-6bcc0f6e622b"
      },
      "execution_count": null,
      "outputs": [
        {
          "output_type": "execute_result",
          "data": {
            "text/plain": [
              "(9, 27, 3)"
            ]
          },
          "metadata": {},
          "execution_count": 42
        }
      ]
    },
    {
      "cell_type": "code",
      "source": [
        "arr_2.shape"
      ],
      "metadata": {
        "colab": {
          "base_uri": "https://localhost:8080/"
        },
        "id": "9z3V81zBzMu8",
        "outputId": "d4891c8c-4408-485e-ae05-1708a436ca3c"
      },
      "execution_count": null,
      "outputs": [
        {
          "output_type": "execute_result",
          "data": {
            "text/plain": [
              "(10, 27, 3)"
            ]
          },
          "metadata": {},
          "execution_count": 43
        }
      ]
    },
    {
      "cell_type": "code",
      "source": [
        "arr_3.shape"
      ],
      "metadata": {
        "colab": {
          "base_uri": "https://localhost:8080/"
        },
        "id": "a7NNHW7FzQBa",
        "outputId": "746c140b-dd48-4c6a-e8b8-4bbe69bbb185"
      },
      "execution_count": null,
      "outputs": [
        {
          "output_type": "execute_result",
          "data": {
            "text/plain": [
              "(8, 27, 3)"
            ]
          },
          "metadata": {},
          "execution_count": 44
        }
      ]
    },
    {
      "cell_type": "code",
      "source": [
        "new_arr = np.vstack([arr_1, arr_2, arr_3])\n",
        "new_arr.shape"
      ],
      "metadata": {
        "colab": {
          "base_uri": "https://localhost:8080/"
        },
        "id": "4aaIfh0TzSU6",
        "outputId": "cfc9bf3f-525c-4a5b-fd50-2212e3dab8ec"
      },
      "execution_count": null,
      "outputs": [
        {
          "output_type": "execute_result",
          "data": {
            "text/plain": [
              "(27, 27, 3)"
            ]
          },
          "metadata": {},
          "execution_count": 45
        }
      ]
    },
    {
      "cell_type": "markdown",
      "source": [
        "конкатенация. объединение по указанной оси."
      ],
      "metadata": {
        "id": "gDvuhCENzdu6"
      }
    },
    {
      "cell_type": "code",
      "source": [
        "arr_1 = np.empty([27, 27, 1])\n",
        "arr_2 = np.empty([27, 27, 1])\n",
        "arr_3 = np.empty([27, 27, 1])\n",
        "arr_1.shape"
      ],
      "metadata": {
        "colab": {
          "base_uri": "https://localhost:8080/"
        },
        "id": "8GhErgI7zwaH",
        "outputId": "3b393a3c-3f05-43c0-81d8-6ecc6e6515db"
      },
      "execution_count": null,
      "outputs": [
        {
          "output_type": "execute_result",
          "data": {
            "text/plain": [
              "(27, 27, 1)"
            ]
          },
          "metadata": {},
          "execution_count": 46
        }
      ]
    },
    {
      "cell_type": "code",
      "source": [
        "arr_2.shape"
      ],
      "metadata": {
        "colab": {
          "base_uri": "https://localhost:8080/"
        },
        "id": "MVjAkWwu0Dyb",
        "outputId": "8888e98b-a47c-4d45-9a3f-a539bc2f3bbd"
      },
      "execution_count": null,
      "outputs": [
        {
          "output_type": "execute_result",
          "data": {
            "text/plain": [
              "(27, 27, 1)"
            ]
          },
          "metadata": {},
          "execution_count": 47
        }
      ]
    },
    {
      "cell_type": "code",
      "source": [
        "arr_3.shape"
      ],
      "metadata": {
        "colab": {
          "base_uri": "https://localhost:8080/"
        },
        "id": "rlrnZP0k0GaD",
        "outputId": "34fab0f0-b1d1-4ecd-e5ec-015eaa2e400c"
      },
      "execution_count": null,
      "outputs": [
        {
          "output_type": "execute_result",
          "data": {
            "text/plain": [
              "(27, 27, 1)"
            ]
          },
          "metadata": {},
          "execution_count": 48
        }
      ]
    },
    {
      "cell_type": "markdown",
      "source": [
        "количество элементов по всем осям, кроме оси, по которой идет объединение, должно быть одинаковым:"
      ],
      "metadata": {
        "id": "PhEQNENG0Wib"
      }
    },
    {
      "cell_type": "code",
      "source": [
        "new_arr = np.concatenate([arr_1, arr_2, arr_3], axis=2)\n",
        "new_arr.shape"
      ],
      "metadata": {
        "colab": {
          "base_uri": "https://localhost:8080/"
        },
        "id": "MCx_XB6B0I1p",
        "outputId": "9a7c0b4d-f45b-4485-ab56-2e588cfa424a"
      },
      "execution_count": null,
      "outputs": [
        {
          "output_type": "execute_result",
          "data": {
            "text/plain": [
              "(27, 27, 3)"
            ]
          },
          "metadata": {},
          "execution_count": 49
        }
      ]
    },
    {
      "cell_type": "markdown",
      "source": [
        "разделение массивов."
      ],
      "metadata": {
        "id": "_9fejnzt0qC1"
      }
    },
    {
      "cell_type": "code",
      "source": [
        "arr_1 = np.array([['x_1', 'y_1'], ['x_2', 'y_2'], ['x_3', 'y_3'], ['x_4', 'y_4']])\n",
        "arr_1.shape"
      ],
      "metadata": {
        "colab": {
          "base_uri": "https://localhost:8080/"
        },
        "id": "FO2-d4Zh0tuZ",
        "outputId": "e1373dbe-c71b-450e-e8ae-1e9944955f16"
      },
      "execution_count": null,
      "outputs": [
        {
          "output_type": "execute_result",
          "data": {
            "text/plain": [
              "(4, 2)"
            ]
          },
          "metadata": {},
          "execution_count": 50
        }
      ]
    },
    {
      "cell_type": "code",
      "source": [
        "arr_1"
      ],
      "metadata": {
        "colab": {
          "base_uri": "https://localhost:8080/"
        },
        "id": "l_WROTpL1KGu",
        "outputId": "e96de36b-d3f1-4179-b30a-ceb362b78353"
      },
      "execution_count": null,
      "outputs": [
        {
          "output_type": "execute_result",
          "data": {
            "text/plain": [
              "array([['x_1', 'y_1'],\n",
              "       ['x_2', 'y_2'],\n",
              "       ['x_3', 'y_3'],\n",
              "       ['x_4', 'y_4']], dtype='<U3')"
            ]
          },
          "metadata": {},
          "execution_count": 51
        }
      ]
    },
    {
      "cell_type": "code",
      "source": [
        "arr_list = np.array_split(arr_1, 4, axis=0) # 4 - сколько частей\n",
        "arr_list"
      ],
      "metadata": {
        "colab": {
          "base_uri": "https://localhost:8080/"
        },
        "id": "3H8SkOlF1Nmc",
        "outputId": "1b475a39-bcf8-4810-989c-438a319dfc08"
      },
      "execution_count": null,
      "outputs": [
        {
          "output_type": "execute_result",
          "data": {
            "text/plain": [
              "[array([['x_1', 'y_1']], dtype='<U3'),\n",
              " array([['x_2', 'y_2']], dtype='<U3'),\n",
              " array([['x_3', 'y_3']], dtype='<U3'),\n",
              " array([['x_4', 'y_4']], dtype='<U3')]"
            ]
          },
          "metadata": {},
          "execution_count": 53
        }
      ]
    },
    {
      "cell_type": "markdown",
      "source": [
        "split() возвращает новое представление данного массива -> если в данных массивах поменять значения -> значения поменяются и в исходном массиве:"
      ],
      "metadata": {
        "id": "1pRyr-xn1lqE"
      }
    },
    {
      "cell_type": "code",
      "source": [
        "arr_list[0][0] = 1\n",
        "arr_1"
      ],
      "metadata": {
        "colab": {
          "base_uri": "https://localhost:8080/"
        },
        "id": "sXTf7ySA1jdE",
        "outputId": "73f6322c-39ef-401b-bf76-ff8b521a05ca"
      },
      "execution_count": null,
      "outputs": [
        {
          "output_type": "execute_result",
          "data": {
            "text/plain": [
              "array([['1', '1'],\n",
              "       ['x_2', 'y_2'],\n",
              "       ['x_3', 'y_3'],\n",
              "       ['x_4', 'y_4']], dtype='<U3')"
            ]
          },
          "metadata": {},
          "execution_count": 54
        }
      ]
    },
    {
      "cell_type": "markdown",
      "source": [
        "**добавление и удаление элементов в массив.**\n",
        "\n",
        "---\n",
        "\n"
      ],
      "metadata": {
        "id": "_wMuV-H1I-Ai"
      }
    },
    {
      "cell_type": "markdown",
      "source": [
        "добавление элементов в массив."
      ],
      "metadata": {
        "id": "rxaM4HWkJLJP"
      }
    },
    {
      "cell_type": "code",
      "source": [
        "import numpy as np"
      ],
      "metadata": {
        "id": "pN4G0iwwJPcR"
      },
      "execution_count": null,
      "outputs": []
    },
    {
      "cell_type": "code",
      "source": [
        "data = np.empty([1000, 28, 28])\n",
        "arr_1 = np.empty([50, 28, 28])\n",
        "arr_2 = np.empty([28, 28])\n",
        "data.shape"
      ],
      "metadata": {
        "colab": {
          "base_uri": "https://localhost:8080/"
        },
        "id": "8OkHDtA1JSf4",
        "outputId": "9ae9b0b8-3f95-408f-f220-768a9aa0a44e"
      },
      "execution_count": null,
      "outputs": [
        {
          "output_type": "execute_result",
          "data": {
            "text/plain": [
              "(1000, 28, 28)"
            ]
          },
          "metadata": {},
          "execution_count": 55
        }
      ]
    },
    {
      "cell_type": "code",
      "source": [
        "arr_1.shape"
      ],
      "metadata": {
        "colab": {
          "base_uri": "https://localhost:8080/"
        },
        "id": "mN9ppV5nJlxm",
        "outputId": "09a23b01-59ff-446d-8fc7-2b626810752d"
      },
      "execution_count": null,
      "outputs": [
        {
          "output_type": "execute_result",
          "data": {
            "text/plain": [
              "(50, 28, 28)"
            ]
          },
          "metadata": {},
          "execution_count": 56
        }
      ]
    },
    {
      "cell_type": "code",
      "source": [
        "arr_2.shape"
      ],
      "metadata": {
        "colab": {
          "base_uri": "https://localhost:8080/"
        },
        "id": "kozFGeq2Joy0",
        "outputId": "03409d88-d333-47db-82fd-20b5ef2ae729"
      },
      "execution_count": null,
      "outputs": [
        {
          "output_type": "execute_result",
          "data": {
            "text/plain": [
              "(28, 28)"
            ]
          },
          "metadata": {},
          "execution_count": 57
        }
      ]
    },
    {
      "cell_type": "code",
      "source": [
        "new_data = np.append(data, arr_1)  # вернет одномерный массив"
      ],
      "metadata": {
        "id": "RNGhzKYUJrg2"
      },
      "execution_count": null,
      "outputs": []
    },
    {
      "cell_type": "markdown",
      "source": [
        "append() создаст копию массива data с добавленными элементами из arr_1"
      ],
      "metadata": {
        "id": "uJP5PburJ3jZ"
      }
    },
    {
      "cell_type": "code",
      "source": [
        "new_data.shape"
      ],
      "metadata": {
        "colab": {
          "base_uri": "https://localhost:8080/"
        },
        "id": "y-f94ppcKDc-",
        "outputId": "e1862635-7ad3-424f-c9ab-8c20fd0c480a"
      },
      "execution_count": null,
      "outputs": [
        {
          "output_type": "execute_result",
          "data": {
            "text/plain": [
              "(823200,)"
            ]
          },
          "metadata": {},
          "execution_count": 59
        }
      ]
    },
    {
      "cell_type": "code",
      "source": [
        "new_data = np.append(data, arr_1, axis=0)\n",
        "new_data.shape"
      ],
      "metadata": {
        "colab": {
          "base_uri": "https://localhost:8080/"
        },
        "id": "XoUjd1uvKOng",
        "outputId": "b3511532-bf62-49d7-e198-8e7e2f452092"
      },
      "execution_count": null,
      "outputs": [
        {
          "output_type": "execute_result",
          "data": {
            "text/plain": [
              "(1050, 28, 28)"
            ]
          },
          "metadata": {},
          "execution_count": 60
        }
      ]
    },
    {
      "cell_type": "code",
      "source": [
        "new_data = np.append(data, arr_2[np.newaxis], axis=0)\n",
        "new_data.shape"
      ],
      "metadata": {
        "colab": {
          "base_uri": "https://localhost:8080/"
        },
        "id": "9TtYQPHXKXcT",
        "outputId": "a086d623-7ef5-4e0b-b25c-c1e8bbb8d2f7"
      },
      "execution_count": null,
      "outputs": [
        {
          "output_type": "execute_result",
          "data": {
            "text/plain": [
              "(1001, 28, 28)"
            ]
          },
          "metadata": {},
          "execution_count": 61
        }
      ]
    },
    {
      "cell_type": "markdown",
      "source": [
        "удаление элементов."
      ],
      "metadata": {
        "id": "kM6vNqbzKiwL"
      }
    },
    {
      "cell_type": "code",
      "source": [
        "new_data = np.delete(new_data, 1000, axis=0)\n",
        "new_data.shape"
      ],
      "metadata": {
        "colab": {
          "base_uri": "https://localhost:8080/"
        },
        "id": "hEmB2YwbKlX7",
        "outputId": "c4cd7fcd-590b-4b44-dbea-480999e4d44c"
      },
      "execution_count": null,
      "outputs": [
        {
          "output_type": "execute_result",
          "data": {
            "text/plain": [
              "(1000, 28, 28)"
            ]
          },
          "metadata": {},
          "execution_count": 62
        }
      ]
    },
    {
      "cell_type": "markdown",
      "source": [
        "ускорить добавление элементов в массив."
      ],
      "metadata": {
        "id": "9gC2o-pPKvwj"
      }
    },
    {
      "cell_type": "markdown",
      "source": [
        "пример медленной работы."
      ],
      "metadata": {
        "id": "KUCvwG9cK1rz"
      }
    },
    {
      "cell_type": "code",
      "source": [
        "%%time\n",
        "arr_1 = np.empty([1000, 28, 28])\n",
        "for i in range(1000):\n",
        "  img = np.random.randint(0, 255, 28 * 28).reshape([28, 28])\n",
        "  arr_1 = np.append(arr_1, img[np.newaxis], axis=0)"
      ],
      "metadata": {
        "colab": {
          "base_uri": "https://localhost:8080/"
        },
        "id": "sZ_jCXyeK1Iw",
        "outputId": "94c63a64-dc9c-48c9-bd53-50e8fb8fe457"
      },
      "execution_count": null,
      "outputs": [
        {
          "output_type": "stream",
          "name": "stdout",
          "text": [
            "CPU times: user 1.41 s, sys: 3.42 s, total: 4.82 s\n",
            "Wall time: 4.85 s\n"
          ]
        }
      ]
    },
    {
      "cell_type": "markdown",
      "source": [
        "пример с ускорением добавления элементов в массив. Не добавляем элементы, а меняем старые. Используется, когда нужно добавить много элементов."
      ],
      "metadata": {
        "id": "8fbk0UGgLidj"
      }
    },
    {
      "cell_type": "code",
      "source": [
        "%%time\n",
        "arr = np.empty([1000, 28, 28])\n",
        "arr.resize([2000, 28, 28])\n",
        "for i in range(1000):\n",
        "  img = np.random.randint(0, 255, 28 * 28).reshape([28, 28])\n",
        "  arr[1000 + i] = img"
      ],
      "metadata": {
        "colab": {
          "base_uri": "https://localhost:8080/"
        },
        "id": "oLCrEUbRK0cj",
        "outputId": "dbedeffd-dd06-4048-f594-1ead57054c3d"
      },
      "execution_count": null,
      "outputs": [
        {
          "output_type": "stream",
          "name": "stdout",
          "text": [
            "CPU times: user 23.1 ms, sys: 6.05 ms, total: 29.2 ms\n",
            "Wall time: 30.2 ms\n"
          ]
        }
      ]
    },
    {
      "cell_type": "markdown",
      "source": [
        "При удалении элементов с помощью функции np.delete() можно:\n",
        "\n",
        "передавать индекс элемента который нужно удалить\n",
        "          np.delete(..., 5, axis=...)\n",
        "\n",
        "передавать список или массив с индексами элементов которые нужно удалить\n",
        "          np.delete(..., [2, 4, 19], axis=...)\n",
        "\n",
        "передавать список или массив с булевыми значениями. Количество элементов в списке\\массиве с булевыми значениями должно совпадать с количеством элементов оси на которой удаляются элементы. Будут удалены элементы чей индекс равен индексам значений True.\n",
        "          np.delete(..., [True, False, False], axis=...)"
      ],
      "metadata": {
        "id": "BGlqUaq3PwtT"
      }
    },
    {
      "cell_type": "markdown",
      "source": [
        "**индексация и срезы.**\n",
        "\n",
        "---\n",
        "\n"
      ],
      "metadata": {
        "id": "BHkrXsOJPzCB"
      }
    },
    {
      "cell_type": "code",
      "source": [
        "import numpy as np"
      ],
      "metadata": {
        "id": "bLrkferAXD_j"
      },
      "execution_count": null,
      "outputs": []
    },
    {
      "cell_type": "code",
      "source": [
        "arr = np.array([1, 2, 3, 4, 5])\n",
        "arr"
      ],
      "metadata": {
        "colab": {
          "base_uri": "https://localhost:8080/"
        },
        "id": "FoxXSND_XJUN",
        "outputId": "5136e1a8-9e94-4633-deca-152d65124ef2"
      },
      "execution_count": null,
      "outputs": [
        {
          "output_type": "execute_result",
          "data": {
            "text/plain": [
              "array([1, 2, 3, 4, 5])"
            ]
          },
          "metadata": {},
          "execution_count": 65
        }
      ]
    },
    {
      "cell_type": "code",
      "source": [
        "arr[3]"
      ],
      "metadata": {
        "colab": {
          "base_uri": "https://localhost:8080/"
        },
        "id": "JVMp6srOXTgN",
        "outputId": "e57ecc8c-e865-4a4f-a4e1-087e0df84359"
      },
      "execution_count": null,
      "outputs": [
        {
          "output_type": "execute_result",
          "data": {
            "text/plain": [
              "4"
            ]
          },
          "metadata": {},
          "execution_count": 66
        }
      ]
    },
    {
      "cell_type": "markdown",
      "source": [
        "если массив не одномерный."
      ],
      "metadata": {
        "id": "DevNCjD3XWUk"
      }
    },
    {
      "cell_type": "code",
      "source": [
        "arr = np.arange(18).reshape(3, 3, 2)\n",
        "arr.shape"
      ],
      "metadata": {
        "colab": {
          "base_uri": "https://localhost:8080/"
        },
        "id": "aZR8jL5jXbRZ",
        "outputId": "3cb3f20a-473d-4289-915b-6bbbe29852d0"
      },
      "execution_count": null,
      "outputs": [
        {
          "output_type": "execute_result",
          "data": {
            "text/plain": [
              "(3, 3, 2)"
            ]
          },
          "metadata": {},
          "execution_count": 67
        }
      ]
    },
    {
      "cell_type": "code",
      "source": [
        "arr"
      ],
      "metadata": {
        "colab": {
          "base_uri": "https://localhost:8080/"
        },
        "id": "Byp05uiaXkVY",
        "outputId": "40ad8b98-3d07-49db-dd2b-66ca51ce565a"
      },
      "execution_count": null,
      "outputs": [
        {
          "output_type": "execute_result",
          "data": {
            "text/plain": [
              "array([[[ 0,  1],\n",
              "        [ 2,  3],\n",
              "        [ 4,  5]],\n",
              "\n",
              "       [[ 6,  7],\n",
              "        [ 8,  9],\n",
              "        [10, 11]],\n",
              "\n",
              "       [[12, 13],\n",
              "        [14, 15],\n",
              "        [16, 17]]])"
            ]
          },
          "metadata": {},
          "execution_count": 68
        }
      ]
    },
    {
      "cell_type": "code",
      "source": [
        "arr[0]"
      ],
      "metadata": {
        "colab": {
          "base_uri": "https://localhost:8080/"
        },
        "id": "xCU58qStXnvr",
        "outputId": "830e1c1a-c471-437d-b0f8-285526e6215d"
      },
      "execution_count": null,
      "outputs": [
        {
          "output_type": "execute_result",
          "data": {
            "text/plain": [
              "array([[0, 1],\n",
              "       [2, 3],\n",
              "       [4, 5]])"
            ]
          },
          "metadata": {},
          "execution_count": 69
        }
      ]
    },
    {
      "cell_type": "code",
      "source": [
        "arr[2, 0]"
      ],
      "metadata": {
        "colab": {
          "base_uri": "https://localhost:8080/"
        },
        "id": "hZSmiS6uXpzG",
        "outputId": "0dc7cd79-bdd8-4a92-866c-1aa6c4268efd"
      },
      "execution_count": null,
      "outputs": [
        {
          "output_type": "execute_result",
          "data": {
            "text/plain": [
              "array([12, 13])"
            ]
          },
          "metadata": {},
          "execution_count": 70
        }
      ]
    },
    {
      "cell_type": "code",
      "source": [
        "arr[2, 2, 0]"
      ],
      "metadata": {
        "colab": {
          "base_uri": "https://localhost:8080/"
        },
        "id": "VD7pA-ycXrqt",
        "outputId": "d00a0849-fea2-4060-8bc1-fe525b2901d0"
      },
      "execution_count": null,
      "outputs": [
        {
          "output_type": "execute_result",
          "data": {
            "text/plain": [
              "16"
            ]
          },
          "metadata": {},
          "execution_count": 71
        }
      ]
    },
    {
      "cell_type": "markdown",
      "source": [
        "меняем элементы массива."
      ],
      "metadata": {
        "id": "s0ZWny1jX1Tg"
      }
    },
    {
      "cell_type": "code",
      "source": [
        "arr[1, 2] = [100, 100]\n",
        "arr"
      ],
      "metadata": {
        "colab": {
          "base_uri": "https://localhost:8080/"
        },
        "id": "AvdqS66EX46A",
        "outputId": "ec63788c-1eb4-4ad4-997f-a2d29f84600a"
      },
      "execution_count": null,
      "outputs": [
        {
          "output_type": "execute_result",
          "data": {
            "text/plain": [
              "array([[[  0,   1],\n",
              "        [  2,   3],\n",
              "        [  4,   5]],\n",
              "\n",
              "       [[  6,   7],\n",
              "        [  8,   9],\n",
              "        [100, 100]],\n",
              "\n",
              "       [[ 12,  13],\n",
              "        [ 14,  15],\n",
              "        [ 16,  17]]])"
            ]
          },
          "metadata": {},
          "execution_count": 72
        }
      ]
    },
    {
      "cell_type": "code",
      "source": [
        "arr = np.arange(18).reshape(3, 3, 2)\n",
        "arr[0, 0, 1] = 7\n",
        "arr"
      ],
      "metadata": {
        "colab": {
          "base_uri": "https://localhost:8080/"
        },
        "id": "FKWB5n32YF8c",
        "outputId": "4e2af1b6-8caa-4824-f69f-61256eb504a7"
      },
      "execution_count": null,
      "outputs": [
        {
          "output_type": "execute_result",
          "data": {
            "text/plain": [
              "array([[[ 0,  7],\n",
              "        [ 2,  3],\n",
              "        [ 4,  5]],\n",
              "\n",
              "       [[ 6,  7],\n",
              "        [ 8,  9],\n",
              "        [10, 11]],\n",
              "\n",
              "       [[12, 13],\n",
              "        [14, 15],\n",
              "        [16, 17]]])"
            ]
          },
          "metadata": {},
          "execution_count": 74
        }
      ]
    },
    {
      "cell_type": "markdown",
      "source": [
        "срезы."
      ],
      "metadata": {
        "id": "WcZmS7yDYTLp"
      }
    },
    {
      "cell_type": "code",
      "source": [
        "arr = np.arange(4*3*2).reshape([4, 3, 2])\n",
        "arr.shape"
      ],
      "metadata": {
        "colab": {
          "base_uri": "https://localhost:8080/"
        },
        "id": "PeYWLjKUYVb0",
        "outputId": "0bcfc33e-e3b6-492e-ffe8-7aa9301993a6"
      },
      "execution_count": null,
      "outputs": [
        {
          "output_type": "execute_result",
          "data": {
            "text/plain": [
              "(4, 3, 2)"
            ]
          },
          "metadata": {},
          "execution_count": 75
        }
      ]
    },
    {
      "cell_type": "code",
      "source": [
        "arr"
      ],
      "metadata": {
        "colab": {
          "base_uri": "https://localhost:8080/"
        },
        "id": "zKnajXX0Yiar",
        "outputId": "964f716f-c6c4-41ab-e16c-8976985c7d5c"
      },
      "execution_count": null,
      "outputs": [
        {
          "output_type": "execute_result",
          "data": {
            "text/plain": [
              "array([[[ 0,  1],\n",
              "        [ 2,  3],\n",
              "        [ 4,  5]],\n",
              "\n",
              "       [[ 6,  7],\n",
              "        [ 8,  9],\n",
              "        [10, 11]],\n",
              "\n",
              "       [[12, 13],\n",
              "        [14, 15],\n",
              "        [16, 17]],\n",
              "\n",
              "       [[18, 19],\n",
              "        [20, 21],\n",
              "        [22, 23]]])"
            ]
          },
          "metadata": {},
          "execution_count": 76
        }
      ]
    },
    {
      "cell_type": "code",
      "source": [
        "arr[0: 2, 2] # срезы возвращают новое представление массива."
      ],
      "metadata": {
        "colab": {
          "base_uri": "https://localhost:8080/"
        },
        "id": "HaL1-BOVYraB",
        "outputId": "11dd1d66-32f8-4aae-9efc-c238185950f3"
      },
      "execution_count": null,
      "outputs": [
        {
          "output_type": "execute_result",
          "data": {
            "text/plain": [
              "array([[ 4,  5],\n",
              "       [10, 11]])"
            ]
          },
          "metadata": {},
          "execution_count": 77
        }
      ]
    },
    {
      "cell_type": "markdown",
      "source": [
        "полный срез элементов для любой из осей:"
      ],
      "metadata": {
        "id": "-L__ClwkY5Kc"
      }
    },
    {
      "cell_type": "code",
      "source": [
        "arr[:, 1]"
      ],
      "metadata": {
        "colab": {
          "base_uri": "https://localhost:8080/"
        },
        "id": "b1qlGxvMZArh",
        "outputId": "e216fd7a-043e-4306-f9ff-adbe2518ccdd"
      },
      "execution_count": null,
      "outputs": [
        {
          "output_type": "execute_result",
          "data": {
            "text/plain": [
              "array([[ 2,  3],\n",
              "       [ 8,  9],\n",
              "       [14, 15],\n",
              "       [20, 21]])"
            ]
          },
          "metadata": {},
          "execution_count": 78
        }
      ]
    },
    {
      "cell_type": "code",
      "source": [
        "arr[1:, :, 1]"
      ],
      "metadata": {
        "colab": {
          "base_uri": "https://localhost:8080/"
        },
        "id": "Py6qSzBPZHa9",
        "outputId": "b8c1a4e8-6306-49ed-918f-34d4cce75ffe"
      },
      "execution_count": null,
      "outputs": [
        {
          "output_type": "execute_result",
          "data": {
            "text/plain": [
              "array([[ 7,  9, 11],\n",
              "       [13, 15, 17],\n",
              "       [19, 21, 23]])"
            ]
          },
          "metadata": {},
          "execution_count": 79
        }
      ]
    },
    {
      "cell_type": "code",
      "source": [
        "arr[::2, 2]"
      ],
      "metadata": {
        "colab": {
          "base_uri": "https://localhost:8080/"
        },
        "id": "tSXFZM0xZPM8",
        "outputId": "176b3d7c-b3b3-4614-90b4-fe24afb78dac"
      },
      "execution_count": null,
      "outputs": [
        {
          "output_type": "execute_result",
          "data": {
            "text/plain": [
              "array([[ 4,  5],\n",
              "       [16, 17]])"
            ]
          },
          "metadata": {},
          "execution_count": 80
        }
      ]
    },
    {
      "cell_type": "markdown",
      "source": [
        "поменять элементы массива:"
      ],
      "metadata": {
        "id": "Q-r4XiksZTsw"
      }
    },
    {
      "cell_type": "code",
      "source": [
        "arr"
      ],
      "metadata": {
        "colab": {
          "base_uri": "https://localhost:8080/"
        },
        "id": "PeIDOBBaZfsl",
        "outputId": "81346bf7-7e5e-4859-ab43-3545a776a500"
      },
      "execution_count": null,
      "outputs": [
        {
          "output_type": "execute_result",
          "data": {
            "text/plain": [
              "array([[[100, 100],\n",
              "        [100, 100],\n",
              "        [100, 100]],\n",
              "\n",
              "       [[100, 100],\n",
              "        [100, 100],\n",
              "        [100, 100]],\n",
              "\n",
              "       [[ 12,  13],\n",
              "        [ 14,  15],\n",
              "        [ 16,  17]],\n",
              "\n",
              "       [[ 18,  19],\n",
              "        [ 20,  21],\n",
              "        [ 22,  23]]])"
            ]
          },
          "metadata": {},
          "execution_count": 82
        }
      ]
    },
    {
      "cell_type": "code",
      "source": [
        "arr[:2] = 100\n",
        "arr"
      ],
      "metadata": {
        "colab": {
          "base_uri": "https://localhost:8080/"
        },
        "id": "mZJAFUCAZXtA",
        "outputId": "2f81bbb1-bacc-47a8-bab6-258cce548786"
      },
      "execution_count": null,
      "outputs": [
        {
          "output_type": "execute_result",
          "data": {
            "text/plain": [
              "array([[[100, 100],\n",
              "        [100, 100],\n",
              "        [100, 100]],\n",
              "\n",
              "       [[100, 100],\n",
              "        [100, 100],\n",
              "        [100, 100]],\n",
              "\n",
              "       [[ 12,  13],\n",
              "        [ 14,  15],\n",
              "        [ 16,  17]],\n",
              "\n",
              "       [[ 18,  19],\n",
              "        [ 20,  21],\n",
              "        [ 22,  23]]])"
            ]
          },
          "metadata": {},
          "execution_count": 81
        }
      ]
    },
    {
      "cell_type": "code",
      "source": [
        "new_arr = arr[:, 1]\n",
        "new_arr"
      ],
      "metadata": {
        "colab": {
          "base_uri": "https://localhost:8080/"
        },
        "id": "Au8pttehZjKp",
        "outputId": "bdc3bb0b-7ac7-4205-8559-dde2c18e3a50"
      },
      "execution_count": null,
      "outputs": [
        {
          "output_type": "execute_result",
          "data": {
            "text/plain": [
              "array([[100, 100],\n",
              "       [100, 100],\n",
              "       [ 14,  15],\n",
              "       [ 20,  21]])"
            ]
          },
          "metadata": {},
          "execution_count": 83
        }
      ]
    },
    {
      "cell_type": "code",
      "source": [
        "arr"
      ],
      "metadata": {
        "colab": {
          "base_uri": "https://localhost:8080/"
        },
        "id": "yWMYmPveZqOb",
        "outputId": "2bee86c5-117c-4d37-f712-b7a4fe4d15e4"
      },
      "execution_count": null,
      "outputs": [
        {
          "output_type": "execute_result",
          "data": {
            "text/plain": [
              "array([[[100, 100],\n",
              "        [100, 100],\n",
              "        [100, 100]],\n",
              "\n",
              "       [[100, 100],\n",
              "        [100, 100],\n",
              "        [100, 100]],\n",
              "\n",
              "       [[ 12,  13],\n",
              "        [ 14,  15],\n",
              "        [ 16,  17]],\n",
              "\n",
              "       [[ 18,  19],\n",
              "        [ 20,  21],\n",
              "        [ 22,  23]]])"
            ]
          },
          "metadata": {},
          "execution_count": 84
        }
      ]
    },
    {
      "cell_type": "code",
      "source": [
        "new_arr[1] = 50\n",
        "new_arr"
      ],
      "metadata": {
        "colab": {
          "base_uri": "https://localhost:8080/"
        },
        "id": "AEldKoJVZr_0",
        "outputId": "8ad1ce9e-634d-45da-9916-0ed2ed039592"
      },
      "execution_count": null,
      "outputs": [
        {
          "output_type": "execute_result",
          "data": {
            "text/plain": [
              "array([[100, 100],\n",
              "       [ 50,  50],\n",
              "       [ 14,  15],\n",
              "       [ 20,  21]])"
            ]
          },
          "metadata": {},
          "execution_count": 85
        }
      ]
    },
    {
      "cell_type": "code",
      "source": [
        "arr"
      ],
      "metadata": {
        "colab": {
          "base_uri": "https://localhost:8080/"
        },
        "id": "n42tSbHaZyfv",
        "outputId": "3d83345e-0a77-416b-c0a8-6ef778121e7e"
      },
      "execution_count": null,
      "outputs": [
        {
          "output_type": "execute_result",
          "data": {
            "text/plain": [
              "array([[[100, 100],\n",
              "        [100, 100],\n",
              "        [100, 100]],\n",
              "\n",
              "       [[100, 100],\n",
              "        [ 50,  50],\n",
              "        [100, 100]],\n",
              "\n",
              "       [[ 12,  13],\n",
              "        [ 14,  15],\n",
              "        [ 16,  17]],\n",
              "\n",
              "       [[ 18,  19],\n",
              "        [ 20,  21],\n",
              "        [ 22,  23]]])"
            ]
          },
          "metadata": {},
          "execution_count": 86
        }
      ]
    },
    {
      "cell_type": "markdown",
      "source": [
        "срезы возвращают новое представление массивов, изменения касаются исходного массива."
      ],
      "metadata": {
        "id": "T2ctRxWyZ1RB"
      }
    },
    {
      "cell_type": "markdown",
      "source": [
        "списочная индексация."
      ],
      "metadata": {
        "id": "RT5_r77aaGLf"
      }
    },
    {
      "cell_type": "code",
      "source": [
        "arr[[1, 3, 1, 2, 0]]"
      ],
      "metadata": {
        "colab": {
          "base_uri": "https://localhost:8080/"
        },
        "id": "hzzMlAQjaKv1",
        "outputId": "71411b33-9b82-4b85-baba-fc0f983365a4"
      },
      "execution_count": null,
      "outputs": [
        {
          "output_type": "execute_result",
          "data": {
            "text/plain": [
              "array([[[100, 100],\n",
              "        [ 50,  50],\n",
              "        [100, 100]],\n",
              "\n",
              "       [[ 18,  19],\n",
              "        [ 20,  21],\n",
              "        [ 22,  23]],\n",
              "\n",
              "       [[100, 100],\n",
              "        [ 50,  50],\n",
              "        [100, 100]],\n",
              "\n",
              "       [[ 12,  13],\n",
              "        [ 14,  15],\n",
              "        [ 16,  17]],\n",
              "\n",
              "       [[100, 100],\n",
              "        [100, 100],\n",
              "        [100, 100]]])"
            ]
          },
          "metadata": {},
          "execution_count": 87
        }
      ]
    },
    {
      "cell_type": "code",
      "source": [
        "arr[np.array([1, 3, 1, 2, 0])]"
      ],
      "metadata": {
        "colab": {
          "base_uri": "https://localhost:8080/"
        },
        "id": "I0ffz-I-aQbe",
        "outputId": "7004501c-fd55-4873-a97e-eb79abe2766d"
      },
      "execution_count": null,
      "outputs": [
        {
          "output_type": "execute_result",
          "data": {
            "text/plain": [
              "array([[[100, 100],\n",
              "        [ 50,  50],\n",
              "        [100, 100]],\n",
              "\n",
              "       [[ 18,  19],\n",
              "        [ 20,  21],\n",
              "        [ 22,  23]],\n",
              "\n",
              "       [[100, 100],\n",
              "        [ 50,  50],\n",
              "        [100, 100]],\n",
              "\n",
              "       [[ 12,  13],\n",
              "        [ 14,  15],\n",
              "        [ 16,  17]],\n",
              "\n",
              "       [[100, 100],\n",
              "        [100, 100],\n",
              "        [100, 100]]])"
            ]
          },
          "metadata": {},
          "execution_count": 88
        }
      ]
    },
    {
      "cell_type": "code",
      "source": [
        "arr[[True, False, False, True]] # количество элементов должно совпадать с количеством элементов на нулевой оси."
      ],
      "metadata": {
        "colab": {
          "base_uri": "https://localhost:8080/"
        },
        "id": "TdHaK9RLaaei",
        "outputId": "e4c531fa-20e4-4878-a77d-9478fc63daf1"
      },
      "execution_count": null,
      "outputs": [
        {
          "output_type": "execute_result",
          "data": {
            "text/plain": [
              "array([[[100, 100],\n",
              "        [100, 100],\n",
              "        [100, 100]],\n",
              "\n",
              "       [[ 18,  19],\n",
              "        [ 20,  21],\n",
              "        [ 22,  23]]])"
            ]
          },
          "metadata": {},
          "execution_count": 89
        }
      ]
    },
    {
      "cell_type": "code",
      "source": [
        "new_arr = arr[[True, False, False, True]]\n",
        "new_arr"
      ],
      "metadata": {
        "colab": {
          "base_uri": "https://localhost:8080/"
        },
        "id": "qrtYImd2asXo",
        "outputId": "91d5ceca-a442-4cad-e918-a61a35ceadae"
      },
      "execution_count": null,
      "outputs": [
        {
          "output_type": "execute_result",
          "data": {
            "text/plain": [
              "array([[[100, 100],\n",
              "        [100, 100],\n",
              "        [100, 100]],\n",
              "\n",
              "       [[ 18,  19],\n",
              "        [ 20,  21],\n",
              "        [ 22,  23]]])"
            ]
          },
          "metadata": {},
          "execution_count": 91
        }
      ]
    },
    {
      "cell_type": "code",
      "source": [
        "new_arr[0, 1] = 200\n",
        "new_arr"
      ],
      "metadata": {
        "colab": {
          "base_uri": "https://localhost:8080/"
        },
        "id": "nrK9RusJa3I-",
        "outputId": "31850820-c707-4393-c849-ca81b628b789"
      },
      "execution_count": null,
      "outputs": [
        {
          "output_type": "execute_result",
          "data": {
            "text/plain": [
              "array([[[100, 100],\n",
              "        [200, 200],\n",
              "        [100, 100]],\n",
              "\n",
              "       [[ 18,  19],\n",
              "        [ 20,  21],\n",
              "        [ 22,  23]]])"
            ]
          },
          "metadata": {},
          "execution_count": 92
        }
      ]
    },
    {
      "cell_type": "code",
      "source": [
        "arr"
      ],
      "metadata": {
        "colab": {
          "base_uri": "https://localhost:8080/"
        },
        "id": "hixyEZFba9Fw",
        "outputId": "07819b9e-beee-4bcb-f000-f396742b7185"
      },
      "execution_count": null,
      "outputs": [
        {
          "output_type": "execute_result",
          "data": {
            "text/plain": [
              "array([[[100, 100],\n",
              "        [100, 100],\n",
              "        [100, 100]],\n",
              "\n",
              "       [[100, 100],\n",
              "        [ 50,  50],\n",
              "        [100, 100]],\n",
              "\n",
              "       [[ 12,  13],\n",
              "        [ 14,  15],\n",
              "        [ 16,  17]],\n",
              "\n",
              "       [[ 18,  19],\n",
              "        [ 20,  21],\n",
              "        [ 22,  23]]])"
            ]
          },
          "metadata": {},
          "execution_count": 93
        }
      ]
    },
    {
      "cell_type": "markdown",
      "source": [
        "при списчной индексации возвращается копия массива. Изменения не касаются исходного массива."
      ],
      "metadata": {
        "id": "2O6dGRsua-55"
      }
    },
    {
      "cell_type": "code",
      "source": [
        "arr = np.arange(6).reshape([3, 2])\n",
        "arr"
      ],
      "metadata": {
        "colab": {
          "base_uri": "https://localhost:8080/"
        },
        "id": "NGERGuxzbSEA",
        "outputId": "e9ea338a-5ac3-40ae-8706-8e631ae750c5"
      },
      "execution_count": null,
      "outputs": [
        {
          "output_type": "execute_result",
          "data": {
            "text/plain": [
              "array([[0, 1],\n",
              "       [2, 3],\n",
              "       [4, 5]])"
            ]
          },
          "metadata": {},
          "execution_count": 94
        }
      ]
    },
    {
      "cell_type": "code",
      "source": [
        "index = np.array([[0, 0, 1], [1, 0, 2]])\n",
        "index"
      ],
      "metadata": {
        "colab": {
          "base_uri": "https://localhost:8080/"
        },
        "id": "PX9AzLZEbajU",
        "outputId": "1f9ec212-024b-43ed-d701-5b0cfd9bdf45"
      },
      "execution_count": null,
      "outputs": [
        {
          "output_type": "execute_result",
          "data": {
            "text/plain": [
              "array([[0, 0, 1],\n",
              "       [1, 0, 2]])"
            ]
          },
          "metadata": {},
          "execution_count": 95
        }
      ]
    },
    {
      "cell_type": "code",
      "source": [
        "arr[index]"
      ],
      "metadata": {
        "colab": {
          "base_uri": "https://localhost:8080/"
        },
        "id": "q3eKwia_bjhV",
        "outputId": "7ded90bf-ae30-4365-e865-1ed4ecf9a706"
      },
      "execution_count": null,
      "outputs": [
        {
          "output_type": "execute_result",
          "data": {
            "text/plain": [
              "array([[[0, 1],\n",
              "        [0, 1],\n",
              "        [2, 3]],\n",
              "\n",
              "       [[2, 3],\n",
              "        [0, 1],\n",
              "        [4, 5]]])"
            ]
          },
          "metadata": {},
          "execution_count": 96
        }
      ]
    },
    {
      "cell_type": "markdown",
      "source": [
        "**математические операции. транслирование массивов.**\n",
        "\n",
        "---\n",
        "\n"
      ],
      "metadata": {
        "id": "HzuADxS4yr-g"
      }
    },
    {
      "cell_type": "code",
      "source": [
        "import numpy as np"
      ],
      "metadata": {
        "id": "i6Rfty0Ny1aA"
      },
      "execution_count": null,
      "outputs": []
    },
    {
      "cell_type": "code",
      "source": [
        "arr_1 = np.arange(6).reshape(3, 2)\n",
        "arr_1"
      ],
      "metadata": {
        "colab": {
          "base_uri": "https://localhost:8080/"
        },
        "id": "IeIy5HWXy4sj",
        "outputId": "cca7423d-ce27-4ec3-84be-b78bc742a8d5"
      },
      "execution_count": null,
      "outputs": [
        {
          "output_type": "execute_result",
          "data": {
            "text/plain": [
              "array([[0, 1],\n",
              "       [2, 3],\n",
              "       [4, 5]])"
            ]
          },
          "metadata": {},
          "execution_count": 98
        }
      ]
    },
    {
      "cell_type": "code",
      "source": [
        "arr_2 = np.arange(10, 16).reshape(3, 2)\n",
        "arr_2"
      ],
      "metadata": {
        "colab": {
          "base_uri": "https://localhost:8080/"
        },
        "id": "bRDgk4uqzBNZ",
        "outputId": "d0878676-1280-4b06-88c7-29fcadf4eceb"
      },
      "execution_count": null,
      "outputs": [
        {
          "output_type": "execute_result",
          "data": {
            "text/plain": [
              "array([[10, 11],\n",
              "       [12, 13],\n",
              "       [14, 15]])"
            ]
          },
          "metadata": {},
          "execution_count": 100
        }
      ]
    },
    {
      "cell_type": "markdown",
      "source": [
        "простые математические операции с числами."
      ],
      "metadata": {
        "id": "95GII_YfzV4q"
      }
    },
    {
      "cell_type": "code",
      "source": [
        "arr_1 + 5"
      ],
      "metadata": {
        "colab": {
          "base_uri": "https://localhost:8080/"
        },
        "id": "FqhlvHtdzaia",
        "outputId": "1d42e4cc-3979-47f8-e82d-24b250e4168f"
      },
      "execution_count": null,
      "outputs": [
        {
          "output_type": "execute_result",
          "data": {
            "text/plain": [
              "array([[ 5,  6],\n",
              "       [ 7,  8],\n",
              "       [ 9, 10]])"
            ]
          },
          "metadata": {},
          "execution_count": 101
        }
      ]
    },
    {
      "cell_type": "markdown",
      "source": [
        "математические операции с массивами одинакового размера."
      ],
      "metadata": {
        "id": "OIffYt9szfgI"
      }
    },
    {
      "cell_type": "code",
      "source": [
        "arr_1 + arr_2"
      ],
      "metadata": {
        "colab": {
          "base_uri": "https://localhost:8080/"
        },
        "id": "xaa9vx8fzo-4",
        "outputId": "f8ad1b54-c0f0-4f49-c0e1-56923815e914"
      },
      "execution_count": null,
      "outputs": [
        {
          "output_type": "execute_result",
          "data": {
            "text/plain": [
              "array([[10, 12],\n",
              "       [14, 16],\n",
              "       [18, 20]])"
            ]
          },
          "metadata": {},
          "execution_count": 102
        }
      ]
    },
    {
      "cell_type": "markdown",
      "source": [
        "математические операции с массивами разного размера."
      ],
      "metadata": {
        "id": "L0uSQVUCzurR"
      }
    },
    {
      "cell_type": "code",
      "source": [
        "arr = np.array([3])\n",
        "arr.shape"
      ],
      "metadata": {
        "colab": {
          "base_uri": "https://localhost:8080/"
        },
        "id": "MCYuApjwz2GR",
        "outputId": "0915a534-566b-404c-fcd9-d2254f97d98a"
      },
      "execution_count": null,
      "outputs": [
        {
          "output_type": "execute_result",
          "data": {
            "text/plain": [
              "(1,)"
            ]
          },
          "metadata": {},
          "execution_count": 103
        }
      ]
    },
    {
      "cell_type": "code",
      "source": [
        "arr"
      ],
      "metadata": {
        "colab": {
          "base_uri": "https://localhost:8080/"
        },
        "id": "0ZuT5kbs0I2B",
        "outputId": "5f334b0d-4b9d-40c0-88d4-a82a76785dda"
      },
      "execution_count": null,
      "outputs": [
        {
          "output_type": "execute_result",
          "data": {
            "text/plain": [
              "array([3])"
            ]
          },
          "metadata": {},
          "execution_count": 106
        }
      ]
    },
    {
      "cell_type": "code",
      "source": [
        "arr_1.shape"
      ],
      "metadata": {
        "colab": {
          "base_uri": "https://localhost:8080/"
        },
        "id": "kNFxgA5lz-uu",
        "outputId": "98e38916-6b05-4caf-98df-9cb8648af914"
      },
      "execution_count": null,
      "outputs": [
        {
          "output_type": "execute_result",
          "data": {
            "text/plain": [
              "(3, 2)"
            ]
          },
          "metadata": {},
          "execution_count": 104
        }
      ]
    },
    {
      "cell_type": "code",
      "source": [
        "arr_1 * arr"
      ],
      "metadata": {
        "colab": {
          "base_uri": "https://localhost:8080/"
        },
        "id": "tePZ6-Mi0C7L",
        "outputId": "c59815c3-bce2-42b0-8b44-0bab61685577"
      },
      "execution_count": null,
      "outputs": [
        {
          "output_type": "execute_result",
          "data": {
            "text/plain": [
              "array([[ 0,  3],\n",
              "       [ 6,  9],\n",
              "       [12, 15]])"
            ]
          },
          "metadata": {},
          "execution_count": 105
        }
      ]
    },
    {
      "cell_type": "markdown",
      "source": [
        "транслирование массивов.\n",
        "согласованные массивы - массивы одинакового размера. математические операции и операции сравнения можно проводить только с массивами согласованными. Если массивы не согласованы, то выполняется транслирование, тогда математические операции и операции сравнения становятся возможными.\n",
        "Правила транслирования:\n",
        "1. если массивы имеют разное количество осей, то к массиву с меньшим количеством, добавляются новые, чтобы размерности совпали. Автоматически добавление осей происходит слева, но самим можно добавлять любые оси.\n",
        "2. в массивах на соответствующих осях должно быть одинаковое количество элементов, или 1 элемент в одном из массивов.\n",
        "Массив любого размера всегда согласован с числом или с массивом, состоящим из одного элемента."
      ],
      "metadata": {
        "id": "N7JVgoPo0L2t"
      }
    },
    {
      "cell_type": "code",
      "source": [
        "arr = np.array([5, 2, 7])\n",
        "arr.shape"
      ],
      "metadata": {
        "colab": {
          "base_uri": "https://localhost:8080/"
        },
        "id": "Sysb8XAk2JrE",
        "outputId": "4c80f7e5-4148-4d4a-972b-94a844a97037"
      },
      "execution_count": 107,
      "outputs": [
        {
          "output_type": "execute_result",
          "data": {
            "text/plain": [
              "(3,)"
            ]
          },
          "metadata": {},
          "execution_count": 107
        }
      ]
    },
    {
      "cell_type": "code",
      "source": [
        "arr_1.shape"
      ],
      "metadata": {
        "colab": {
          "base_uri": "https://localhost:8080/"
        },
        "id": "yPWaPzQv2RqW",
        "outputId": "fa5ec4db-2e49-4d94-8f85-3c77dbf70b21"
      },
      "execution_count": 108,
      "outputs": [
        {
          "output_type": "execute_result",
          "data": {
            "text/plain": [
              "(3, 2)"
            ]
          },
          "metadata": {},
          "execution_count": 108
        }
      ]
    },
    {
      "cell_type": "code",
      "source": [
        "arr_1 * arr"
      ],
      "metadata": {
        "colab": {
          "base_uri": "https://localhost:8080/",
          "height": 141
        },
        "id": "1CuRNiHA2WcW",
        "outputId": "6d5f234c-c213-4051-87c1-84d989a054f6"
      },
      "execution_count": 109,
      "outputs": [
        {
          "output_type": "error",
          "ename": "ValueError",
          "evalue": "operands could not be broadcast together with shapes (3,2) (3,) ",
          "traceback": [
            "\u001b[0;31m---------------------------------------------------------------------------\u001b[0m",
            "\u001b[0;31mValueError\u001b[0m                                Traceback (most recent call last)",
            "\u001b[0;32m<ipython-input-109-1c62606fc18a>\u001b[0m in \u001b[0;36m<cell line: 1>\u001b[0;34m()\u001b[0m\n\u001b[0;32m----> 1\u001b[0;31m \u001b[0marr_1\u001b[0m \u001b[0;34m*\u001b[0m \u001b[0marr\u001b[0m\u001b[0;34m\u001b[0m\u001b[0;34m\u001b[0m\u001b[0m\n\u001b[0m",
            "\u001b[0;31mValueError\u001b[0m: operands could not be broadcast together with shapes (3,2) (3,) "
          ]
        }
      ]
    },
    {
      "cell_type": "code",
      "source": [
        "arr = np.arange(3).reshape([1, 3])\n",
        "arr"
      ],
      "metadata": {
        "colab": {
          "base_uri": "https://localhost:8080/"
        },
        "id": "9FXkGVEI2cIO",
        "outputId": "2b92a0e5-a524-46be-e7e9-80e7a5b578b8"
      },
      "execution_count": 111,
      "outputs": [
        {
          "output_type": "execute_result",
          "data": {
            "text/plain": [
              "array([[0, 1, 2]])"
            ]
          },
          "metadata": {},
          "execution_count": 111
        }
      ]
    },
    {
      "cell_type": "code",
      "source": [
        "arr_1"
      ],
      "metadata": {
        "colab": {
          "base_uri": "https://localhost:8080/"
        },
        "id": "lkCGga6-2rCL",
        "outputId": "285b7c68-4275-4c67-82b3-90c0d0be9fc8"
      },
      "execution_count": 112,
      "outputs": [
        {
          "output_type": "execute_result",
          "data": {
            "text/plain": [
              "array([[0, 1],\n",
              "       [2, 3],\n",
              "       [4, 5]])"
            ]
          },
          "metadata": {},
          "execution_count": 112
        }
      ]
    },
    {
      "cell_type": "code",
      "source": [
        "arr.shape"
      ],
      "metadata": {
        "colab": {
          "base_uri": "https://localhost:8080/"
        },
        "id": "T-SOOoPz2tYe",
        "outputId": "782a7a8d-578f-4b1d-830f-8a12a78505e7"
      },
      "execution_count": 113,
      "outputs": [
        {
          "output_type": "execute_result",
          "data": {
            "text/plain": [
              "(1, 3)"
            ]
          },
          "metadata": {},
          "execution_count": 113
        }
      ]
    },
    {
      "cell_type": "code",
      "source": [
        "arr_1.shape"
      ],
      "metadata": {
        "colab": {
          "base_uri": "https://localhost:8080/"
        },
        "id": "FUyZEB4O2v6q",
        "outputId": "104e1424-5793-48d3-fa4f-c36d72093633"
      },
      "execution_count": 114,
      "outputs": [
        {
          "output_type": "execute_result",
          "data": {
            "text/plain": [
              "(3, 2)"
            ]
          },
          "metadata": {},
          "execution_count": 114
        }
      ]
    },
    {
      "cell_type": "code",
      "source": [
        "arr.shape = [3, 1]\n",
        "arr.shape"
      ],
      "metadata": {
        "colab": {
          "base_uri": "https://localhost:8080/"
        },
        "id": "FpbgTbM-2z9v",
        "outputId": "ea22d4cb-a4ba-47e1-9869-c0177f971cdf"
      },
      "execution_count": 115,
      "outputs": [
        {
          "output_type": "execute_result",
          "data": {
            "text/plain": [
              "(3, 1)"
            ]
          },
          "metadata": {},
          "execution_count": 115
        }
      ]
    },
    {
      "cell_type": "code",
      "source": [
        "arr_1.shape"
      ],
      "metadata": {
        "colab": {
          "base_uri": "https://localhost:8080/"
        },
        "id": "qZZ6x-rP246l",
        "outputId": "7e30bd2d-b306-44a7-8ace-d62f3c03e178"
      },
      "execution_count": 116,
      "outputs": [
        {
          "output_type": "execute_result",
          "data": {
            "text/plain": [
              "(3, 2)"
            ]
          },
          "metadata": {},
          "execution_count": 116
        }
      ]
    },
    {
      "cell_type": "code",
      "source": [
        "arr_1 + arr"
      ],
      "metadata": {
        "colab": {
          "base_uri": "https://localhost:8080/"
        },
        "id": "GCZOm0HC3DoP",
        "outputId": "f048dba1-7d00-4392-fbfd-761af6761215"
      },
      "execution_count": 117,
      "outputs": [
        {
          "output_type": "execute_result",
          "data": {
            "text/plain": [
              "array([[0, 1],\n",
              "       [3, 4],\n",
              "       [6, 7]])"
            ]
          },
          "metadata": {},
          "execution_count": 117
        }
      ]
    },
    {
      "cell_type": "code",
      "source": [
        "arr = np.arange(4 * 3 * 2).reshape([4, 3, 2])\n",
        "arr.shape"
      ],
      "metadata": {
        "colab": {
          "base_uri": "https://localhost:8080/"
        },
        "id": "hwZNCWHn3Geq",
        "outputId": "67b36734-75b8-4b77-828f-896191bcd8c7"
      },
      "execution_count": 119,
      "outputs": [
        {
          "output_type": "execute_result",
          "data": {
            "text/plain": [
              "(4, 3, 2)"
            ]
          },
          "metadata": {},
          "execution_count": 119
        }
      ]
    },
    {
      "cell_type": "code",
      "source": [
        "arr_1 = np.arange(4 * 2).reshape([4, 2])\n",
        "arr_1.shape"
      ],
      "metadata": {
        "colab": {
          "base_uri": "https://localhost:8080/"
        },
        "id": "f0TkMUki3Qrv",
        "outputId": "ea336524-4e67-4197-8ce1-5de3dbdfeb54"
      },
      "execution_count": 120,
      "outputs": [
        {
          "output_type": "execute_result",
          "data": {
            "text/plain": [
              "(4, 2)"
            ]
          },
          "metadata": {},
          "execution_count": 120
        }
      ]
    },
    {
      "cell_type": "code",
      "source": [
        "arr_1.shape = (4, 1, 2)\n",
        "arr_1.shape"
      ],
      "metadata": {
        "colab": {
          "base_uri": "https://localhost:8080/"
        },
        "id": "nP1KJSMG3evO",
        "outputId": "ebf33a4f-a445-477d-cbb0-3f38556487ea"
      },
      "execution_count": 121,
      "outputs": [
        {
          "output_type": "execute_result",
          "data": {
            "text/plain": [
              "(4, 1, 2)"
            ]
          },
          "metadata": {},
          "execution_count": 121
        }
      ]
    },
    {
      "cell_type": "code",
      "source": [
        "arr.shape"
      ],
      "metadata": {
        "colab": {
          "base_uri": "https://localhost:8080/"
        },
        "id": "RGk6kmsN3mSP",
        "outputId": "505f8bf9-ad56-4390-c1d5-6dc17ccd945d"
      },
      "execution_count": 122,
      "outputs": [
        {
          "output_type": "execute_result",
          "data": {
            "text/plain": [
              "(4, 3, 2)"
            ]
          },
          "metadata": {},
          "execution_count": 122
        }
      ]
    },
    {
      "cell_type": "code",
      "source": [
        "arr * arr_1"
      ],
      "metadata": {
        "colab": {
          "base_uri": "https://localhost:8080/"
        },
        "id": "2DgLFLkm3pTL",
        "outputId": "d97ec092-e72d-4b8c-8247-787566bc05da"
      },
      "execution_count": 123,
      "outputs": [
        {
          "output_type": "execute_result",
          "data": {
            "text/plain": [
              "array([[[  0,   1],\n",
              "        [  0,   3],\n",
              "        [  0,   5]],\n",
              "\n",
              "       [[ 12,  21],\n",
              "        [ 16,  27],\n",
              "        [ 20,  33]],\n",
              "\n",
              "       [[ 48,  65],\n",
              "        [ 56,  75],\n",
              "        [ 64,  85]],\n",
              "\n",
              "       [[108, 133],\n",
              "        [120, 147],\n",
              "        [132, 161]]])"
            ]
          },
          "metadata": {},
          "execution_count": 123
        }
      ]
    },
    {
      "cell_type": "code",
      "source": [
        "arr = np.arange(5 * 3 * 2).reshape([5, 3, 2])\n",
        "arr"
      ],
      "metadata": {
        "colab": {
          "base_uri": "https://localhost:8080/"
        },
        "id": "Q6RlEgcH3ysE",
        "outputId": "7a217272-4c9c-4875-acb5-2fd71fada813"
      },
      "execution_count": 124,
      "outputs": [
        {
          "output_type": "execute_result",
          "data": {
            "text/plain": [
              "array([[[ 0,  1],\n",
              "        [ 2,  3],\n",
              "        [ 4,  5]],\n",
              "\n",
              "       [[ 6,  7],\n",
              "        [ 8,  9],\n",
              "        [10, 11]],\n",
              "\n",
              "       [[12, 13],\n",
              "        [14, 15],\n",
              "        [16, 17]],\n",
              "\n",
              "       [[18, 19],\n",
              "        [20, 21],\n",
              "        [22, 23]],\n",
              "\n",
              "       [[24, 25],\n",
              "        [26, 27],\n",
              "        [28, 29]]])"
            ]
          },
          "metadata": {},
          "execution_count": 124
        }
      ]
    },
    {
      "cell_type": "code",
      "source": [
        "arr_1 = np.arange(5, 10)\n",
        "arr_1"
      ],
      "metadata": {
        "colab": {
          "base_uri": "https://localhost:8080/"
        },
        "id": "BhQih5GI37wU",
        "outputId": "e78eda42-f93e-42a2-b929-1fb07b846a1b"
      },
      "execution_count": 125,
      "outputs": [
        {
          "output_type": "execute_result",
          "data": {
            "text/plain": [
              "array([5, 6, 7, 8, 9])"
            ]
          },
          "metadata": {},
          "execution_count": 125
        }
      ]
    },
    {
      "cell_type": "code",
      "source": [
        "arr_1.shape = (5, 1, 1)\n",
        "arr_1.shape"
      ],
      "metadata": {
        "colab": {
          "base_uri": "https://localhost:8080/"
        },
        "id": "x7fPh4fF4C9g",
        "outputId": "707f4e6d-af6d-450c-d8fa-74e0e074618c"
      },
      "execution_count": 127,
      "outputs": [
        {
          "output_type": "execute_result",
          "data": {
            "text/plain": [
              "(5, 1, 1)"
            ]
          },
          "metadata": {},
          "execution_count": 127
        }
      ]
    },
    {
      "cell_type": "code",
      "source": [
        "arr.shape"
      ],
      "metadata": {
        "colab": {
          "base_uri": "https://localhost:8080/"
        },
        "id": "SDuMJCl54Spx",
        "outputId": "a34c215e-7161-417f-a8de-715ce64a97d5"
      },
      "execution_count": 128,
      "outputs": [
        {
          "output_type": "execute_result",
          "data": {
            "text/plain": [
              "(5, 3, 2)"
            ]
          },
          "metadata": {},
          "execution_count": 128
        }
      ]
    },
    {
      "cell_type": "code",
      "source": [
        "arr - arr_1"
      ],
      "metadata": {
        "colab": {
          "base_uri": "https://localhost:8080/"
        },
        "id": "80Y0wBhy4VZU",
        "outputId": "7b75019c-485e-433c-a1ce-2672ec6386c0"
      },
      "execution_count": 129,
      "outputs": [
        {
          "output_type": "execute_result",
          "data": {
            "text/plain": [
              "array([[[-5, -4],\n",
              "        [-3, -2],\n",
              "        [-1,  0]],\n",
              "\n",
              "       [[ 0,  1],\n",
              "        [ 2,  3],\n",
              "        [ 4,  5]],\n",
              "\n",
              "       [[ 5,  6],\n",
              "        [ 7,  8],\n",
              "        [ 9, 10]],\n",
              "\n",
              "       [[10, 11],\n",
              "        [12, 13],\n",
              "        [14, 15]],\n",
              "\n",
              "       [[15, 16],\n",
              "        [17, 18],\n",
              "        [19, 20]]])"
            ]
          },
          "metadata": {},
          "execution_count": 129
        }
      ]
    },
    {
      "cell_type": "markdown",
      "source": [
        "**математические функции.**\n",
        "\n",
        "---\n",
        "\n"
      ],
      "metadata": {
        "id": "lIPh-bPfRgrA"
      }
    },
    {
      "cell_type": "code",
      "source": [
        "import numpy as np"
      ],
      "metadata": {
        "id": "HbCYIx6jRmvV"
      },
      "execution_count": 1,
      "outputs": []
    },
    {
      "cell_type": "code",
      "source": [
        "arr = np.arange(2, 20).reshape([3, 3, 2])\n",
        "arr"
      ],
      "metadata": {
        "colab": {
          "base_uri": "https://localhost:8080/"
        },
        "id": "sRhvuBRJRqVl",
        "outputId": "0c0ba757-efed-46ac-bcf8-dda2312d1078"
      },
      "execution_count": 2,
      "outputs": [
        {
          "output_type": "execute_result",
          "data": {
            "text/plain": [
              "array([[[ 2,  3],\n",
              "        [ 4,  5],\n",
              "        [ 6,  7]],\n",
              "\n",
              "       [[ 8,  9],\n",
              "        [10, 11],\n",
              "        [12, 13]],\n",
              "\n",
              "       [[14, 15],\n",
              "        [16, 17],\n",
              "        [18, 19]]])"
            ]
          },
          "metadata": {},
          "execution_count": 2
        }
      ]
    },
    {
      "cell_type": "code",
      "source": [
        "arr.min()"
      ],
      "metadata": {
        "colab": {
          "base_uri": "https://localhost:8080/"
        },
        "id": "YK9ihw9fRzPj",
        "outputId": "e2c7b744-f874-41ea-9e1a-ce5bba716d7c"
      },
      "execution_count": 4,
      "outputs": [
        {
          "output_type": "execute_result",
          "data": {
            "text/plain": [
              "2"
            ]
          },
          "metadata": {},
          "execution_count": 4
        }
      ]
    },
    {
      "cell_type": "code",
      "source": [
        "arr.max()"
      ],
      "metadata": {
        "colab": {
          "base_uri": "https://localhost:8080/"
        },
        "id": "E_ArCtBfR-hx",
        "outputId": "46b50339-d02b-4f8f-9c8f-8a3d9a4790fe"
      },
      "execution_count": 5,
      "outputs": [
        {
          "output_type": "execute_result",
          "data": {
            "text/plain": [
              "19"
            ]
          },
          "metadata": {},
          "execution_count": 5
        }
      ]
    },
    {
      "cell_type": "code",
      "source": [
        "arr.sum()"
      ],
      "metadata": {
        "colab": {
          "base_uri": "https://localhost:8080/"
        },
        "id": "KmfhJSgCSBgl",
        "outputId": "e6dfba89-9351-4b10-e2e9-b000a25b2ddf"
      },
      "execution_count": 6,
      "outputs": [
        {
          "output_type": "execute_result",
          "data": {
            "text/plain": [
              "189"
            ]
          },
          "metadata": {},
          "execution_count": 6
        }
      ]
    },
    {
      "cell_type": "code",
      "source": [
        "arr.mean()"
      ],
      "metadata": {
        "colab": {
          "base_uri": "https://localhost:8080/"
        },
        "id": "pDgvHiynSC18",
        "outputId": "ab46d426-22af-4c5a-8fd7-cda5a8461d92"
      },
      "execution_count": 7,
      "outputs": [
        {
          "output_type": "execute_result",
          "data": {
            "text/plain": [
              "10.5"
            ]
          },
          "metadata": {},
          "execution_count": 7
        }
      ]
    },
    {
      "cell_type": "code",
      "source": [
        "np.abs(np.array([[-1, 2, 3], [-2, 1, 3]]))"
      ],
      "metadata": {
        "colab": {
          "base_uri": "https://localhost:8080/"
        },
        "id": "77UrynGmSGy2",
        "outputId": "fb33cdec-ad27-4700-b4bc-3a7a839dfb9a"
      },
      "execution_count": 8,
      "outputs": [
        {
          "output_type": "execute_result",
          "data": {
            "text/plain": [
              "array([[1, 2, 3],\n",
              "       [2, 1, 3]])"
            ]
          },
          "metadata": {},
          "execution_count": 8
        }
      ]
    },
    {
      "cell_type": "code",
      "source": [
        "np.max(arr)"
      ],
      "metadata": {
        "colab": {
          "base_uri": "https://localhost:8080/"
        },
        "id": "x1L8SLKkSQ6h",
        "outputId": "abbef896-5a15-40c9-d914-a66cb5f0912a"
      },
      "execution_count": 9,
      "outputs": [
        {
          "output_type": "execute_result",
          "data": {
            "text/plain": [
              "19"
            ]
          },
          "metadata": {},
          "execution_count": 9
        }
      ]
    },
    {
      "cell_type": "code",
      "source": [
        "np.log(arr)"
      ],
      "metadata": {
        "colab": {
          "base_uri": "https://localhost:8080/"
        },
        "id": "SXA4hlC1STvt",
        "outputId": "b0c4bd87-9332-4eb8-e363-d286c5f484b4"
      },
      "execution_count": 10,
      "outputs": [
        {
          "output_type": "execute_result",
          "data": {
            "text/plain": [
              "array([[[0.69314718, 1.09861229],\n",
              "        [1.38629436, 1.60943791],\n",
              "        [1.79175947, 1.94591015]],\n",
              "\n",
              "       [[2.07944154, 2.19722458],\n",
              "        [2.30258509, 2.39789527],\n",
              "        [2.48490665, 2.56494936]],\n",
              "\n",
              "       [[2.63905733, 2.7080502 ],\n",
              "        [2.77258872, 2.83321334],\n",
              "        [2.89037176, 2.94443898]]])"
            ]
          },
          "metadata": {},
          "execution_count": 10
        }
      ]
    },
    {
      "cell_type": "code",
      "source": [
        "np.exp(arr)"
      ],
      "metadata": {
        "colab": {
          "base_uri": "https://localhost:8080/"
        },
        "id": "63FUfXP8SXM1",
        "outputId": "b02f1494-12b0-499a-bcd8-2983ece3985c"
      },
      "execution_count": 11,
      "outputs": [
        {
          "output_type": "execute_result",
          "data": {
            "text/plain": [
              "array([[[7.38905610e+00, 2.00855369e+01],\n",
              "        [5.45981500e+01, 1.48413159e+02],\n",
              "        [4.03428793e+02, 1.09663316e+03]],\n",
              "\n",
              "       [[2.98095799e+03, 8.10308393e+03],\n",
              "        [2.20264658e+04, 5.98741417e+04],\n",
              "        [1.62754791e+05, 4.42413392e+05]],\n",
              "\n",
              "       [[1.20260428e+06, 3.26901737e+06],\n",
              "        [8.88611052e+06, 2.41549528e+07],\n",
              "        [6.56599691e+07, 1.78482301e+08]]])"
            ]
          },
          "metadata": {},
          "execution_count": 11
        }
      ]
    },
    {
      "cell_type": "code",
      "source": [
        "np.log(np.exp(arr))"
      ],
      "metadata": {
        "colab": {
          "base_uri": "https://localhost:8080/"
        },
        "id": "TiE2EmcnSarW",
        "outputId": "be36ca4f-26e9-4283-bd47-97bb2317fb92"
      },
      "execution_count": 12,
      "outputs": [
        {
          "output_type": "execute_result",
          "data": {
            "text/plain": [
              "array([[[ 2.,  3.],\n",
              "        [ 4.,  5.],\n",
              "        [ 6.,  7.]],\n",
              "\n",
              "       [[ 8.,  9.],\n",
              "        [10., 11.],\n",
              "        [12., 13.]],\n",
              "\n",
              "       [[14., 15.],\n",
              "        [16., 17.],\n",
              "        [18., 19.]]])"
            ]
          },
          "metadata": {},
          "execution_count": 12
        }
      ]
    },
    {
      "cell_type": "markdown",
      "source": [
        "тригонометрические функции."
      ],
      "metadata": {
        "id": "AqyufNnLSkpy"
      }
    },
    {
      "cell_type": "code",
      "source": [
        "np.sin(arr)"
      ],
      "metadata": {
        "colab": {
          "base_uri": "https://localhost:8080/"
        },
        "id": "zcB3wublSo3M",
        "outputId": "7a7814eb-d84d-4426-c022-a38e2d15654d"
      },
      "execution_count": 13,
      "outputs": [
        {
          "output_type": "execute_result",
          "data": {
            "text/plain": [
              "array([[[ 0.90929743,  0.14112001],\n",
              "        [-0.7568025 , -0.95892427],\n",
              "        [-0.2794155 ,  0.6569866 ]],\n",
              "\n",
              "       [[ 0.98935825,  0.41211849],\n",
              "        [-0.54402111, -0.99999021],\n",
              "        [-0.53657292,  0.42016704]],\n",
              "\n",
              "       [[ 0.99060736,  0.65028784],\n",
              "        [-0.28790332, -0.96139749],\n",
              "        [-0.75098725,  0.14987721]]])"
            ]
          },
          "metadata": {},
          "execution_count": 13
        }
      ]
    },
    {
      "cell_type": "code",
      "source": [
        "np.cos(arr)"
      ],
      "metadata": {
        "colab": {
          "base_uri": "https://localhost:8080/"
        },
        "id": "bTZWIzYsSsLv",
        "outputId": "36d8fb84-37d7-459a-d561-4486d47f9556"
      },
      "execution_count": 14,
      "outputs": [
        {
          "output_type": "execute_result",
          "data": {
            "text/plain": [
              "array([[[-0.41614684, -0.9899925 ],\n",
              "        [-0.65364362,  0.28366219],\n",
              "        [ 0.96017029,  0.75390225]],\n",
              "\n",
              "       [[-0.14550003, -0.91113026],\n",
              "        [-0.83907153,  0.0044257 ],\n",
              "        [ 0.84385396,  0.90744678]],\n",
              "\n",
              "       [[ 0.13673722, -0.75968791],\n",
              "        [-0.95765948, -0.27516334],\n",
              "        [ 0.66031671,  0.98870462]]])"
            ]
          },
          "metadata": {},
          "execution_count": 14
        }
      ]
    },
    {
      "cell_type": "code",
      "source": [
        "np.arctan(arr)"
      ],
      "metadata": {
        "colab": {
          "base_uri": "https://localhost:8080/"
        },
        "id": "cbpV4nYqSwlA",
        "outputId": "f26e6612-dc7a-4596-922b-ab923168af91"
      },
      "execution_count": 15,
      "outputs": [
        {
          "output_type": "execute_result",
          "data": {
            "text/plain": [
              "array([[[1.10714872, 1.24904577],\n",
              "        [1.32581766, 1.37340077],\n",
              "        [1.40564765, 1.42889927]],\n",
              "\n",
              "       [[1.44644133, 1.46013911],\n",
              "        [1.47112767, 1.48013644],\n",
              "        [1.48765509, 1.49402444]],\n",
              "\n",
              "       [[1.49948886, 1.50422816],\n",
              "        [1.50837752, 1.5120405 ],\n",
              "        [1.51529782, 1.51821327]]])"
            ]
          },
          "metadata": {},
          "execution_count": 15
        }
      ]
    },
    {
      "cell_type": "markdown",
      "source": [
        "применение функций по осям."
      ],
      "metadata": {
        "id": "XDF6pwJlSz2o"
      }
    },
    {
      "cell_type": "code",
      "source": [
        "arr.shape"
      ],
      "metadata": {
        "colab": {
          "base_uri": "https://localhost:8080/"
        },
        "id": "NfYyWAHrS4Ad",
        "outputId": "8c30de00-be81-4bcc-ad3e-cb12ccfcac6f"
      },
      "execution_count": 16,
      "outputs": [
        {
          "output_type": "execute_result",
          "data": {
            "text/plain": [
              "(3, 3, 2)"
            ]
          },
          "metadata": {},
          "execution_count": 16
        }
      ]
    },
    {
      "cell_type": "code",
      "source": [
        "arr"
      ],
      "metadata": {
        "colab": {
          "base_uri": "https://localhost:8080/"
        },
        "id": "TNxmD7oxS6rf",
        "outputId": "adf6573a-b648-4793-fc8a-629ff3e3ff69"
      },
      "execution_count": 17,
      "outputs": [
        {
          "output_type": "execute_result",
          "data": {
            "text/plain": [
              "array([[[ 2,  3],\n",
              "        [ 4,  5],\n",
              "        [ 6,  7]],\n",
              "\n",
              "       [[ 8,  9],\n",
              "        [10, 11],\n",
              "        [12, 13]],\n",
              "\n",
              "       [[14, 15],\n",
              "        [16, 17],\n",
              "        [18, 19]]])"
            ]
          },
          "metadata": {},
          "execution_count": 17
        }
      ]
    },
    {
      "cell_type": "code",
      "source": [
        "np.sum(arr, axis=0)"
      ],
      "metadata": {
        "colab": {
          "base_uri": "https://localhost:8080/"
        },
        "id": "Y8rN2gJjS9Hc",
        "outputId": "846db869-9eea-40a5-bdd9-1194732a1cca"
      },
      "execution_count": 18,
      "outputs": [
        {
          "output_type": "execute_result",
          "data": {
            "text/plain": [
              "array([[24, 27],\n",
              "       [30, 33],\n",
              "       [36, 39]])"
            ]
          },
          "metadata": {},
          "execution_count": 18
        }
      ]
    },
    {
      "cell_type": "code",
      "source": [
        "np.mean(arr, axis=1)"
      ],
      "metadata": {
        "colab": {
          "base_uri": "https://localhost:8080/"
        },
        "id": "ckWEJZb0TBW-",
        "outputId": "acbf9f2f-23d8-45a0-99ec-6156c9b53ae2"
      },
      "execution_count": 19,
      "outputs": [
        {
          "output_type": "execute_result",
          "data": {
            "text/plain": [
              "array([[ 4.,  5.],\n",
              "       [10., 11.],\n",
              "       [16., 17.]])"
            ]
          },
          "metadata": {},
          "execution_count": 19
        }
      ]
    },
    {
      "cell_type": "code",
      "source": [
        "np.max(arr, axis=2)"
      ],
      "metadata": {
        "colab": {
          "base_uri": "https://localhost:8080/"
        },
        "id": "KyJ2TL70THde",
        "outputId": "90300ae1-b73a-47d5-feca-119eafdb4c79"
      },
      "execution_count": 20,
      "outputs": [
        {
          "output_type": "execute_result",
          "data": {
            "text/plain": [
              "array([[ 3,  5,  7],\n",
              "       [ 9, 11, 13],\n",
              "       [15, 17, 19]])"
            ]
          },
          "metadata": {},
          "execution_count": 20
        }
      ]
    },
    {
      "cell_type": "code",
      "source": [
        "arr = np.arange(10).reshape([5, 2])\n",
        "arr"
      ],
      "metadata": {
        "colab": {
          "base_uri": "https://localhost:8080/"
        },
        "id": "lBNVhdUITL9d",
        "outputId": "f1d89aac-1ba4-463e-cf33-db0141d8dab8"
      },
      "execution_count": 21,
      "outputs": [
        {
          "output_type": "execute_result",
          "data": {
            "text/plain": [
              "array([[0, 1],\n",
              "       [2, 3],\n",
              "       [4, 5],\n",
              "       [6, 7],\n",
              "       [8, 9]])"
            ]
          },
          "metadata": {},
          "execution_count": 21
        }
      ]
    },
    {
      "cell_type": "code",
      "source": [
        "arr = np.arange(18).reshape([3, 3, 2])\n",
        "arr"
      ],
      "metadata": {
        "colab": {
          "base_uri": "https://localhost:8080/"
        },
        "id": "ZYEl6UU_TTTJ",
        "outputId": "070fa6aa-76e7-4449-d4a8-5862526b795b"
      },
      "execution_count": 22,
      "outputs": [
        {
          "output_type": "execute_result",
          "data": {
            "text/plain": [
              "array([[[ 0,  1],\n",
              "        [ 2,  3],\n",
              "        [ 4,  5]],\n",
              "\n",
              "       [[ 6,  7],\n",
              "        [ 8,  9],\n",
              "        [10, 11]],\n",
              "\n",
              "       [[12, 13],\n",
              "        [14, 15],\n",
              "        [16, 17]]])"
            ]
          },
          "metadata": {},
          "execution_count": 22
        }
      ]
    },
    {
      "cell_type": "code",
      "source": [
        "arr.shape = -1, 2\n",
        "arr.shape"
      ],
      "metadata": {
        "colab": {
          "base_uri": "https://localhost:8080/"
        },
        "id": "UHkSYhehTaCf",
        "outputId": "19b050fe-7d13-46b8-b28e-d43a86817eb7"
      },
      "execution_count": 23,
      "outputs": [
        {
          "output_type": "execute_result",
          "data": {
            "text/plain": [
              "(9, 2)"
            ]
          },
          "metadata": {},
          "execution_count": 23
        }
      ]
    },
    {
      "cell_type": "code",
      "source": [
        "arr = np.arange(3 * 4 * 4 * 3).reshape([3, 4, 4, 3])\n",
        "arr"
      ],
      "metadata": {
        "colab": {
          "base_uri": "https://localhost:8080/"
        },
        "id": "eLZxHntxTfwL",
        "outputId": "fddf5493-08da-4bee-9307-c9b8882e6b92"
      },
      "execution_count": 25,
      "outputs": [
        {
          "output_type": "execute_result",
          "data": {
            "text/plain": [
              "array([[[[  0,   1,   2],\n",
              "         [  3,   4,   5],\n",
              "         [  6,   7,   8],\n",
              "         [  9,  10,  11]],\n",
              "\n",
              "        [[ 12,  13,  14],\n",
              "         [ 15,  16,  17],\n",
              "         [ 18,  19,  20],\n",
              "         [ 21,  22,  23]],\n",
              "\n",
              "        [[ 24,  25,  26],\n",
              "         [ 27,  28,  29],\n",
              "         [ 30,  31,  32],\n",
              "         [ 33,  34,  35]],\n",
              "\n",
              "        [[ 36,  37,  38],\n",
              "         [ 39,  40,  41],\n",
              "         [ 42,  43,  44],\n",
              "         [ 45,  46,  47]]],\n",
              "\n",
              "\n",
              "       [[[ 48,  49,  50],\n",
              "         [ 51,  52,  53],\n",
              "         [ 54,  55,  56],\n",
              "         [ 57,  58,  59]],\n",
              "\n",
              "        [[ 60,  61,  62],\n",
              "         [ 63,  64,  65],\n",
              "         [ 66,  67,  68],\n",
              "         [ 69,  70,  71]],\n",
              "\n",
              "        [[ 72,  73,  74],\n",
              "         [ 75,  76,  77],\n",
              "         [ 78,  79,  80],\n",
              "         [ 81,  82,  83]],\n",
              "\n",
              "        [[ 84,  85,  86],\n",
              "         [ 87,  88,  89],\n",
              "         [ 90,  91,  92],\n",
              "         [ 93,  94,  95]]],\n",
              "\n",
              "\n",
              "       [[[ 96,  97,  98],\n",
              "         [ 99, 100, 101],\n",
              "         [102, 103, 104],\n",
              "         [105, 106, 107]],\n",
              "\n",
              "        [[108, 109, 110],\n",
              "         [111, 112, 113],\n",
              "         [114, 115, 116],\n",
              "         [117, 118, 119]],\n",
              "\n",
              "        [[120, 121, 122],\n",
              "         [123, 124, 125],\n",
              "         [126, 127, 128],\n",
              "         [129, 130, 131]],\n",
              "\n",
              "        [[132, 133, 134],\n",
              "         [135, 136, 137],\n",
              "         [138, 139, 140],\n",
              "         [141, 142, 143]]]])"
            ]
          },
          "metadata": {},
          "execution_count": 25
        }
      ]
    },
    {
      "cell_type": "code",
      "source": [
        "arr.shape = [3, 4 * 4, 3]\n",
        "arr.shape"
      ],
      "metadata": {
        "colab": {
          "base_uri": "https://localhost:8080/"
        },
        "id": "TyGTAo4bTyku",
        "outputId": "abd9f781-866f-4bd3-915b-fcda033c9d58"
      },
      "execution_count": 26,
      "outputs": [
        {
          "output_type": "execute_result",
          "data": {
            "text/plain": [
              "(3, 16, 3)"
            ]
          },
          "metadata": {},
          "execution_count": 26
        }
      ]
    },
    {
      "cell_type": "code",
      "source": [
        "arr.shape = -1, 3\n",
        "arr.shape"
      ],
      "metadata": {
        "colab": {
          "base_uri": "https://localhost:8080/"
        },
        "id": "a6h0C5cTT8D5",
        "outputId": "141bc6ff-93b6-4759-e02e-66ef9da02c83"
      },
      "execution_count": 27,
      "outputs": [
        {
          "output_type": "execute_result",
          "data": {
            "text/plain": [
              "(48, 3)"
            ]
          },
          "metadata": {},
          "execution_count": 27
        }
      ]
    },
    {
      "cell_type": "code",
      "source": [
        "np.mean(arr, axis=0)"
      ],
      "metadata": {
        "colab": {
          "base_uri": "https://localhost:8080/"
        },
        "id": "cmOI4PFGUAn4",
        "outputId": "f51988d6-6fc6-4d35-c8ef-c12637db8a00"
      },
      "execution_count": 28,
      "outputs": [
        {
          "output_type": "execute_result",
          "data": {
            "text/plain": [
              "array([70.5, 71.5, 72.5])"
            ]
          },
          "metadata": {},
          "execution_count": 28
        }
      ]
    },
    {
      "cell_type": "markdown",
      "source": [
        "статистические функции."
      ],
      "metadata": {
        "id": "qRNUct-GUK--"
      }
    },
    {
      "cell_type": "code",
      "source": [
        "np.median(arr)"
      ],
      "metadata": {
        "colab": {
          "base_uri": "https://localhost:8080/"
        },
        "id": "ymzoTKwfUOTv",
        "outputId": "3dbd9b22-a5ea-4f82-e297-78f8ec6f86f3"
      },
      "execution_count": 29,
      "outputs": [
        {
          "output_type": "execute_result",
          "data": {
            "text/plain": [
              "71.5"
            ]
          },
          "metadata": {},
          "execution_count": 29
        }
      ]
    },
    {
      "cell_type": "code",
      "source": [
        "np.var(arr) # дисперсия"
      ],
      "metadata": {
        "colab": {
          "base_uri": "https://localhost:8080/"
        },
        "id": "CmMwRq_gUSK7",
        "outputId": "03543aaf-080b-412a-a7cf-196ee282d998"
      },
      "execution_count": 30,
      "outputs": [
        {
          "output_type": "execute_result",
          "data": {
            "text/plain": [
              "1727.9166666666667"
            ]
          },
          "metadata": {},
          "execution_count": 30
        }
      ]
    },
    {
      "cell_type": "code",
      "source": [
        "np.std(arr)  # стандартное отклонение"
      ],
      "metadata": {
        "colab": {
          "base_uri": "https://localhost:8080/"
        },
        "id": "pu1QjDKrUZLH",
        "outputId": "95686010-4716-4c18-c64e-605a8e670dbd"
      },
      "execution_count": 31,
      "outputs": [
        {
          "output_type": "execute_result",
          "data": {
            "text/plain": [
              "41.56821702535083"
            ]
          },
          "metadata": {},
          "execution_count": 31
        }
      ]
    },
    {
      "cell_type": "markdown",
      "source": [
        "генерации псевдослучайных чисел. модуль random."
      ],
      "metadata": {
        "id": "2WPfU5xSUgd9"
      }
    },
    {
      "cell_type": "code",
      "source": [
        "np.random.rand() # массив заданной формы, равномерного распределения [0, 1)"
      ],
      "metadata": {
        "colab": {
          "base_uri": "https://localhost:8080/"
        },
        "id": "Zyir5IefUpQF",
        "outputId": "53d775b4-f262-4808-b742-dfa0683463e7"
      },
      "execution_count": 32,
      "outputs": [
        {
          "output_type": "execute_result",
          "data": {
            "text/plain": [
              "0.13205712769284728"
            ]
          },
          "metadata": {},
          "execution_count": 32
        }
      ]
    },
    {
      "cell_type": "code",
      "source": [
        "np.random.rand(4)"
      ],
      "metadata": {
        "colab": {
          "base_uri": "https://localhost:8080/"
        },
        "id": "2grCPm2qU2Nf",
        "outputId": "6546af81-d4c1-4773-ef45-8bf3d62bbeff"
      },
      "execution_count": 33,
      "outputs": [
        {
          "output_type": "execute_result",
          "data": {
            "text/plain": [
              "array([0.88370019, 0.84814537, 0.33469272, 0.31678485])"
            ]
          },
          "metadata": {},
          "execution_count": 33
        }
      ]
    },
    {
      "cell_type": "code",
      "source": [
        "np.random.rand(3, 2)"
      ],
      "metadata": {
        "colab": {
          "base_uri": "https://localhost:8080/"
        },
        "id": "RRz5EkCvU6cD",
        "outputId": "ea459121-0f74-4c8c-d6d0-8d505d19108d"
      },
      "execution_count": 34,
      "outputs": [
        {
          "output_type": "execute_result",
          "data": {
            "text/plain": [
              "array([[0.0144721 , 0.44042112],\n",
              "       [0.00260766, 0.58861606],\n",
              "       [0.93058707, 0.09842231]])"
            ]
          },
          "metadata": {},
          "execution_count": 34
        }
      ]
    },
    {
      "cell_type": "code",
      "source": [
        "np.random.randn() # стандартное нормальное отклонение"
      ],
      "metadata": {
        "colab": {
          "base_uri": "https://localhost:8080/"
        },
        "id": "bw6Dq3V1U-A6",
        "outputId": "19290b54-7d29-4e05-afed-e7c97da92ae4"
      },
      "execution_count": 35,
      "outputs": [
        {
          "output_type": "execute_result",
          "data": {
            "text/plain": [
              "-0.8717834547871198"
            ]
          },
          "metadata": {},
          "execution_count": 35
        }
      ]
    },
    {
      "cell_type": "code",
      "source": [
        "np.random.randn(6)"
      ],
      "metadata": {
        "colab": {
          "base_uri": "https://localhost:8080/"
        },
        "id": "G1aumdc7VHi9",
        "outputId": "e453fbbe-ad51-42d8-a23f-ee361d725ce8"
      },
      "execution_count": 36,
      "outputs": [
        {
          "output_type": "execute_result",
          "data": {
            "text/plain": [
              "array([ 0.78940793, -0.42045347,  0.18736745,  0.19375751,  0.34431374,\n",
              "       -0.84980141])"
            ]
          },
          "metadata": {},
          "execution_count": 36
        }
      ]
    },
    {
      "cell_type": "code",
      "source": [
        "np.random.randn(4, 3)"
      ],
      "metadata": {
        "colab": {
          "base_uri": "https://localhost:8080/"
        },
        "id": "j680_D25VNzE",
        "outputId": "20a61b14-1147-4755-c010-9f720866c55c"
      },
      "execution_count": 37,
      "outputs": [
        {
          "output_type": "execute_result",
          "data": {
            "text/plain": [
              "array([[-0.82359333,  0.377968  , -0.18652086],\n",
              "       [-0.74483085,  0.39734929, -1.35390645],\n",
              "       [-0.54661128,  1.27476908,  0.16109466],\n",
              "       [-0.37311463, -1.24306818,  0.28265988]])"
            ]
          },
          "metadata": {},
          "execution_count": 37
        }
      ]
    },
    {
      "cell_type": "code",
      "source": [
        "np.random.normal(5, 10) # нормальное распределение"
      ],
      "metadata": {
        "colab": {
          "base_uri": "https://localhost:8080/"
        },
        "id": "POtbOPSMVSLy",
        "outputId": "2eacd4e0-23d8-4ac1-9d07-17e462ae0f9d"
      },
      "execution_count": 39,
      "outputs": [
        {
          "output_type": "execute_result",
          "data": {
            "text/plain": [
              "-4.43098577140767"
            ]
          },
          "metadata": {},
          "execution_count": 39
        }
      ]
    },
    {
      "cell_type": "code",
      "source": [
        "np.random.normal(5, 10, 100)"
      ],
      "metadata": {
        "colab": {
          "base_uri": "https://localhost:8080/"
        },
        "id": "crXxtPTdVbws",
        "outputId": "d8c27d06-9dbb-4f9c-9477-53763c625eb5"
      },
      "execution_count": 38,
      "outputs": [
        {
          "output_type": "execute_result",
          "data": {
            "text/plain": [
              "array([ 13.71434662,   4.21764623,   4.61786559,   7.92802228,\n",
              "         1.86165206,   7.88522747,  -7.98074101,  12.40095161,\n",
              "        -8.76071382,  17.25663455,  20.18480815,   4.73506867,\n",
              "         0.67736925,  20.59546348,   4.74589258,  19.88836705,\n",
              "         0.03755092,   9.00453733,   8.48286663,   9.87530567,\n",
              "         2.82044756,  11.01668352,   5.11961651,  19.0080875 ,\n",
              "        25.4844617 ,  11.67961256,  -8.56263459,  11.57701753,\n",
              "        13.58318735,   2.78821681,   6.06256065,   7.73282282,\n",
              "       -20.38407305,   6.87822953,  -3.28741968, -12.36678041,\n",
              "        23.61423775, -14.04307281,  14.24275002,  18.21678501,\n",
              "         6.73668421,  -0.92875593,  12.97695752,  -4.23225427,\n",
              "         7.83119613,   9.8258029 ,  -6.89916396,  12.54965295,\n",
              "        -9.63735077,   4.92776263,   6.7439213 ,  19.79861194,\n",
              "        -0.41053452,  -0.47431983,   8.74403364,   7.72206383,\n",
              "         6.24724763,   6.09917037, -10.74311093,  -5.71332109,\n",
              "        18.71908362,  18.04573551,  -1.79410709,  27.43089775,\n",
              "       -11.70303542,  17.05894273,  15.97633147,  -6.28571114,\n",
              "        23.89479192, -24.92967355,  14.09767214,   7.84729187,\n",
              "        -2.6839803 ,  18.8089851 ,  16.63322902, -16.2089619 ,\n",
              "        13.84608678,   6.1717423 ,  13.53440862,   2.95579084,\n",
              "         7.45598052, -15.5070761 ,  -1.95028919,   2.97788951,\n",
              "        12.1143427 ,  15.76470028,  16.56757884,   4.47375058,\n",
              "        -2.75230342,  -4.27262461,   1.46688706,   1.63071519,\n",
              "         2.67230568,   5.94476955,   6.59805104,  15.26963516,\n",
              "        22.89916907,   1.22142976,   7.76232794, -18.90885275])"
            ]
          },
          "metadata": {},
          "execution_count": 38
        }
      ]
    },
    {
      "cell_type": "code",
      "source": [
        "np.random.normal(5, 10, [4, 2])"
      ],
      "metadata": {
        "colab": {
          "base_uri": "https://localhost:8080/"
        },
        "id": "EH07cyB2VhKH",
        "outputId": "e348b453-244a-4230-c105-ded76c435755"
      },
      "execution_count": 40,
      "outputs": [
        {
          "output_type": "execute_result",
          "data": {
            "text/plain": [
              "array([[10.97015541,  9.34799073],\n",
              "       [-3.91789106, 15.77594914],\n",
              "       [-2.70697219, -0.59935878],\n",
              "       [12.30230225, 14.49031384]])"
            ]
          },
          "metadata": {},
          "execution_count": 40
        }
      ]
    },
    {
      "cell_type": "code",
      "source": [
        "np.random.randint(5) # целые числа из дискретного равномерного распределения"
      ],
      "metadata": {
        "colab": {
          "base_uri": "https://localhost:8080/"
        },
        "id": "CLoRG-NbVolo",
        "outputId": "7ebae2b0-2165-4a1d-a9a0-471660e4bf0a"
      },
      "execution_count": 41,
      "outputs": [
        {
          "output_type": "execute_result",
          "data": {
            "text/plain": [
              "2"
            ]
          },
          "metadata": {},
          "execution_count": 41
        }
      ]
    },
    {
      "cell_type": "code",
      "source": [
        "np.random.randint(4, 10)"
      ],
      "metadata": {
        "colab": {
          "base_uri": "https://localhost:8080/"
        },
        "id": "8RUc4GjzV02s",
        "outputId": "e56b8edc-03fe-49c8-e398-745363dba6ee"
      },
      "execution_count": 42,
      "outputs": [
        {
          "output_type": "execute_result",
          "data": {
            "text/plain": [
              "6"
            ]
          },
          "metadata": {},
          "execution_count": 42
        }
      ]
    },
    {
      "cell_type": "code",
      "source": [
        "np.random.randint(4, 20, size=(4, 2))"
      ],
      "metadata": {
        "colab": {
          "base_uri": "https://localhost:8080/"
        },
        "id": "lGvjv5EmV5ED",
        "outputId": "bdba4db0-2d45-4b7a-9e82-187026b3845d"
      },
      "execution_count": 43,
      "outputs": [
        {
          "output_type": "execute_result",
          "data": {
            "text/plain": [
              "array([[15, 14],\n",
              "       [17,  6],\n",
              "       [16, 11],\n",
              "       [ 7, 17]])"
            ]
          },
          "metadata": {},
          "execution_count": 43
        }
      ]
    },
    {
      "cell_type": "code",
      "source": [
        "np.random.choice([1, 2, 3, 4, 5], 10)"
      ],
      "metadata": {
        "colab": {
          "base_uri": "https://localhost:8080/"
        },
        "id": "BXr5ib6nWF1w",
        "outputId": "0b6f0d13-48d0-4ed7-e2bb-77fe0b87ea1b"
      },
      "execution_count": 44,
      "outputs": [
        {
          "output_type": "execute_result",
          "data": {
            "text/plain": [
              "array([5, 2, 5, 5, 5, 5, 1, 4, 2, 5])"
            ]
          },
          "metadata": {},
          "execution_count": 44
        }
      ]
    },
    {
      "cell_type": "code",
      "source": [
        "np.random.shuffle(arr) # перемешиваем массив вдоль нулевой оси.\n",
        "arr"
      ],
      "metadata": {
        "colab": {
          "base_uri": "https://localhost:8080/"
        },
        "id": "uCiVOmH2WMn8",
        "outputId": "dff51456-bd96-4c0f-b907-63c9e8f2766f"
      },
      "execution_count": 45,
      "outputs": [
        {
          "output_type": "execute_result",
          "data": {
            "text/plain": [
              "array([[ 60,  61,  62],\n",
              "       [ 33,  34,  35],\n",
              "       [ 42,  43,  44],\n",
              "       [ 27,  28,  29],\n",
              "       [ 39,  40,  41],\n",
              "       [ 90,  91,  92],\n",
              "       [ 66,  67,  68],\n",
              "       [ 72,  73,  74],\n",
              "       [ 30,  31,  32],\n",
              "       [  9,  10,  11],\n",
              "       [123, 124, 125],\n",
              "       [ 18,  19,  20],\n",
              "       [ 75,  76,  77],\n",
              "       [ 87,  88,  89],\n",
              "       [ 63,  64,  65],\n",
              "       [132, 133, 134],\n",
              "       [  3,   4,   5],\n",
              "       [ 12,  13,  14],\n",
              "       [ 21,  22,  23],\n",
              "       [ 15,  16,  17],\n",
              "       [138, 139, 140],\n",
              "       [ 24,  25,  26],\n",
              "       [ 99, 100, 101],\n",
              "       [ 36,  37,  38],\n",
              "       [ 54,  55,  56],\n",
              "       [ 69,  70,  71],\n",
              "       [129, 130, 131],\n",
              "       [126, 127, 128],\n",
              "       [111, 112, 113],\n",
              "       [105, 106, 107],\n",
              "       [ 57,  58,  59],\n",
              "       [ 84,  85,  86],\n",
              "       [114, 115, 116],\n",
              "       [ 81,  82,  83],\n",
              "       [  0,   1,   2],\n",
              "       [120, 121, 122],\n",
              "       [117, 118, 119],\n",
              "       [102, 103, 104],\n",
              "       [ 45,  46,  47],\n",
              "       [ 48,  49,  50],\n",
              "       [ 78,  79,  80],\n",
              "       [ 93,  94,  95],\n",
              "       [141, 142, 143],\n",
              "       [ 51,  52,  53],\n",
              "       [  6,   7,   8],\n",
              "       [ 96,  97,  98],\n",
              "       [108, 109, 110],\n",
              "       [135, 136, 137]])"
            ]
          },
          "metadata": {},
          "execution_count": 45
        }
      ]
    },
    {
      "cell_type": "code",
      "source": [
        "np.random.seed(42)\n",
        "np.random.randn(3, 2)"
      ],
      "metadata": {
        "colab": {
          "base_uri": "https://localhost:8080/"
        },
        "id": "ozKVDg0TWZlP",
        "outputId": "03214a8f-ebbe-43d2-dbbc-6fe7092184b6"
      },
      "execution_count": 50,
      "outputs": [
        {
          "output_type": "execute_result",
          "data": {
            "text/plain": [
              "array([[ 0.49671415, -0.1382643 ],\n",
              "       [ 0.64768854,  1.52302986],\n",
              "       [-0.23415337, -0.23413696]])"
            ]
          },
          "metadata": {},
          "execution_count": 50
        }
      ]
    },
    {
      "cell_type": "code",
      "source": [
        "np.random.randn(3, 2)"
      ],
      "metadata": {
        "colab": {
          "base_uri": "https://localhost:8080/"
        },
        "id": "L_3TIJ3WWlJW",
        "outputId": "236f4ddb-95de-4c92-f8bb-14ed7055c40f"
      },
      "execution_count": 53,
      "outputs": [
        {
          "output_type": "execute_result",
          "data": {
            "text/plain": [
              "array([[-0.90802408, -1.4123037 ],\n",
              "       [ 1.46564877, -0.2257763 ],\n",
              "       [ 0.0675282 , -1.42474819]])"
            ]
          },
          "metadata": {},
          "execution_count": 53
        }
      ]
    },
    {
      "cell_type": "markdown",
      "source": [
        "**операции сравнения.**\n",
        "\n",
        "---\n",
        "\n"
      ],
      "metadata": {
        "id": "5K8bPJJbQJV-"
      }
    },
    {
      "cell_type": "code",
      "source": [
        "import numpy as np"
      ],
      "metadata": {
        "id": "cp45I0MsQRDM"
      },
      "execution_count": 1,
      "outputs": []
    },
    {
      "cell_type": "code",
      "source": [
        "np.random.seed(42)\n",
        "arr_1 = np.random.randint(10, size=[4, 3])\n",
        "arr_2 = arr_1[[2, 1, 2, 0]]"
      ],
      "metadata": {
        "id": "FrmF4RxMQUmb"
      },
      "execution_count": 2,
      "outputs": []
    },
    {
      "cell_type": "code",
      "source": [
        "arr_1"
      ],
      "metadata": {
        "colab": {
          "base_uri": "https://localhost:8080/"
        },
        "id": "g2fWo4TyQmv1",
        "outputId": "67c1eec5-21fc-4db5-9443-afd52efeffce"
      },
      "execution_count": 3,
      "outputs": [
        {
          "output_type": "execute_result",
          "data": {
            "text/plain": [
              "array([[6, 3, 7],\n",
              "       [4, 6, 9],\n",
              "       [2, 6, 7],\n",
              "       [4, 3, 7]])"
            ]
          },
          "metadata": {},
          "execution_count": 3
        }
      ]
    },
    {
      "cell_type": "code",
      "source": [
        "arr_2"
      ],
      "metadata": {
        "colab": {
          "base_uri": "https://localhost:8080/"
        },
        "id": "Ha-Jlwu5Qo8N",
        "outputId": "9736487e-a2ee-48a9-d602-a04d36b1f7d5"
      },
      "execution_count": 4,
      "outputs": [
        {
          "output_type": "execute_result",
          "data": {
            "text/plain": [
              "array([[2, 6, 7],\n",
              "       [4, 6, 9],\n",
              "       [2, 6, 7],\n",
              "       [6, 3, 7]])"
            ]
          },
          "metadata": {},
          "execution_count": 4
        }
      ]
    },
    {
      "cell_type": "markdown",
      "source": [
        "операции сравнения с числами."
      ],
      "metadata": {
        "id": "m717GMkqQvPV"
      }
    },
    {
      "cell_type": "code",
      "source": [
        "arr_1 == 4"
      ],
      "metadata": {
        "colab": {
          "base_uri": "https://localhost:8080/"
        },
        "id": "lY5-59S2Q0A-",
        "outputId": "35e4e850-1dc2-4f90-971c-adeb985e8bb6"
      },
      "execution_count": 5,
      "outputs": [
        {
          "output_type": "execute_result",
          "data": {
            "text/plain": [
              "array([[False, False, False],\n",
              "       [ True, False, False],\n",
              "       [False, False, False],\n",
              "       [ True, False, False]])"
            ]
          },
          "metadata": {},
          "execution_count": 5
        }
      ]
    },
    {
      "cell_type": "code",
      "source": [
        "arr_1 <= 3"
      ],
      "metadata": {
        "colab": {
          "base_uri": "https://localhost:8080/"
        },
        "id": "42Kt3NRGQ38j",
        "outputId": "d9067145-61fe-4361-d5ce-865c5216a746"
      },
      "execution_count": 6,
      "outputs": [
        {
          "output_type": "execute_result",
          "data": {
            "text/plain": [
              "array([[False,  True, False],\n",
              "       [False, False, False],\n",
              "       [ True, False, False],\n",
              "       [False,  True, False]])"
            ]
          },
          "metadata": {},
          "execution_count": 6
        }
      ]
    },
    {
      "cell_type": "code",
      "source": [
        "arr_1 > 5"
      ],
      "metadata": {
        "colab": {
          "base_uri": "https://localhost:8080/"
        },
        "id": "Q0Eb6QChQ7UZ",
        "outputId": "a03155f9-1ce2-4ccf-b70b-30efe8ff389b"
      },
      "execution_count": 7,
      "outputs": [
        {
          "output_type": "execute_result",
          "data": {
            "text/plain": [
              "array([[ True, False,  True],\n",
              "       [False,  True,  True],\n",
              "       [False,  True,  True],\n",
              "       [False, False,  True]])"
            ]
          },
          "metadata": {},
          "execution_count": 7
        }
      ]
    },
    {
      "cell_type": "code",
      "source": [
        "arr_1[arr_1 > 4] # получим элементы массива, которые больше 4х"
      ],
      "metadata": {
        "colab": {
          "base_uri": "https://localhost:8080/"
        },
        "id": "_PH88tPlQ_4v",
        "outputId": "18fff136-e2a6-44aa-de5e-d02ef488fdca"
      },
      "execution_count": 8,
      "outputs": [
        {
          "output_type": "execute_result",
          "data": {
            "text/plain": [
              "array([6, 7, 6, 9, 6, 7, 7])"
            ]
          },
          "metadata": {},
          "execution_count": 8
        }
      ]
    },
    {
      "cell_type": "markdown",
      "source": [
        "операции сравнения с массивами одинакового размера."
      ],
      "metadata": {
        "id": "PFb8EJv3RcAf"
      }
    },
    {
      "cell_type": "code",
      "source": [
        "arr_1"
      ],
      "metadata": {
        "colab": {
          "base_uri": "https://localhost:8080/"
        },
        "id": "2u9p67fsRiyM",
        "outputId": "c31a8cc2-7cae-4bcf-96da-4d0a02f6d398"
      },
      "execution_count": 9,
      "outputs": [
        {
          "output_type": "execute_result",
          "data": {
            "text/plain": [
              "array([[6, 3, 7],\n",
              "       [4, 6, 9],\n",
              "       [2, 6, 7],\n",
              "       [4, 3, 7]])"
            ]
          },
          "metadata": {},
          "execution_count": 9
        }
      ]
    },
    {
      "cell_type": "code",
      "source": [
        "arr_2"
      ],
      "metadata": {
        "colab": {
          "base_uri": "https://localhost:8080/"
        },
        "id": "Di3zLEqcRlYP",
        "outputId": "5da8ee19-5271-48a9-93e1-ad8804edb8cb"
      },
      "execution_count": 10,
      "outputs": [
        {
          "output_type": "execute_result",
          "data": {
            "text/plain": [
              "array([[2, 6, 7],\n",
              "       [4, 6, 9],\n",
              "       [2, 6, 7],\n",
              "       [6, 3, 7]])"
            ]
          },
          "metadata": {},
          "execution_count": 10
        }
      ]
    },
    {
      "cell_type": "code",
      "source": [
        "arr_1 == arr_2"
      ],
      "metadata": {
        "colab": {
          "base_uri": "https://localhost:8080/"
        },
        "id": "tHWmxjUNRn3T",
        "outputId": "307c9140-f297-4d36-f73d-821e31d20dbd"
      },
      "execution_count": 11,
      "outputs": [
        {
          "output_type": "execute_result",
          "data": {
            "text/plain": [
              "array([[False, False,  True],\n",
              "       [ True,  True,  True],\n",
              "       [ True,  True,  True],\n",
              "       [False,  True,  True]])"
            ]
          },
          "metadata": {},
          "execution_count": 11
        }
      ]
    },
    {
      "cell_type": "code",
      "source": [
        "arr_2 < arr_1"
      ],
      "metadata": {
        "colab": {
          "base_uri": "https://localhost:8080/"
        },
        "id": "vm0uI-QXRrO2",
        "outputId": "f3ce7b35-30f5-4537-ff27-5eaee33f7cb3"
      },
      "execution_count": 12,
      "outputs": [
        {
          "output_type": "execute_result",
          "data": {
            "text/plain": [
              "array([[ True, False, False],\n",
              "       [False, False, False],\n",
              "       [False, False, False],\n",
              "       [False, False, False]])"
            ]
          },
          "metadata": {},
          "execution_count": 12
        }
      ]
    },
    {
      "cell_type": "code",
      "source": [
        "arr_1 != arr_2"
      ],
      "metadata": {
        "colab": {
          "base_uri": "https://localhost:8080/"
        },
        "id": "2EApCUU0RufU",
        "outputId": "65f932f3-28a1-4ceb-e531-3e5ed739df2a"
      },
      "execution_count": 13,
      "outputs": [
        {
          "output_type": "execute_result",
          "data": {
            "text/plain": [
              "array([[ True,  True, False],\n",
              "       [False, False, False],\n",
              "       [False, False, False],\n",
              "       [ True, False, False]])"
            ]
          },
          "metadata": {},
          "execution_count": 13
        }
      ]
    },
    {
      "cell_type": "markdown",
      "source": [
        "сравнение согласованных массивов."
      ],
      "metadata": {
        "id": "nC_Wy4KdRyvt"
      }
    },
    {
      "cell_type": "code",
      "source": [
        "np.random.seed(42)\n",
        "arr_3 = np.random.randint(10, size=[2, 3, 2])\n",
        "shape_3_2 = np.arange(2, 8).reshape([3, 2])"
      ],
      "metadata": {
        "id": "rjGpjX61R3Ie"
      },
      "execution_count": 14,
      "outputs": []
    },
    {
      "cell_type": "code",
      "source": [
        "arr_3"
      ],
      "metadata": {
        "colab": {
          "base_uri": "https://localhost:8080/"
        },
        "id": "ZrDnZXEASLKD",
        "outputId": "2675f2ce-4dd0-44c8-fef4-5346838c6ac2"
      },
      "execution_count": 15,
      "outputs": [
        {
          "output_type": "execute_result",
          "data": {
            "text/plain": [
              "array([[[6, 3],\n",
              "        [7, 4],\n",
              "        [6, 9]],\n",
              "\n",
              "       [[2, 6],\n",
              "        [7, 4],\n",
              "        [3, 7]]])"
            ]
          },
          "metadata": {},
          "execution_count": 15
        }
      ]
    },
    {
      "cell_type": "code",
      "source": [
        "shape_3_2"
      ],
      "metadata": {
        "colab": {
          "base_uri": "https://localhost:8080/"
        },
        "id": "hPoGKMAoSNRp",
        "outputId": "8520ff46-5dc4-4893-c2eb-b4287491b426"
      },
      "execution_count": 16,
      "outputs": [
        {
          "output_type": "execute_result",
          "data": {
            "text/plain": [
              "array([[2, 3],\n",
              "       [4, 5],\n",
              "       [6, 7]])"
            ]
          },
          "metadata": {},
          "execution_count": 16
        }
      ]
    },
    {
      "cell_type": "code",
      "source": [
        "arr_3 = [7, 3]"
      ],
      "metadata": {
        "id": "C9wJCZVaSRGm"
      },
      "execution_count": 17,
      "outputs": []
    },
    {
      "cell_type": "code",
      "source": [
        "arr_3"
      ],
      "metadata": {
        "colab": {
          "base_uri": "https://localhost:8080/"
        },
        "id": "p5BQVQwmSa9Q",
        "outputId": "6bf44444-2565-4c52-ae2c-5f30535cc3c4"
      },
      "execution_count": 19,
      "outputs": [
        {
          "output_type": "execute_result",
          "data": {
            "text/plain": [
              "[7, 3]"
            ]
          },
          "metadata": {},
          "execution_count": 19
        }
      ]
    },
    {
      "cell_type": "code",
      "source": [
        "arr_3 > shape_3_2"
      ],
      "metadata": {
        "colab": {
          "base_uri": "https://localhost:8080/"
        },
        "id": "HXWV2GwKSVaK",
        "outputId": "a7af988b-8386-416d-81d0-2ec4198dd9b2"
      },
      "execution_count": 18,
      "outputs": [
        {
          "output_type": "execute_result",
          "data": {
            "text/plain": [
              "array([[ True, False],\n",
              "       [ True, False],\n",
              "       [ True, False]])"
            ]
          },
          "metadata": {},
          "execution_count": 18
        }
      ]
    },
    {
      "cell_type": "markdown",
      "source": [
        "функции для сравнения массивов:\n",
        "np.greater()  >\n",
        "np.greater_equal()  >=\n",
        "np.less()  <\n",
        "np.less_equal()  <=\n",
        "np.equal()  ==\n",
        "np.not_equal()  !="
      ],
      "metadata": {
        "id": "r86j5EmwSfan"
      }
    },
    {
      "cell_type": "code",
      "source": [
        "np.random.seed(42)\n",
        "arr_3 = np.random.randint(10, size=[2, 3, 2])\n",
        "shape_3_2 = np.arange(2, 8).reshape([3, 2])"
      ],
      "metadata": {
        "id": "W14NurVESeMZ"
      },
      "execution_count": 20,
      "outputs": []
    },
    {
      "cell_type": "code",
      "source": [
        "arr_3"
      ],
      "metadata": {
        "colab": {
          "base_uri": "https://localhost:8080/"
        },
        "id": "1ph-_6mFTgut",
        "outputId": "0f45e028-c754-4158-ddeb-cfc998df8b9f"
      },
      "execution_count": 21,
      "outputs": [
        {
          "output_type": "execute_result",
          "data": {
            "text/plain": [
              "array([[[6, 3],\n",
              "        [7, 4],\n",
              "        [6, 9]],\n",
              "\n",
              "       [[2, 6],\n",
              "        [7, 4],\n",
              "        [3, 7]]])"
            ]
          },
          "metadata": {},
          "execution_count": 21
        }
      ]
    },
    {
      "cell_type": "code",
      "source": [
        "shape_3_2"
      ],
      "metadata": {
        "colab": {
          "base_uri": "https://localhost:8080/"
        },
        "id": "v2P7rpFTTjAM",
        "outputId": "7ac93c56-18fa-4ecc-ab6c-948e34d46e34"
      },
      "execution_count": 22,
      "outputs": [
        {
          "output_type": "execute_result",
          "data": {
            "text/plain": [
              "array([[2, 3],\n",
              "       [4, 5],\n",
              "       [6, 7]])"
            ]
          },
          "metadata": {},
          "execution_count": 22
        }
      ]
    },
    {
      "cell_type": "code",
      "source": [
        "np.not_equal(arr_3, [2, 3])"
      ],
      "metadata": {
        "colab": {
          "base_uri": "https://localhost:8080/"
        },
        "id": "unX7oz42TmT0",
        "outputId": "f8d9d01b-da0a-4a1e-8f99-1ae818feecb8"
      },
      "execution_count": 23,
      "outputs": [
        {
          "output_type": "execute_result",
          "data": {
            "text/plain": [
              "array([[[ True, False],\n",
              "        [ True,  True],\n",
              "        [ True,  True]],\n",
              "\n",
              "       [[False,  True],\n",
              "        [ True,  True],\n",
              "        [ True,  True]]])"
            ]
          },
          "metadata": {},
          "execution_count": 23
        }
      ]
    },
    {
      "cell_type": "code",
      "source": [
        "np.less(arr_3, shape_3_2)"
      ],
      "metadata": {
        "colab": {
          "base_uri": "https://localhost:8080/"
        },
        "id": "tGRNNL43Tsmx",
        "outputId": "1200c1ca-63cb-4e72-9e46-dc90a4a68c3a"
      },
      "execution_count": 24,
      "outputs": [
        {
          "output_type": "execute_result",
          "data": {
            "text/plain": [
              "array([[[False, False],\n",
              "        [False,  True],\n",
              "        [False, False]],\n",
              "\n",
              "       [[False, False],\n",
              "        [False,  True],\n",
              "        [ True, False]]])"
            ]
          },
          "metadata": {},
          "execution_count": 24
        }
      ]
    },
    {
      "cell_type": "markdown",
      "source": [
        "проверка массивов на равенство."
      ],
      "metadata": {
        "id": "Uu0FPmiaTy-2"
      }
    },
    {
      "cell_type": "code",
      "source": [
        "arr_1"
      ],
      "metadata": {
        "colab": {
          "base_uri": "https://localhost:8080/"
        },
        "id": "kSOaw-3hT3Fn",
        "outputId": "52b63340-ef88-44a5-8486-72b62b59d725"
      },
      "execution_count": 25,
      "outputs": [
        {
          "output_type": "execute_result",
          "data": {
            "text/plain": [
              "array([[6, 3, 7],\n",
              "       [4, 6, 9],\n",
              "       [2, 6, 7],\n",
              "       [4, 3, 7]])"
            ]
          },
          "metadata": {},
          "execution_count": 25
        }
      ]
    },
    {
      "cell_type": "code",
      "source": [
        "arr_2"
      ],
      "metadata": {
        "colab": {
          "base_uri": "https://localhost:8080/"
        },
        "id": "LMDGL617T6Am",
        "outputId": "e2279f77-b17b-4d2f-f54b-417810fbc8db"
      },
      "execution_count": 26,
      "outputs": [
        {
          "output_type": "execute_result",
          "data": {
            "text/plain": [
              "array([[2, 6, 7],\n",
              "       [4, 6, 9],\n",
              "       [2, 6, 7],\n",
              "       [6, 3, 7]])"
            ]
          },
          "metadata": {},
          "execution_count": 26
        }
      ]
    },
    {
      "cell_type": "code",
      "source": [
        "np.array_equal(arr_1, arr_2)"
      ],
      "metadata": {
        "colab": {
          "base_uri": "https://localhost:8080/"
        },
        "id": "GZa1h7rhT97K",
        "outputId": "d0707bb7-558c-42a2-dfa1-71e7917830e0"
      },
      "execution_count": 27,
      "outputs": [
        {
          "output_type": "execute_result",
          "data": {
            "text/plain": [
              "False"
            ]
          },
          "metadata": {},
          "execution_count": 27
        }
      ]
    },
    {
      "cell_type": "markdown",
      "source": [
        "сравнение не согласованных массивов."
      ],
      "metadata": {
        "id": "vH6rNdtmUG9u"
      }
    },
    {
      "cell_type": "code",
      "source": [
        "np.random.seed(42)\n",
        "arr_3 = np.random.randint(10, size= [2, 3, 2])\n",
        "shape_2_3 = np.arange(4, 10).reshape([2, 3])\n",
        "shape_2 = np.array([6, 7])"
      ],
      "metadata": {
        "id": "wf8ssTwOULnV"
      },
      "execution_count": 28,
      "outputs": []
    },
    {
      "cell_type": "code",
      "source": [
        "arr_3"
      ],
      "metadata": {
        "colab": {
          "base_uri": "https://localhost:8080/"
        },
        "id": "N3-dZ4kfUj6s",
        "outputId": "9bdc4332-5666-4bed-b62d-5104eaac9a86"
      },
      "execution_count": 29,
      "outputs": [
        {
          "output_type": "execute_result",
          "data": {
            "text/plain": [
              "array([[[6, 3],\n",
              "        [7, 4],\n",
              "        [6, 9]],\n",
              "\n",
              "       [[2, 6],\n",
              "        [7, 4],\n",
              "        [3, 7]]])"
            ]
          },
          "metadata": {},
          "execution_count": 29
        }
      ]
    },
    {
      "cell_type": "code",
      "source": [
        "shape_2_3"
      ],
      "metadata": {
        "colab": {
          "base_uri": "https://localhost:8080/"
        },
        "id": "KqqJHvDmUmDT",
        "outputId": "bf448523-5f34-4217-cb4c-e928cd05368c"
      },
      "execution_count": 30,
      "outputs": [
        {
          "output_type": "execute_result",
          "data": {
            "text/plain": [
              "array([[4, 5, 6],\n",
              "       [7, 8, 9]])"
            ]
          },
          "metadata": {},
          "execution_count": 30
        }
      ]
    },
    {
      "cell_type": "code",
      "source": [
        "shape_2"
      ],
      "metadata": {
        "colab": {
          "base_uri": "https://localhost:8080/"
        },
        "id": "rZ_UCLRSUo9Z",
        "outputId": "2c2ce216-8ed4-4b9f-d615-6fb220dd71d5"
      },
      "execution_count": 31,
      "outputs": [
        {
          "output_type": "execute_result",
          "data": {
            "text/plain": [
              "array([6, 7])"
            ]
          },
          "metadata": {},
          "execution_count": 31
        }
      ]
    },
    {
      "cell_type": "code",
      "source": [
        "arr_3 == shape_2_3.reshape([2, 3, 1])"
      ],
      "metadata": {
        "colab": {
          "base_uri": "https://localhost:8080/"
        },
        "id": "a6ivrcU8Urgq",
        "outputId": "5524ac3f-e8e1-4210-c1a3-24de142a9cd7"
      },
      "execution_count": 32,
      "outputs": [
        {
          "output_type": "execute_result",
          "data": {
            "text/plain": [
              "array([[[False, False],\n",
              "        [False, False],\n",
              "        [ True, False]],\n",
              "\n",
              "       [[False, False],\n",
              "        [False, False],\n",
              "        [False, False]]])"
            ]
          },
          "metadata": {},
          "execution_count": 32
        }
      ]
    },
    {
      "cell_type": "code",
      "source": [
        "arr_3 < shape_2"
      ],
      "metadata": {
        "colab": {
          "base_uri": "https://localhost:8080/"
        },
        "id": "7YD7NtNoUzZA",
        "outputId": "e89a0492-8a44-4e2e-995b-cec402484ee2"
      },
      "execution_count": 33,
      "outputs": [
        {
          "output_type": "execute_result",
          "data": {
            "text/plain": [
              "array([[[False,  True],\n",
              "        [False,  True],\n",
              "        [False, False]],\n",
              "\n",
              "       [[ True,  True],\n",
              "        [False,  True],\n",
              "        [ True, False]]])"
            ]
          },
          "metadata": {},
          "execution_count": 33
        }
      ]
    },
    {
      "cell_type": "code",
      "source": [
        "arr_3 < shape_2[:, np.newaxis, np.newaxis]"
      ],
      "metadata": {
        "colab": {
          "base_uri": "https://localhost:8080/"
        },
        "id": "3mkT-_rRU3B2",
        "outputId": "28820054-320f-45aa-ac20-60e286c9c044"
      },
      "execution_count": 34,
      "outputs": [
        {
          "output_type": "execute_result",
          "data": {
            "text/plain": [
              "array([[[False,  True],\n",
              "        [False,  True],\n",
              "        [False, False]],\n",
              "\n",
              "       [[ True,  True],\n",
              "        [False,  True],\n",
              "        [ True, False]]])"
            ]
          },
          "metadata": {},
          "execution_count": 34
        }
      ]
    },
    {
      "cell_type": "markdown",
      "source": [
        "функции all и any."
      ],
      "metadata": {
        "id": "1Js7QiEMVH2y"
      }
    },
    {
      "cell_type": "code",
      "source": [
        "arr = np.array([1, 2, 3, 4, 5])"
      ],
      "metadata": {
        "id": "xoXJ4tkLVMCy"
      },
      "execution_count": 35,
      "outputs": []
    },
    {
      "cell_type": "code",
      "source": [
        "arr < 5"
      ],
      "metadata": {
        "colab": {
          "base_uri": "https://localhost:8080/"
        },
        "id": "rx-dNOzJVSIl",
        "outputId": "fd1b223f-bbfb-4b65-ae44-b89dc74167b4"
      },
      "execution_count": 36,
      "outputs": [
        {
          "output_type": "execute_result",
          "data": {
            "text/plain": [
              "array([ True,  True,  True,  True, False])"
            ]
          },
          "metadata": {},
          "execution_count": 36
        }
      ]
    },
    {
      "cell_type": "code",
      "source": [
        "np.all(arr < 5)"
      ],
      "metadata": {
        "colab": {
          "base_uri": "https://localhost:8080/"
        },
        "id": "W8qLtBv2VU57",
        "outputId": "77024205-2fd3-44bc-f7ae-05ccd47e7c10"
      },
      "execution_count": 37,
      "outputs": [
        {
          "output_type": "execute_result",
          "data": {
            "text/plain": [
              "False"
            ]
          },
          "metadata": {},
          "execution_count": 37
        }
      ]
    },
    {
      "cell_type": "code",
      "source": [
        "arr < 2"
      ],
      "metadata": {
        "colab": {
          "base_uri": "https://localhost:8080/"
        },
        "id": "Adm1i4ajVYsx",
        "outputId": "53103509-186b-4912-ca26-fbe430e1799f"
      },
      "execution_count": 38,
      "outputs": [
        {
          "output_type": "execute_result",
          "data": {
            "text/plain": [
              "array([ True, False, False, False, False])"
            ]
          },
          "metadata": {},
          "execution_count": 38
        }
      ]
    },
    {
      "cell_type": "code",
      "source": [
        "np.any(arr < 2)"
      ],
      "metadata": {
        "colab": {
          "base_uri": "https://localhost:8080/"
        },
        "id": "RopQPNkdVbZ2",
        "outputId": "543b8df1-22f0-40dd-f381-64672cd974b7"
      },
      "execution_count": 39,
      "outputs": [
        {
          "output_type": "execute_result",
          "data": {
            "text/plain": [
              "True"
            ]
          },
          "metadata": {},
          "execution_count": 39
        }
      ]
    },
    {
      "cell_type": "markdown",
      "source": [
        "**матрицы и вектора.**\n",
        "\n",
        "---\n",
        "\n"
      ],
      "metadata": {
        "id": "ljRpVFfgVe7H"
      }
    },
    {
      "cell_type": "code",
      "source": [
        "import numpy as np"
      ],
      "metadata": {
        "id": "e3QW1mfUViH-"
      },
      "execution_count": 40,
      "outputs": []
    },
    {
      "cell_type": "code",
      "source": [
        "np.random.seed(42)\n",
        "vector_1 = np.array([1, 2, 3, 4, 5])\n",
        "vector_2 = np.array([2, 3, 4, 5, 6 ])\n",
        "matrix_1 = np.random.randint(10, size=[3, 3])\n",
        "matrix_2 = np.random.randint(10, size=[3, 3])"
      ],
      "metadata": {
        "id": "swSUju57VmdB"
      },
      "execution_count": 41,
      "outputs": []
    },
    {
      "cell_type": "code",
      "source": [
        "vector_1"
      ],
      "metadata": {
        "colab": {
          "base_uri": "https://localhost:8080/"
        },
        "id": "t4mPcaqRWC6v",
        "outputId": "7f368d5f-2c7e-45e9-e3e8-5aa1e139e726"
      },
      "execution_count": 42,
      "outputs": [
        {
          "output_type": "execute_result",
          "data": {
            "text/plain": [
              "array([1, 2, 3, 4, 5])"
            ]
          },
          "metadata": {},
          "execution_count": 42
        }
      ]
    },
    {
      "cell_type": "code",
      "source": [
        "vector_2"
      ],
      "metadata": {
        "colab": {
          "base_uri": "https://localhost:8080/"
        },
        "id": "VsBnXFzLWGB7",
        "outputId": "52ba86be-9f4d-4ee8-f821-90bdf6a34190"
      },
      "execution_count": 43,
      "outputs": [
        {
          "output_type": "execute_result",
          "data": {
            "text/plain": [
              "array([2, 3, 4, 5, 6])"
            ]
          },
          "metadata": {},
          "execution_count": 43
        }
      ]
    },
    {
      "cell_type": "code",
      "source": [
        "matrix_1"
      ],
      "metadata": {
        "colab": {
          "base_uri": "https://localhost:8080/"
        },
        "id": "TpQku_jrWIWt",
        "outputId": "42791153-7707-4902-b2a1-f1ec03da262e"
      },
      "execution_count": 44,
      "outputs": [
        {
          "output_type": "execute_result",
          "data": {
            "text/plain": [
              "array([[6, 3, 7],\n",
              "       [4, 6, 9],\n",
              "       [2, 6, 7]])"
            ]
          },
          "metadata": {},
          "execution_count": 44
        }
      ]
    },
    {
      "cell_type": "code",
      "source": [
        "matrix_2"
      ],
      "metadata": {
        "colab": {
          "base_uri": "https://localhost:8080/"
        },
        "id": "LjlPRcW5WKri",
        "outputId": "3261519c-4063-467b-d1fe-2335bbe822bd"
      },
      "execution_count": 45,
      "outputs": [
        {
          "output_type": "execute_result",
          "data": {
            "text/plain": [
              "array([[4, 3, 7],\n",
              "       [7, 2, 5],\n",
              "       [4, 1, 7]])"
            ]
          },
          "metadata": {},
          "execution_count": 45
        }
      ]
    },
    {
      "cell_type": "markdown",
      "source": [
        "умножение векторов. скалярное произведение."
      ],
      "metadata": {
        "id": "JKz3lxXeWT2H"
      }
    },
    {
      "cell_type": "code",
      "source": [
        "np.dot(vector_1, vector_2) # 1 способ"
      ],
      "metadata": {
        "colab": {
          "base_uri": "https://localhost:8080/"
        },
        "id": "6N7Jul9jWkaB",
        "outputId": "71ef5cf1-bdd1-439d-ab5c-681e36b487c6"
      },
      "execution_count": 46,
      "outputs": [
        {
          "output_type": "execute_result",
          "data": {
            "text/plain": [
              "70"
            ]
          },
          "metadata": {},
          "execution_count": 46
        }
      ]
    },
    {
      "cell_type": "code",
      "source": [
        "vector_1 @ vector_2  # 2 способ"
      ],
      "metadata": {
        "colab": {
          "base_uri": "https://localhost:8080/"
        },
        "id": "izdMQYQ_WqT6",
        "outputId": "587dc031-35a1-4036-9fa4-fcd2c2bfcfb2"
      },
      "execution_count": 49,
      "outputs": [
        {
          "output_type": "execute_result",
          "data": {
            "text/plain": [
              "70"
            ]
          },
          "metadata": {},
          "execution_count": 49
        }
      ]
    },
    {
      "cell_type": "code",
      "source": [
        "np.inner(vector_1, vector_2)   # 3 способ"
      ],
      "metadata": {
        "colab": {
          "base_uri": "https://localhost:8080/"
        },
        "id": "SOBOpkvYWwVc",
        "outputId": "554f608f-446c-4a5e-9b9e-be0ef896398c"
      },
      "execution_count": 48,
      "outputs": [
        {
          "output_type": "execute_result",
          "data": {
            "text/plain": [
              "70"
            ]
          },
          "metadata": {},
          "execution_count": 48
        }
      ]
    },
    {
      "cell_type": "markdown",
      "source": [
        "внешнее произведение."
      ],
      "metadata": {
        "id": "1ons6kyOXCPn"
      }
    },
    {
      "cell_type": "code",
      "source": [
        "np.outer(vector_1, vector_2)"
      ],
      "metadata": {
        "colab": {
          "base_uri": "https://localhost:8080/"
        },
        "id": "3UWlF8hOXHLP",
        "outputId": "fa71e025-8e39-4038-d126-a772bca2000b"
      },
      "execution_count": 50,
      "outputs": [
        {
          "output_type": "execute_result",
          "data": {
            "text/plain": [
              "array([[ 2,  3,  4,  5,  6],\n",
              "       [ 4,  6,  8, 10, 12],\n",
              "       [ 6,  9, 12, 15, 18],\n",
              "       [ 8, 12, 16, 20, 24],\n",
              "       [10, 15, 20, 25, 30]])"
            ]
          },
          "metadata": {},
          "execution_count": 50
        }
      ]
    },
    {
      "cell_type": "markdown",
      "source": [
        "умножение матриц."
      ],
      "metadata": {
        "id": "G9TuAbBJXOmz"
      }
    },
    {
      "cell_type": "code",
      "source": [
        "np.dot(matrix_1, matrix_2) # 1 способ"
      ],
      "metadata": {
        "colab": {
          "base_uri": "https://localhost:8080/"
        },
        "id": "CenqXN0MXR0x",
        "outputId": "7954ecbb-dee7-4ba6-e7c9-58b05e5d6f31"
      },
      "execution_count": 51,
      "outputs": [
        {
          "output_type": "execute_result",
          "data": {
            "text/plain": [
              "array([[ 73,  31, 106],\n",
              "       [ 94,  33, 121],\n",
              "       [ 78,  25,  93]])"
            ]
          },
          "metadata": {},
          "execution_count": 51
        }
      ]
    },
    {
      "cell_type": "code",
      "source": [
        "np.matmul(matrix_1, matrix_2)  # 2 способ"
      ],
      "metadata": {
        "colab": {
          "base_uri": "https://localhost:8080/"
        },
        "id": "nXPls1euXZ97",
        "outputId": "009db370-9848-4ef9-d4f8-c2b9137eef2b"
      },
      "execution_count": 52,
      "outputs": [
        {
          "output_type": "execute_result",
          "data": {
            "text/plain": [
              "array([[ 73,  31, 106],\n",
              "       [ 94,  33, 121],\n",
              "       [ 78,  25,  93]])"
            ]
          },
          "metadata": {},
          "execution_count": 52
        }
      ]
    },
    {
      "cell_type": "code",
      "source": [
        "matrix_1 @ matrix_2  # 3 способ"
      ],
      "metadata": {
        "colab": {
          "base_uri": "https://localhost:8080/"
        },
        "id": "oR4YQForXiO1",
        "outputId": "1ac97d7e-47be-466a-c7f0-d466fc437be9"
      },
      "execution_count": 53,
      "outputs": [
        {
          "output_type": "execute_result",
          "data": {
            "text/plain": [
              "array([[ 73,  31, 106],\n",
              "       [ 94,  33, 121],\n",
              "       [ 78,  25,  93]])"
            ]
          },
          "metadata": {},
          "execution_count": 53
        }
      ]
    },
    {
      "cell_type": "markdown",
      "source": [
        "умножение матриц с векторами."
      ],
      "metadata": {
        "id": "9dT0KGtlXtuy"
      }
    },
    {
      "cell_type": "code",
      "source": [
        "np.random.seed(42)\n",
        "vec_1 = np.array([1, 2, 3])\n",
        "vec_2 = np.array([2, 3, 4, 5])\n",
        "mat = np.random.randint(10, size=[4, 3])"
      ],
      "metadata": {
        "id": "jCaWghxAXz6u"
      },
      "execution_count": 54,
      "outputs": []
    },
    {
      "cell_type": "code",
      "source": [
        "vec_1"
      ],
      "metadata": {
        "colab": {
          "base_uri": "https://localhost:8080/"
        },
        "id": "bWmoMjFZYG_x",
        "outputId": "22e937ef-e63f-4a44-f8cf-9010ed239fa7"
      },
      "execution_count": 55,
      "outputs": [
        {
          "output_type": "execute_result",
          "data": {
            "text/plain": [
              "array([1, 2, 3])"
            ]
          },
          "metadata": {},
          "execution_count": 55
        }
      ]
    },
    {
      "cell_type": "code",
      "source": [
        "vec_2"
      ],
      "metadata": {
        "colab": {
          "base_uri": "https://localhost:8080/"
        },
        "id": "rgolX3QWYJg_",
        "outputId": "5341641f-5a24-4b25-8b7e-a2eb5fc2a0c5"
      },
      "execution_count": 56,
      "outputs": [
        {
          "output_type": "execute_result",
          "data": {
            "text/plain": [
              "array([2, 3, 4, 5])"
            ]
          },
          "metadata": {},
          "execution_count": 56
        }
      ]
    },
    {
      "cell_type": "code",
      "source": [
        "mat"
      ],
      "metadata": {
        "colab": {
          "base_uri": "https://localhost:8080/"
        },
        "id": "Zbo7R0MqYL0C",
        "outputId": "c095c6ad-21cc-4d78-83e0-8f2365dbb53d"
      },
      "execution_count": 57,
      "outputs": [
        {
          "output_type": "execute_result",
          "data": {
            "text/plain": [
              "array([[6, 3, 7],\n",
              "       [4, 6, 9],\n",
              "       [2, 6, 7],\n",
              "       [4, 3, 7]])"
            ]
          },
          "metadata": {},
          "execution_count": 57
        }
      ]
    },
    {
      "cell_type": "code",
      "source": [
        "np.dot(vec_2, mat)  # 1 способ"
      ],
      "metadata": {
        "colab": {
          "base_uri": "https://localhost:8080/"
        },
        "id": "xNrz8oacYN7l",
        "outputId": "f0789e2b-33c9-4ca5-e94c-2803a6be9f79"
      },
      "execution_count": 58,
      "outputs": [
        {
          "output_type": "execute_result",
          "data": {
            "text/plain": [
              "array([ 52,  63, 104])"
            ]
          },
          "metadata": {},
          "execution_count": 58
        }
      ]
    },
    {
      "cell_type": "code",
      "source": [
        "vec_2 @ mat   # 2 способ"
      ],
      "metadata": {
        "colab": {
          "base_uri": "https://localhost:8080/"
        },
        "id": "NbDGgjSRYTcE",
        "outputId": "23764478-498f-43c2-a292-b4f6c96b29c0"
      },
      "execution_count": 59,
      "outputs": [
        {
          "output_type": "execute_result",
          "data": {
            "text/plain": [
              "array([ 52,  63, 104])"
            ]
          },
          "metadata": {},
          "execution_count": 59
        }
      ]
    },
    {
      "cell_type": "code",
      "source": [
        "np.dot(mat, vec_1)  # 1 способ"
      ],
      "metadata": {
        "colab": {
          "base_uri": "https://localhost:8080/"
        },
        "id": "cNeHYdyOYctZ",
        "outputId": "fcc2dc8a-5fe3-4bf7-b34f-f228da3f4b54"
      },
      "execution_count": 60,
      "outputs": [
        {
          "output_type": "execute_result",
          "data": {
            "text/plain": [
              "array([33, 43, 35, 31])"
            ]
          },
          "metadata": {},
          "execution_count": 60
        }
      ]
    },
    {
      "cell_type": "code",
      "source": [
        "mat @ vec_1   # 2 способ"
      ],
      "metadata": {
        "colab": {
          "base_uri": "https://localhost:8080/"
        },
        "id": "cz8FESrbYhDQ",
        "outputId": "a086f264-0cf2-4e02-e9b3-c15b5f485d73"
      },
      "execution_count": 61,
      "outputs": [
        {
          "output_type": "execute_result",
          "data": {
            "text/plain": [
              "array([33, 43, 35, 31])"
            ]
          },
          "metadata": {},
          "execution_count": 61
        }
      ]
    },
    {
      "cell_type": "code",
      "source": [
        "vec_1[:, np.newaxis]"
      ],
      "metadata": {
        "colab": {
          "base_uri": "https://localhost:8080/"
        },
        "id": "4rBKpu_RYkWo",
        "outputId": "a0f5fbf1-a2cf-4e50-c265-1afdf0389713"
      },
      "execution_count": 62,
      "outputs": [
        {
          "output_type": "execute_result",
          "data": {
            "text/plain": [
              "array([[1],\n",
              "       [2],\n",
              "       [3]])"
            ]
          },
          "metadata": {},
          "execution_count": 62
        }
      ]
    },
    {
      "cell_type": "code",
      "source": [
        "mat @ vec_1"
      ],
      "metadata": {
        "colab": {
          "base_uri": "https://localhost:8080/"
        },
        "id": "scnsW43EY0cy",
        "outputId": "21b2ca22-2dca-4184-ab45-dcd5f4ac7adb"
      },
      "execution_count": 63,
      "outputs": [
        {
          "output_type": "execute_result",
          "data": {
            "text/plain": [
              "array([33, 43, 35, 31])"
            ]
          },
          "metadata": {},
          "execution_count": 63
        }
      ]
    },
    {
      "cell_type": "code",
      "source": [
        "mat @ vec_1[:, np.newaxis]"
      ],
      "metadata": {
        "colab": {
          "base_uri": "https://localhost:8080/"
        },
        "id": "vQzaq0AcY3-1",
        "outputId": "2fdffa78-9253-44ba-b9e4-15de3d851070"
      },
      "execution_count": 64,
      "outputs": [
        {
          "output_type": "execute_result",
          "data": {
            "text/plain": [
              "array([[33],\n",
              "       [43],\n",
              "       [35],\n",
              "       [31]])"
            ]
          },
          "metadata": {},
          "execution_count": 64
        }
      ]
    },
    {
      "cell_type": "markdown",
      "source": [
        "элементы линейной алгебры."
      ],
      "metadata": {
        "id": "tNFEJhGIZAa7"
      }
    },
    {
      "cell_type": "code",
      "source": [
        "mat"
      ],
      "metadata": {
        "colab": {
          "base_uri": "https://localhost:8080/"
        },
        "id": "q-ibUH_3ZFQ9",
        "outputId": "dbe9b2f4-300a-4842-aa19-bab491a5cd5a"
      },
      "execution_count": 65,
      "outputs": [
        {
          "output_type": "execute_result",
          "data": {
            "text/plain": [
              "array([[6, 3, 7],\n",
              "       [4, 6, 9],\n",
              "       [2, 6, 7],\n",
              "       [4, 3, 7]])"
            ]
          },
          "metadata": {},
          "execution_count": 65
        }
      ]
    },
    {
      "cell_type": "code",
      "source": [
        "np.linalg.matrix_rank(mat)  # ранг матрицы"
      ],
      "metadata": {
        "colab": {
          "base_uri": "https://localhost:8080/"
        },
        "id": "Ukv4fHJSZHWW",
        "outputId": "e0cca6d1-05d5-427f-cfff-b56adccee12b"
      },
      "execution_count": 66,
      "outputs": [
        {
          "output_type": "execute_result",
          "data": {
            "text/plain": [
              "3"
            ]
          },
          "metadata": {},
          "execution_count": 66
        }
      ]
    },
    {
      "cell_type": "code",
      "source": [
        "np.trace(mat)  # след матрицы"
      ],
      "metadata": {
        "colab": {
          "base_uri": "https://localhost:8080/"
        },
        "id": "5JoQBS2SZQZa",
        "outputId": "6c3e8254-52bd-4aad-e1b9-8515cbfa3d60"
      },
      "execution_count": 67,
      "outputs": [
        {
          "output_type": "execute_result",
          "data": {
            "text/plain": [
              "19"
            ]
          },
          "metadata": {},
          "execution_count": 67
        }
      ]
    },
    {
      "cell_type": "code",
      "source": [
        "np.linalg.det(mat[:3])  # определитель матрицы"
      ],
      "metadata": {
        "colab": {
          "base_uri": "https://localhost:8080/"
        },
        "id": "tkHeZc0kZW9j",
        "outputId": "8b679e4b-01c4-43df-cd96-350e7ba6d5ae"
      },
      "execution_count": 68,
      "outputs": [
        {
          "output_type": "execute_result",
          "data": {
            "text/plain": [
              "-17.999999999999982"
            ]
          },
          "metadata": {},
          "execution_count": 68
        }
      ]
    },
    {
      "cell_type": "code",
      "source": [
        "np.linalg.eig(mat[:3])  # собственные значения и собственные вектора матрицы"
      ],
      "metadata": {
        "colab": {
          "base_uri": "https://localhost:8080/"
        },
        "id": "lXVcMha-Zfv3",
        "outputId": "37975b6d-9eb5-4a59-a44e-5203c721b324"
      },
      "execution_count": 69,
      "outputs": [
        {
          "output_type": "execute_result",
          "data": {
            "text/plain": [
              "EigResult(eigenvalues=array([16.51140818,  2.86861967, -0.38002785]), eigenvectors=array([[-0.5387936 , -0.91751959, -0.39475616],\n",
              "       [-0.65676705,  0.03294597, -0.65762723],\n",
              "       [-0.5275969 ,  0.39632355,  0.64163385]]))"
            ]
          },
          "metadata": {},
          "execution_count": 69
        }
      ]
    },
    {
      "cell_type": "code",
      "source": [
        "np.linalg.inv(mat[:3])  # обратная матрица"
      ],
      "metadata": {
        "colab": {
          "base_uri": "https://localhost:8080/"
        },
        "id": "sczkbmSlZsly",
        "outputId": "9a2f5691-a3d4-49d3-97aa-2d5e5185f63a"
      },
      "execution_count": 70,
      "outputs": [
        {
          "output_type": "execute_result",
          "data": {
            "text/plain": [
              "array([[ 0.66666667, -1.16666667,  0.83333333],\n",
              "       [ 0.55555556, -1.55555556,  1.44444444],\n",
              "       [-0.66666667,  1.66666667, -1.33333333]])"
            ]
          },
          "metadata": {},
          "execution_count": 70
        }
      ]
    },
    {
      "cell_type": "code",
      "source": [
        "np.linalg.svd(mat)  # сингулярное разложение"
      ],
      "metadata": {
        "colab": {
          "base_uri": "https://localhost:8080/"
        },
        "id": "XCJT4XSmZ1fm",
        "outputId": "d47624f0-0c77-4af1-98e9-b28ece4429d4"
      },
      "execution_count": 71,
      "outputs": [
        {
          "output_type": "execute_result",
          "data": {
            "text/plain": [
              "SVDResult(U=array([[-0.48238838,  0.67508291, -0.54741187,  0.10910895],\n",
              "       [-0.59357851, -0.24369715,  0.07030585, -0.76376262],\n",
              "       [-0.47059808, -0.64033725, -0.26624538,  0.54554473],\n",
              "       [-0.43989027,  0.27357443,  0.79025991,  0.32732684]]), S=array([19.36614032,  3.7937295 ,  0.74848217]), Vh=array([[-0.41151212, -0.47257199, -0.77931604],\n",
              "       [ 0.76160729, -0.64797304, -0.00923466],\n",
              "       [-0.50061174, -0.59733295,  0.62656304]]))"
            ]
          },
          "metadata": {},
          "execution_count": 71
        }
      ]
    }
  ]
}